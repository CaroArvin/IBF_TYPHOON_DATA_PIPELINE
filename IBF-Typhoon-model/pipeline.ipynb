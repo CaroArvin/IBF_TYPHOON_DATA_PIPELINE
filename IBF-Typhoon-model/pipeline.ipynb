{
 "cells": [
  {
   "cell_type": "code",
   "execution_count": 1,
   "metadata": {},
   "outputs": [],
   "source": [
    "import time\n",
    "import ftplib\n",
    "import os\n",
    "import sys\n",
    "from datetime import datetime, timedelta\n",
    "from sys import platform\n",
    "import subprocess\n",
    "import logging\n",
    "import traceback\n",
    "from pathlib import Path\n",
    "from azure.storage.file import FileService\n",
    "from azure.storage.file import ContentSettings\n",
    "\n",
    "import pandas as pd\n",
    "from pybufrkit.decoder import Decoder\n",
    "import numpy as np\n",
    "from geopandas.tools import sjoin\n",
    "import geopandas as gpd\n",
    "import json\n",
    "import requests\n",
    "from fiona.crs import from_epsg\n",
    "from shapely.geometry import Point, Polygon, MultiPolygon, box\n",
    "\n",
    "\n",
    "from sklearn.model_selection import (\n",
    "    GridSearchCV,\n",
    "    RandomizedSearchCV,\n",
    "    StratifiedKFold,\n",
    "    train_test_split,\n",
    "    KFold)\n",
    " \n",
    "from xgboost.sklearn import XGBRegressor\n",
    "from sklearn.metrics import (\n",
    "    mean_absolute_error, \n",
    "    mean_squared_error,\n",
    "    recall_score,\n",
    "    f1_score,\n",
    "    precision_score,\n",
    "    confusion_matrix,\n",
    "    make_scorer)\n",
    "\n",
    "import xgboost as xgb\n",
    "import glob\n",
    "path=os.getcwd()\n",
    "os.chdir('./src')"
   ]
  },
  {
   "cell_type": "code",
   "execution_count": 2,
   "metadata": {},
   "outputs": [
    {
     "name": "stderr",
     "output_type": "stream",
     "text": [
      "c:\\Users\\ATeklesadik\\Miniconda3\\envs\\geo_env\\lib\\site-packages\\dask\\dataframe\\backends.py:189: FutureWarning: pandas.Int64Index is deprecated and will be removed from pandas in a future version. Use pandas.Index with the appropriate dtype instead.\n",
      "  _numeric_index_types = (pd.Int64Index, pd.Float64Index, pd.UInt64Index)\n",
      "c:\\Users\\ATeklesadik\\Miniconda3\\envs\\geo_env\\lib\\site-packages\\dask\\dataframe\\backends.py:189: FutureWarning: pandas.Float64Index is deprecated and will be removed from pandas in a future version. Use pandas.Index with the appropriate dtype instead.\n",
      "  _numeric_index_types = (pd.Int64Index, pd.Float64Index, pd.UInt64Index)\n",
      "c:\\Users\\ATeklesadik\\Miniconda3\\envs\\geo_env\\lib\\site-packages\\dask\\dataframe\\backends.py:189: FutureWarning: pandas.UInt64Index is deprecated and will be removed from pandas in a future version. Use pandas.Index with the appropriate dtype instead.\n",
      "  _numeric_index_types = (pd.Int64Index, pd.Float64Index, pd.UInt64Index)\n",
      "c:\\Users\\ATeklesadik\\Miniconda3\\envs\\geo_env\\lib\\site-packages\\statsmodels\\tsa\\base\\tsa_model.py:7: FutureWarning: pandas.Int64Index is deprecated and will be removed from pandas in a future version. Use pandas.Index with the appropriate dtype instead.\n",
      "  from pandas import (to_datetime, Int64Index, DatetimeIndex, Period,\n",
      "c:\\Users\\ATeklesadik\\Miniconda3\\envs\\geo_env\\lib\\site-packages\\statsmodels\\tsa\\base\\tsa_model.py:7: FutureWarning: pandas.Float64Index is deprecated and will be removed from pandas in a future version. Use pandas.Index with the appropriate dtype instead.\n",
      "  from pandas import (to_datetime, Int64Index, DatetimeIndex, Period,\n"
     ]
    },
    {
     "name": "stdout",
     "output_type": "stream",
     "text": [
      "No environment variables found.\n"
     ]
    }
   ],
   "source": [
    "from climada.hazard import Centroids, TropCyclone,TCTracks\n",
    "from climada.hazard.tc_tracks_forecast import TCForecast\n",
    "from typhoonmodel.utility_fun import track_data_clean, Check_for_active_typhoon, Sendemail, ucl_data, plot_intensity, initialize\n",
    "\n",
    "if platform == \"linux\" or platform == \"linux2\": #check if running on linux or windows os\n",
    "    from typhoonmodel.utility_fun import Rainfall_data\n",
    "elif platform == \"win32\":\n",
    "    from typhoonmodel.utility_fun import Rainfall_data_window as Rainfall_data\n",
    "from typhoonmodel.utility_fun.forecast_process import Forecast\n",
    "\n",
    "decoder = Decoder()\n",
    "from climada.util import coordinates  \n",
    "from typhoonmodel.utility_fun.settings import *\n",
    "from typhoonmodel.utility_fun.dynamicDataDb import DatabaseManager\n",
    "\n",
    "from climada.util import coordinates \n",
    "\n",
    "initialize.setup_logger()\n",
    "logger = logging.getLogger(__name__)\n",
    "\n"
   ]
  },
  {
   "cell_type": "code",
   "execution_count": 3,
   "metadata": {},
   "outputs": [],
   "source": [
    "os.chdir(path)"
   ]
  },
  {
   "cell_type": "code",
   "execution_count": 4,
   "metadata": {},
   "outputs": [
    {
     "data": {
      "text/plain": [
       "'c:\\\\Users\\\\ATeklesadik\\\\OneDrive - Rode Kruis\\\\Documents\\\\documents\\\\IBF_TYPHOON_DATA_PIPELINE\\\\IBF-Typhoon-model'"
      ]
     },
     "execution_count": 4,
     "metadata": {},
     "output_type": "execute_result"
    }
   ],
   "source": [
    "os.getcwd()"
   ]
  },
  {
   "cell_type": "code",
   "execution_count": 5,
   "metadata": {},
   "outputs": [
    {
     "name": "stderr",
     "output_type": "stream",
     "text": [
      "2022-08-26 10:19:14,507 : INFO : running piepline for PHL\n"
     ]
    },
    {
     "name": "stdout",
     "output_type": "stream",
     "text": [
      "---------------------AUTOMATION SCRIPT STARTED---------------------------------\n",
      "2022-08-26 10:19:14.506169\n"
     ]
    }
   ],
   "source": [
    " \n",
    "initialize.setup_cartopy()\n",
    "start_time = datetime.now()\n",
    "############## Defult variables which will be updated if a typhoon is active \n",
    "print('---------------------AUTOMATION SCRIPT STARTED---------------------------------')\n",
    "print(str(start_time))\n",
    "\n",
    "for countryCodeISO3 in countryCodes:\n",
    "    logger.info(f\"running piepline for {countryCodeISO3}\")  \n",
    "    admin_level=SETTINGS_SECRET[countryCodeISO3][\"admin_level\"]\n",
    "    mock=SETTINGS_SECRET[countryCodeISO3][\"mock\"]\n",
    "    mock_nontrigger_typhoon_event=SETTINGS_SECRET[countryCodeISO3][\"mock_nontrigger_typhoon_event\"]\n",
    "    mock_trigger_typhoon_event=SETTINGS_SECRET[countryCodeISO3][\"mock_trigger_typhoon_event\"]\n",
    "    mock_trigger=SETTINGS_SECRET[countryCodeISO3][\"if_mock_trigger\"]\n"
   ]
  },
  {
   "cell_type": "code",
   "execution_count": 6,
   "metadata": {},
   "outputs": [
    {
     "name": "stderr",
     "output_type": "stream",
     "text": [
      "c:\\Users\\ATeklesadik\\Miniconda3\\envs\\geo_env\\lib\\site-packages\\geopandas\\geoseries.py:207: FutureWarning: The default dtype for empty Series will be 'object' instead of 'float64' in a future version. Specify a dtype explicitly to silence this warning.\n",
      "  s = pd.Series(data, index=index, name=name, **kwargs)\n",
      "c:\\Users\\ATeklesadik\\Miniconda3\\envs\\geo_env\\lib\\site-packages\\geopandas\\geoseries.py:207: FutureWarning: The default dtype for empty Series will be 'object' instead of 'float64' in a future version. Specify a dtype explicitly to silence this warning.\n",
      "  s = pd.Series(data, index=index, name=name, **kwargs)\n",
      "2022-08-26 10:19:26,856 : INFO : Downloading ECMWF typhoon tracks\n"
     ]
    },
    {
     "name": "stdout",
     "output_type": "stream",
     "text": [
      "2022-08-26 10:19:28,051 - climada.hazard.tc_tracks_forecast - INFO - Fetching BUFR tracks:\n"
     ]
    },
    {
     "name": "stderr",
     "output_type": "stream",
     "text": [
      "Download: 100%|██████████| 45/45 [00:10<00:00,  4.36 files/s]\n",
      "Processing:   0%|          | 0/45 [00:00<?, ?files/s]2022-08-26 10:19:38,418 : INFO : Configure Section 0 of edition default\n",
      "2022-08-26 10:19:38,419 : INFO : Configure Section 1 of edition 4\n",
      "2022-08-26 10:19:38,422 : INFO : Configure Section 2 of edition 4\n",
      "2022-08-26 10:19:38,424 : INFO : Configure Section 3 of edition 4\n",
      "2022-08-26 10:19:38,425 : INFO : Configure Section 4 of edition 4\n",
      "2022-08-26 10:19:38,778 : INFO : Configure Section 5 of edition 4\n",
      "Processing:   2%|▏         | 1/45 [00:00<00:20,  2.11files/s]2022-08-26 10:19:38,880 : INFO : Configure Section 0 of edition default\n",
      "2022-08-26 10:19:38,881 : INFO : Configure Section 1 of edition 4\n",
      "2022-08-26 10:19:38,883 : INFO : Configure Section 2 of edition 4\n",
      "2022-08-26 10:19:38,884 : INFO : Configure Section 3 of edition 4\n",
      "2022-08-26 10:19:38,886 : INFO : Configure Section 4 of edition 4\n",
      "2022-08-26 10:19:40,225 : INFO : Configure Section 5 of edition 4\n",
      "Processing:   4%|▍         | 2/45 [00:02<01:02,  1.45s/files]2022-08-26 10:19:41,011 : INFO : Configure Section 0 of edition default\n",
      "2022-08-26 10:19:41,013 : INFO : Configure Section 1 of edition 4\n",
      "2022-08-26 10:19:41,015 : INFO : Configure Section 2 of edition 4\n",
      "2022-08-26 10:19:41,016 : INFO : Configure Section 3 of edition 4\n",
      "2022-08-26 10:19:41,017 : INFO : Configure Section 4 of edition 4\n",
      "2022-08-26 10:19:41,310 : INFO : Configure Section 5 of edition 4\n",
      "Processing:   7%|▋         | 3/45 [00:02<00:40,  1.04files/s]2022-08-26 10:19:41,396 : INFO : Configure Section 0 of edition default\n",
      "2022-08-26 10:19:41,397 : INFO : Configure Section 1 of edition 4\n",
      "2022-08-26 10:19:41,400 : INFO : Configure Section 2 of edition 4\n",
      "2022-08-26 10:19:41,401 : INFO : Configure Section 3 of edition 4\n",
      "2022-08-26 10:19:41,403 : INFO : Configure Section 4 of edition 4\n",
      "2022-08-26 10:19:41,975 : INFO : Configure Section 5 of edition 4\n",
      "Processing:   9%|▉         | 4/45 [00:03<00:37,  1.08files/s]2022-08-26 10:19:42,254 : INFO : Configure Section 0 of edition default\n",
      "2022-08-26 10:19:42,255 : INFO : Configure Section 1 of edition 4\n",
      "2022-08-26 10:19:42,258 : INFO : Configure Section 2 of edition 4\n",
      "2022-08-26 10:19:42,259 : INFO : Configure Section 3 of edition 4\n",
      "2022-08-26 10:19:42,260 : INFO : Configure Section 4 of edition 4\n",
      "2022-08-26 10:19:43,193 : INFO : Configure Section 5 of edition 4\n",
      "Processing:  11%|█         | 5/45 [00:05<00:45,  1.14s/files]2022-08-26 10:19:43,792 : INFO : Configure Section 0 of edition default\n",
      "2022-08-26 10:19:43,793 : INFO : Configure Section 1 of edition 4\n",
      "2022-08-26 10:19:43,796 : INFO : Configure Section 2 of edition 4\n",
      "2022-08-26 10:19:43,797 : INFO : Configure Section 3 of edition 4\n",
      "2022-08-26 10:19:43,799 : INFO : Configure Section 4 of edition 4\n",
      "2022-08-26 10:19:46,083 : INFO : Configure Section 5 of edition 4\n",
      "Processing:  13%|█▎        | 6/45 [00:09<01:18,  2.01s/files]2022-08-26 10:19:47,475 : INFO : Configure Section 0 of edition default\n",
      "2022-08-26 10:19:47,476 : INFO : Configure Section 1 of edition 4\n",
      "2022-08-26 10:19:47,479 : INFO : Configure Section 2 of edition 4\n",
      "2022-08-26 10:19:47,481 : INFO : Configure Section 3 of edition 4\n",
      "2022-08-26 10:19:47,483 : INFO : Configure Section 4 of edition 4\n",
      "2022-08-26 10:19:51,761 : INFO : Configure Section 5 of edition 4\n",
      "Processing:  16%|█▌        | 7/45 [00:16<02:19,  3.68s/files]2022-08-26 10:19:54,587 : INFO : Configure Section 0 of edition default\n",
      "2022-08-26 10:19:54,588 : INFO : Configure Section 1 of edition 4\n",
      "2022-08-26 10:19:54,590 : INFO : Configure Section 2 of edition 4\n",
      "2022-08-26 10:19:54,592 : INFO : Configure Section 3 of edition 4\n",
      "2022-08-26 10:19:54,593 : INFO : Configure Section 4 of edition 4\n",
      "2022-08-26 10:19:54,908 : INFO : Configure Section 5 of edition 4\n",
      "Processing:  18%|█▊        | 8/45 [00:16<01:37,  2.64s/files]2022-08-26 10:19:54,997 : INFO : Configure Section 0 of edition default\n",
      "2022-08-26 10:19:54,998 : INFO : Configure Section 1 of edition 4\n",
      "2022-08-26 10:19:55,001 : INFO : Configure Section 2 of edition 4\n",
      "2022-08-26 10:19:55,002 : INFO : Configure Section 3 of edition 4\n",
      "2022-08-26 10:19:55,004 : INFO : Configure Section 4 of edition 4\n",
      "2022-08-26 10:19:55,555 : INFO : Configure Section 5 of edition 4\n",
      "Processing:  20%|██        | 9/45 [00:17<01:14,  2.06s/files]2022-08-26 10:19:55,787 : INFO : Configure Section 0 of edition default\n",
      "2022-08-26 10:19:55,788 : INFO : Configure Section 1 of edition 4\n",
      "2022-08-26 10:19:55,791 : INFO : Configure Section 2 of edition 4\n",
      "2022-08-26 10:19:55,792 : INFO : Configure Section 3 of edition 4\n",
      "2022-08-26 10:19:55,794 : INFO : Configure Section 4 of edition 4\n",
      "2022-08-26 10:19:57,663 : INFO : Configure Section 5 of edition 4\n",
      "Processing:  22%|██▏       | 10/45 [00:20<01:21,  2.34s/files]2022-08-26 10:19:58,746 : INFO : Configure Section 0 of edition default\n",
      "2022-08-26 10:19:58,747 : INFO : Configure Section 1 of edition 4\n",
      "2022-08-26 10:19:58,750 : INFO : Configure Section 2 of edition 4\n",
      "2022-08-26 10:19:58,751 : INFO : Configure Section 3 of edition 4\n",
      "2022-08-26 10:19:58,753 : INFO : Configure Section 4 of edition 4\n",
      "2022-08-26 10:20:03,095 : INFO : Configure Section 5 of edition 4\n",
      "Processing:  24%|██▍       | 11/45 [00:27<02:09,  3.82s/files]2022-08-26 10:20:05,924 : INFO : Configure Section 0 of edition default\n",
      "2022-08-26 10:20:05,925 : INFO : Configure Section 1 of edition 4\n",
      "2022-08-26 10:20:05,928 : INFO : Configure Section 2 of edition 4\n",
      "2022-08-26 10:20:05,929 : INFO : Configure Section 3 of edition 4\n",
      "2022-08-26 10:20:05,931 : INFO : Configure Section 4 of edition 4\n",
      "2022-08-26 10:20:07,516 : INFO : Configure Section 5 of edition 4\n",
      "Processing:  27%|██▋       | 12/45 [00:29<01:52,  3.40s/files]2022-08-26 10:20:08,350 : INFO : Configure Section 0 of edition default\n",
      "2022-08-26 10:20:08,351 : INFO : Configure Section 1 of edition 4\n",
      "2022-08-26 10:20:08,354 : INFO : Configure Section 2 of edition 4\n",
      "2022-08-26 10:20:08,355 : INFO : Configure Section 3 of edition 4\n",
      "2022-08-26 10:20:08,356 : INFO : Configure Section 4 of edition 4\n",
      "2022-08-26 10:20:10,178 : INFO : Configure Section 5 of edition 4\n",
      "Processing:  29%|██▉       | 13/45 [00:33<01:48,  3.38s/files]2022-08-26 10:20:11,688 : INFO : Configure Section 0 of edition default\n",
      "2022-08-26 10:20:11,689 : INFO : Configure Section 1 of edition 4\n",
      "2022-08-26 10:20:11,691 : INFO : Configure Section 2 of edition 4\n",
      "2022-08-26 10:20:11,692 : INFO : Configure Section 3 of edition 4\n",
      "2022-08-26 10:20:11,693 : INFO : Configure Section 4 of edition 4\n",
      "2022-08-26 10:20:12,792 : INFO : Configure Section 5 of edition 4\n",
      "Processing:  31%|███       | 14/45 [00:35<01:31,  2.94s/files]2022-08-26 10:20:13,624 : INFO : Configure Section 0 of edition default\n",
      "2022-08-26 10:20:13,624 : INFO : Configure Section 1 of edition 4\n",
      "2022-08-26 10:20:13,628 : INFO : Configure Section 2 of edition 4\n",
      "2022-08-26 10:20:13,630 : INFO : Configure Section 3 of edition 4\n",
      "2022-08-26 10:20:13,631 : INFO : Configure Section 4 of edition 4\n",
      "2022-08-26 10:20:14,029 : INFO : Configure Section 5 of edition 4\n",
      "Processing:  33%|███▎      | 15/45 [00:35<01:06,  2.22s/files]2022-08-26 10:20:14,183 : INFO : Configure Section 0 of edition default\n",
      "2022-08-26 10:20:14,185 : INFO : Configure Section 1 of edition 4\n",
      "2022-08-26 10:20:14,190 : INFO : Configure Section 2 of edition 4\n",
      "2022-08-26 10:20:14,192 : INFO : Configure Section 3 of edition 4\n",
      "2022-08-26 10:20:14,195 : INFO : Configure Section 4 of edition 4\n",
      "2022-08-26 10:20:14,769 : INFO : Configure Section 5 of edition 4\n",
      "Processing:  36%|███▌      | 16/45 [00:36<00:52,  1.81s/files]2022-08-26 10:20:15,019 : INFO : Configure Section 0 of edition default\n",
      "2022-08-26 10:20:15,020 : INFO : Configure Section 1 of edition 4\n",
      "2022-08-26 10:20:15,022 : INFO : Configure Section 2 of edition 4\n",
      "2022-08-26 10:20:15,023 : INFO : Configure Section 3 of edition 4\n",
      "2022-08-26 10:20:15,025 : INFO : Configure Section 4 of edition 4\n",
      "2022-08-26 10:20:15,845 : INFO : Configure Section 5 of edition 4\n",
      "Processing:  38%|███▊      | 17/45 [00:37<00:45,  1.64s/files]2022-08-26 10:20:16,277 : INFO : Configure Section 0 of edition default\n",
      "2022-08-26 10:20:16,279 : INFO : Configure Section 1 of edition 4\n",
      "2022-08-26 10:20:16,281 : INFO : Configure Section 2 of edition 4\n",
      "2022-08-26 10:20:16,282 : INFO : Configure Section 3 of edition 4\n",
      "2022-08-26 10:20:16,283 : INFO : Configure Section 4 of edition 4\n",
      "2022-08-26 10:20:20,617 : INFO : Configure Section 5 of edition 4\n",
      "Processing:  40%|████      | 18/45 [00:45<01:29,  3.32s/files]2022-08-26 10:20:23,512 : INFO : Configure Section 0 of edition default\n",
      "2022-08-26 10:20:23,513 : INFO : Configure Section 1 of edition 4\n",
      "2022-08-26 10:20:23,516 : INFO : Configure Section 2 of edition 4\n",
      "2022-08-26 10:20:23,518 : INFO : Configure Section 3 of edition 4\n",
      "2022-08-26 10:20:23,520 : INFO : Configure Section 4 of edition 4\n",
      "2022-08-26 10:20:24,488 : INFO : Configure Section 5 of edition 4\n",
      "Processing:  42%|████▏     | 19/45 [00:46<01:12,  2.77s/files]2022-08-26 10:20:25,004 : INFO : Configure Section 0 of edition default\n",
      "2022-08-26 10:20:25,005 : INFO : Configure Section 1 of edition 4\n",
      "2022-08-26 10:20:25,008 : INFO : Configure Section 2 of edition 4\n",
      "2022-08-26 10:20:25,009 : INFO : Configure Section 3 of edition 4\n",
      "2022-08-26 10:20:25,012 : INFO : Configure Section 4 of edition 4\n",
      "2022-08-26 10:20:29,076 : INFO : Configure Section 5 of edition 4\n",
      "Processing:  44%|████▍     | 20/45 [00:53<01:38,  3.94s/files]2022-08-26 10:20:31,685 : INFO : Configure Section 0 of edition default\n",
      "2022-08-26 10:20:31,687 : INFO : Configure Section 1 of edition 4\n",
      "2022-08-26 10:20:31,691 : INFO : Configure Section 2 of edition 4\n",
      "2022-08-26 10:20:31,693 : INFO : Configure Section 3 of edition 4\n",
      "2022-08-26 10:20:31,695 : INFO : Configure Section 4 of edition 4\n",
      "2022-08-26 10:20:32,128 : INFO : Configure Section 5 of edition 4\n",
      "Processing:  47%|████▋     | 21/45 [00:53<01:10,  2.94s/files]2022-08-26 10:20:32,293 : INFO : Configure Section 0 of edition default\n",
      "2022-08-26 10:20:32,295 : INFO : Configure Section 1 of edition 4\n",
      "2022-08-26 10:20:32,297 : INFO : Configure Section 2 of edition 4\n",
      "2022-08-26 10:20:32,299 : INFO : Configure Section 3 of edition 4\n",
      "2022-08-26 10:20:32,300 : INFO : Configure Section 4 of edition 4\n",
      "2022-08-26 10:20:32,952 : INFO : Configure Section 5 of edition 4\n",
      "Processing:  49%|████▉     | 22/45 [00:54<00:54,  2.35s/files]2022-08-26 10:20:33,255 : INFO : Configure Section 0 of edition default\n",
      "2022-08-26 10:20:33,256 : INFO : Configure Section 1 of edition 4\n",
      "2022-08-26 10:20:33,258 : INFO : Configure Section 2 of edition 4\n",
      "2022-08-26 10:20:33,259 : INFO : Configure Section 3 of edition 4\n",
      "2022-08-26 10:20:33,261 : INFO : Configure Section 4 of edition 4\n",
      "2022-08-26 10:20:34,320 : INFO : Configure Section 5 of edition 4\n",
      "Processing:  51%|█████     | 23/45 [00:56<00:47,  2.18s/files]2022-08-26 10:20:35,024 : INFO : Configure Section 0 of edition default\n",
      "2022-08-26 10:20:35,025 : INFO : Configure Section 1 of edition 4\n",
      "2022-08-26 10:20:35,028 : INFO : Configure Section 2 of edition 4\n",
      "2022-08-26 10:20:35,029 : INFO : Configure Section 3 of edition 4\n",
      "2022-08-26 10:20:35,031 : INFO : Configure Section 4 of edition 4\n",
      "2022-08-26 10:20:37,281 : INFO : Configure Section 5 of edition 4\n",
      "Processing:  53%|█████▎    | 24/45 [01:00<00:56,  2.68s/files]2022-08-26 10:20:38,866 : INFO : Configure Section 0 of edition default\n",
      "2022-08-26 10:20:38,867 : INFO : Configure Section 1 of edition 4\n",
      "2022-08-26 10:20:38,870 : INFO : Configure Section 2 of edition 4\n",
      "2022-08-26 10:20:38,871 : INFO : Configure Section 3 of edition 4\n",
      "2022-08-26 10:20:38,873 : INFO : Configure Section 4 of edition 4\n",
      "2022-08-26 10:20:42,251 : INFO : Configure Section 5 of edition 4\n",
      "Processing:  56%|█████▌    | 25/45 [01:06<01:10,  3.54s/files]2022-08-26 10:20:44,412 : INFO : Configure Section 0 of edition default\n",
      "2022-08-26 10:20:44,413 : INFO : Configure Section 1 of edition 4\n",
      "2022-08-26 10:20:44,416 : INFO : Configure Section 2 of edition 4\n",
      "2022-08-26 10:20:44,418 : INFO : Configure Section 3 of edition 4\n",
      "2022-08-26 10:20:44,419 : INFO : Configure Section 4 of edition 4\n",
      "2022-08-26 10:20:49,531 : INFO : Configure Section 5 of edition 4\n",
      "Processing:  58%|█████▊    | 26/45 [01:14<01:35,  5.01s/files]2022-08-26 10:20:52,855 : INFO : Configure Section 0 of edition default\n",
      "2022-08-26 10:20:52,856 : INFO : Configure Section 1 of edition 4\n",
      "2022-08-26 10:20:52,859 : INFO : Configure Section 2 of edition 4\n",
      "2022-08-26 10:20:52,860 : INFO : Configure Section 3 of edition 4\n",
      "2022-08-26 10:20:52,862 : INFO : Configure Section 4 of edition 4\n",
      "2022-08-26 10:20:58,472 : INFO : Configure Section 5 of edition 4\n",
      "Processing:  60%|██████    | 27/45 [01:23<01:53,  6.30s/files]2022-08-26 10:21:02,174 : INFO : Configure Section 0 of edition default\n",
      "2022-08-26 10:21:02,175 : INFO : Configure Section 1 of edition 4\n",
      "2022-08-26 10:21:02,177 : INFO : Configure Section 2 of edition 4\n",
      "2022-08-26 10:21:02,179 : INFO : Configure Section 3 of edition 4\n",
      "2022-08-26 10:21:02,180 : INFO : Configure Section 4 of edition 4\n",
      "2022-08-26 10:21:08,159 : INFO : Configure Section 5 of edition 4\n",
      "Processing:  62%|██████▏   | 28/45 [01:33<02:06,  7.42s/files]2022-08-26 10:21:12,195 : INFO : Configure Section 0 of edition default\n",
      "2022-08-26 10:21:12,196 : INFO : Configure Section 1 of edition 4\n",
      "2022-08-26 10:21:12,199 : INFO : Configure Section 2 of edition 4\n",
      "2022-08-26 10:21:12,201 : INFO : Configure Section 3 of edition 4\n",
      "2022-08-26 10:21:12,203 : INFO : Configure Section 4 of edition 4\n",
      "2022-08-26 10:21:18,176 : INFO : Configure Section 5 of edition 4\n",
      "Processing:  64%|██████▍   | 29/45 [01:43<02:10,  8.19s/files]2022-08-26 10:21:22,178 : INFO : Configure Section 0 of edition default\n",
      "2022-08-26 10:21:22,179 : INFO : Configure Section 1 of edition 4\n",
      "2022-08-26 10:21:22,182 : INFO : Configure Section 2 of edition 4\n",
      "2022-08-26 10:21:22,183 : INFO : Configure Section 3 of edition 4\n",
      "2022-08-26 10:21:22,185 : INFO : Configure Section 4 of edition 4\n",
      "2022-08-26 10:21:22,463 : INFO : Configure Section 5 of edition 4\n",
      "Processing:  67%|██████▋   | 30/45 [01:44<01:27,  5.84s/files]2022-08-26 10:21:22,546 : INFO : Configure Section 0 of edition default\n",
      "2022-08-26 10:21:22,547 : INFO : Configure Section 1 of edition 4\n",
      "2022-08-26 10:21:22,550 : INFO : Configure Section 2 of edition 4\n",
      "2022-08-26 10:21:22,551 : INFO : Configure Section 3 of edition 4\n",
      "2022-08-26 10:21:22,553 : INFO : Configure Section 4 of edition 4\n",
      "2022-08-26 10:21:23,450 : INFO : Configure Section 5 of edition 4\n",
      "Processing:  69%|██████▉   | 31/45 [01:45<01:03,  4.53s/files]2022-08-26 10:21:24,001 : INFO : Configure Section 0 of edition default\n",
      "2022-08-26 10:21:24,002 : INFO : Configure Section 1 of edition 4\n",
      "2022-08-26 10:21:24,005 : INFO : Configure Section 2 of edition 4\n",
      "2022-08-26 10:21:24,006 : INFO : Configure Section 3 of edition 4\n",
      "2022-08-26 10:21:24,008 : INFO : Configure Section 4 of edition 4\n",
      "2022-08-26 10:21:25,778 : INFO : Configure Section 5 of edition 4\n",
      "Processing:  71%|███████   | 32/45 [01:48<00:52,  4.00s/files]2022-08-26 10:21:26,781 : INFO : Configure Section 0 of edition default\n",
      "2022-08-26 10:21:26,782 : INFO : Configure Section 1 of edition 4\n",
      "2022-08-26 10:21:26,784 : INFO : Configure Section 2 of edition 4\n",
      "2022-08-26 10:21:26,785 : INFO : Configure Section 3 of edition 4\n",
      "2022-08-26 10:21:26,787 : INFO : Configure Section 4 of edition 4\n",
      "2022-08-26 10:21:29,981 : INFO : Configure Section 5 of edition 4\n",
      "Processing:  73%|███████▎  | 33/45 [01:53<00:52,  4.36s/files]2022-08-26 10:21:31,988 : INFO : Configure Section 0 of edition default\n",
      "2022-08-26 10:21:31,991 : INFO : Configure Section 1 of edition 4\n",
      "2022-08-26 10:21:31,994 : INFO : Configure Section 2 of edition 4\n",
      "2022-08-26 10:21:31,996 : INFO : Configure Section 3 of edition 4\n",
      "2022-08-26 10:21:31,998 : INFO : Configure Section 4 of edition 4\n",
      "2022-08-26 10:21:37,373 : INFO : Configure Section 5 of edition 4\n",
      "Processing:  76%|███████▌  | 34/45 [02:02<01:03,  5.80s/files]2022-08-26 10:21:41,154 : INFO : Configure Section 0 of edition default\n",
      "2022-08-26 10:21:41,156 : INFO : Configure Section 1 of edition 4\n",
      "2022-08-26 10:21:41,158 : INFO : Configure Section 2 of edition 4\n",
      "2022-08-26 10:21:41,159 : INFO : Configure Section 3 of edition 4\n",
      "2022-08-26 10:21:41,161 : INFO : Configure Section 4 of edition 4\n",
      "2022-08-26 10:21:41,476 : INFO : Configure Section 5 of edition 4\n",
      "Processing:  78%|███████▊  | 35/45 [02:03<00:41,  4.19s/files]2022-08-26 10:21:41,566 : INFO : Configure Section 0 of edition default\n",
      "2022-08-26 10:21:41,567 : INFO : Configure Section 1 of edition 4\n",
      "2022-08-26 10:21:41,570 : INFO : Configure Section 2 of edition 4\n",
      "2022-08-26 10:21:41,571 : INFO : Configure Section 3 of edition 4\n",
      "2022-08-26 10:21:41,572 : INFO : Configure Section 4 of edition 4\n",
      "2022-08-26 10:21:42,568 : INFO : Configure Section 5 of edition 4\n",
      "Processing:  80%|████████  | 36/45 [02:04<00:30,  3.39s/files]2022-08-26 10:21:43,090 : INFO : Configure Section 0 of edition default\n",
      "2022-08-26 10:21:43,092 : INFO : Configure Section 1 of edition 4\n",
      "2022-08-26 10:21:43,094 : INFO : Configure Section 2 of edition 4\n",
      "2022-08-26 10:21:43,096 : INFO : Configure Section 3 of edition 4\n",
      "2022-08-26 10:21:43,097 : INFO : Configure Section 4 of edition 4\n",
      "2022-08-26 10:21:45,348 : INFO : Configure Section 5 of edition 4\n",
      "Processing:  82%|████████▏ | 37/45 [02:08<00:27,  3.47s/files]2022-08-26 10:21:46,737 : INFO : Configure Section 0 of edition default\n",
      "2022-08-26 10:21:46,738 : INFO : Configure Section 1 of edition 4\n",
      "2022-08-26 10:21:46,740 : INFO : Configure Section 2 of edition 4\n",
      "2022-08-26 10:21:46,742 : INFO : Configure Section 3 of edition 4\n",
      "2022-08-26 10:21:46,744 : INFO : Configure Section 4 of edition 4\n",
      "2022-08-26 10:21:50,459 : INFO : Configure Section 5 of edition 4\n",
      "Processing:  84%|████████▍ | 38/45 [02:14<00:30,  4.30s/files]2022-08-26 10:21:52,976 : INFO : Configure Section 0 of edition default\n",
      "2022-08-26 10:21:52,977 : INFO : Configure Section 1 of edition 4\n",
      "2022-08-26 10:21:52,980 : INFO : Configure Section 2 of edition 4\n",
      "2022-08-26 10:21:52,981 : INFO : Configure Section 3 of edition 4\n",
      "2022-08-26 10:21:52,982 : INFO : Configure Section 4 of edition 4\n",
      "2022-08-26 10:21:58,031 : INFO : Configure Section 5 of edition 4\n",
      "Processing:  87%|████████▋ | 39/45 [02:22<00:32,  5.49s/files]2022-08-26 10:22:01,246 : INFO : Configure Section 0 of edition default\n",
      "2022-08-26 10:22:01,248 : INFO : Configure Section 1 of edition 4\n",
      "2022-08-26 10:22:01,250 : INFO : Configure Section 2 of edition 4\n",
      "2022-08-26 10:22:01,251 : INFO : Configure Section 3 of edition 4\n",
      "2022-08-26 10:22:01,253 : INFO : Configure Section 4 of edition 4\n",
      "2022-08-26 10:22:07,156 : INFO : Configure Section 5 of edition 4\n",
      "Processing:  89%|████████▉ | 40/45 [02:32<00:33,  6.77s/files]2022-08-26 10:22:11,008 : INFO : Configure Section 0 of edition default\n",
      "2022-08-26 10:22:11,009 : INFO : Configure Section 1 of edition 4\n",
      "2022-08-26 10:22:11,011 : INFO : Configure Section 2 of edition 4\n",
      "2022-08-26 10:22:11,013 : INFO : Configure Section 3 of edition 4\n",
      "2022-08-26 10:22:11,014 : INFO : Configure Section 4 of edition 4\n",
      "2022-08-26 10:22:15,958 : INFO : Configure Section 5 of edition 4\n",
      "Processing:  91%|█████████ | 41/45 [02:41<00:29,  7.28s/files]2022-08-26 10:22:19,468 : INFO : Configure Section 0 of edition default\n",
      "2022-08-26 10:22:19,469 : INFO : Configure Section 1 of edition 4\n",
      "2022-08-26 10:22:19,473 : INFO : Configure Section 2 of edition 4\n",
      "2022-08-26 10:22:19,474 : INFO : Configure Section 3 of edition 4\n",
      "2022-08-26 10:22:19,476 : INFO : Configure Section 4 of edition 4\n",
      "2022-08-26 10:22:22,683 : INFO : Configure Section 5 of edition 4\n",
      "Processing:  93%|█████████▎| 42/45 [02:46<00:20,  6.82s/files]2022-08-26 10:22:25,204 : INFO : Configure Section 0 of edition default\n",
      "2022-08-26 10:22:25,205 : INFO : Configure Section 1 of edition 4\n",
      "2022-08-26 10:22:25,207 : INFO : Configure Section 2 of edition 4\n",
      "2022-08-26 10:22:25,208 : INFO : Configure Section 3 of edition 4\n",
      "2022-08-26 10:22:25,211 : INFO : Configure Section 4 of edition 4\n",
      "2022-08-26 10:22:29,826 : INFO : Configure Section 5 of edition 4\n",
      "Processing:  96%|█████████▌| 43/45 [02:54<00:14,  7.11s/files]2022-08-26 10:22:32,991 : INFO : Configure Section 0 of edition default\n",
      "2022-08-26 10:22:32,992 : INFO : Configure Section 1 of edition 4\n",
      "2022-08-26 10:22:32,995 : INFO : Configure Section 2 of edition 4\n",
      "2022-08-26 10:22:32,996 : INFO : Configure Section 3 of edition 4\n",
      "2022-08-26 10:22:32,997 : INFO : Configure Section 4 of edition 4\n",
      "2022-08-26 10:22:37,843 : INFO : Configure Section 5 of edition 4\n",
      "Processing:  98%|█████████▊| 44/45 [03:03<00:07,  7.51s/files]2022-08-26 10:22:41,426 : INFO : Configure Section 0 of edition default\n",
      "2022-08-26 10:22:41,427 : INFO : Configure Section 1 of edition 4\n",
      "2022-08-26 10:22:41,430 : INFO : Configure Section 2 of edition 4\n",
      "2022-08-26 10:22:41,431 : INFO : Configure Section 3 of edition 4\n",
      "2022-08-26 10:22:41,432 : INFO : Configure Section 4 of edition 4\n",
      "2022-08-26 10:22:46,400 : INFO : Configure Section 5 of edition 4\n",
      "Processing: 100%|██████████| 45/45 [03:11<00:00,  4.25s/files]\n",
      "c:\\Users\\ATeklesadik\\Miniconda3\\envs\\geo_env\\lib\\site-packages\\xarray\\core\\missing.py:559: FutureWarning: Passing method to DatetimeIndex.get_loc is deprecated and will raise in a future version. Use index.get_indexer([item], method=...) instead.\n",
      "  imin = index.get_loc(minval, method=\"nearest\")\n",
      "c:\\Users\\ATeklesadik\\Miniconda3\\envs\\geo_env\\lib\\site-packages\\xarray\\core\\missing.py:560: FutureWarning: Passing method to DatetimeIndex.get_loc is deprecated and will raise in a future version. Use index.get_indexer([item], method=...) instead.\n",
      "  imax = index.get_loc(maxval, method=\"nearest\")\n",
      "c:\\Users\\ATeklesadik\\Miniconda3\\envs\\geo_env\\lib\\site-packages\\xarray\\core\\missing.py:559: FutureWarning: Passing method to DatetimeIndex.get_loc is deprecated and will raise in a future version. Use index.get_indexer([item], method=...) instead.\n",
      "  imin = index.get_loc(minval, method=\"nearest\")\n",
      "c:\\Users\\ATeklesadik\\Miniconda3\\envs\\geo_env\\lib\\site-packages\\xarray\\core\\missing.py:560: FutureWarning: Passing method to DatetimeIndex.get_loc is deprecated and will raise in a future version. Use index.get_indexer([item], method=...) instead.\n",
      "  imax = index.get_loc(maxval, method=\"nearest\")\n",
      "c:\\Users\\ATeklesadik\\Miniconda3\\envs\\geo_env\\lib\\site-packages\\xarray\\core\\missing.py:559: FutureWarning: Passing method to DatetimeIndex.get_loc is deprecated and will raise in a future version. Use index.get_indexer([item], method=...) instead.\n",
      "  imin = index.get_loc(minval, method=\"nearest\")\n",
      "c:\\Users\\ATeklesadik\\Miniconda3\\envs\\geo_env\\lib\\site-packages\\xarray\\core\\missing.py:560: FutureWarning: Passing method to DatetimeIndex.get_loc is deprecated and will raise in a future version. Use index.get_indexer([item], method=...) instead.\n",
      "  imax = index.get_loc(maxval, method=\"nearest\")\n",
      "c:\\Users\\ATeklesadik\\Miniconda3\\envs\\geo_env\\lib\\site-packages\\xarray\\core\\missing.py:559: FutureWarning: Passing method to DatetimeIndex.get_loc is deprecated and will raise in a future version. Use index.get_indexer([item], method=...) instead.\n",
      "  imin = index.get_loc(minval, method=\"nearest\")\n",
      "c:\\Users\\ATeklesadik\\Miniconda3\\envs\\geo_env\\lib\\site-packages\\xarray\\core\\missing.py:560: FutureWarning: Passing method to DatetimeIndex.get_loc is deprecated and will raise in a future version. Use index.get_indexer([item], method=...) instead.\n",
      "  imax = index.get_loc(maxval, method=\"nearest\")\n",
      "c:\\Users\\ATeklesadik\\Miniconda3\\envs\\geo_env\\lib\\site-packages\\xarray\\core\\missing.py:559: FutureWarning: Passing method to DatetimeIndex.get_loc is deprecated and will raise in a future version. Use index.get_indexer([item], method=...) instead.\n",
      "  imin = index.get_loc(minval, method=\"nearest\")\n",
      "c:\\Users\\ATeklesadik\\Miniconda3\\envs\\geo_env\\lib\\site-packages\\xarray\\core\\missing.py:560: FutureWarning: Passing method to DatetimeIndex.get_loc is deprecated and will raise in a future version. Use index.get_indexer([item], method=...) instead.\n",
      "  imax = index.get_loc(maxval, method=\"nearest\")\n",
      "c:\\Users\\ATeklesadik\\Miniconda3\\envs\\geo_env\\lib\\site-packages\\xarray\\core\\missing.py:559: FutureWarning: Passing method to DatetimeIndex.get_loc is deprecated and will raise in a future version. Use index.get_indexer([item], method=...) instead.\n",
      "  imin = index.get_loc(minval, method=\"nearest\")\n",
      "c:\\Users\\ATeklesadik\\Miniconda3\\envs\\geo_env\\lib\\site-packages\\xarray\\core\\missing.py:560: FutureWarning: Passing method to DatetimeIndex.get_loc is deprecated and will raise in a future version. Use index.get_indexer([item], method=...) instead.\n",
      "  imax = index.get_loc(maxval, method=\"nearest\")\n",
      "c:\\Users\\ATeklesadik\\Miniconda3\\envs\\geo_env\\lib\\site-packages\\xarray\\core\\missing.py:559: FutureWarning: Passing method to DatetimeIndex.get_loc is deprecated and will raise in a future version. Use index.get_indexer([item], method=...) instead.\n",
      "  imin = index.get_loc(minval, method=\"nearest\")\n",
      "c:\\Users\\ATeklesadik\\Miniconda3\\envs\\geo_env\\lib\\site-packages\\xarray\\core\\missing.py:560: FutureWarning: Passing method to DatetimeIndex.get_loc is deprecated and will raise in a future version. Use index.get_indexer([item], method=...) instead.\n",
      "  imax = index.get_loc(maxval, method=\"nearest\")\n",
      "c:\\Users\\ATeklesadik\\Miniconda3\\envs\\geo_env\\lib\\site-packages\\xarray\\core\\missing.py:559: FutureWarning: Passing method to DatetimeIndex.get_loc is deprecated and will raise in a future version. Use index.get_indexer([item], method=...) instead.\n",
      "  imin = index.get_loc(minval, method=\"nearest\")\n",
      "c:\\Users\\ATeklesadik\\Miniconda3\\envs\\geo_env\\lib\\site-packages\\xarray\\core\\missing.py:560: FutureWarning: Passing method to DatetimeIndex.get_loc is deprecated and will raise in a future version. Use index.get_indexer([item], method=...) instead.\n",
      "  imax = index.get_loc(maxval, method=\"nearest\")\n",
      "c:\\Users\\ATeklesadik\\Miniconda3\\envs\\geo_env\\lib\\site-packages\\xarray\\core\\missing.py:559: FutureWarning: Passing method to DatetimeIndex.get_loc is deprecated and will raise in a future version. Use index.get_indexer([item], method=...) instead.\n",
      "  imin = index.get_loc(minval, method=\"nearest\")\n",
      "c:\\Users\\ATeklesadik\\Miniconda3\\envs\\geo_env\\lib\\site-packages\\xarray\\core\\missing.py:560: FutureWarning: Passing method to DatetimeIndex.get_loc is deprecated and will raise in a future version. Use index.get_indexer([item], method=...) instead.\n",
      "  imax = index.get_loc(maxval, method=\"nearest\")\n",
      "c:\\Users\\ATeklesadik\\Miniconda3\\envs\\geo_env\\lib\\site-packages\\xarray\\core\\missing.py:559: FutureWarning: Passing method to DatetimeIndex.get_loc is deprecated and will raise in a future version. Use index.get_indexer([item], method=...) instead.\n",
      "  imin = index.get_loc(minval, method=\"nearest\")\n",
      "c:\\Users\\ATeklesadik\\Miniconda3\\envs\\geo_env\\lib\\site-packages\\xarray\\core\\missing.py:560: FutureWarning: Passing method to DatetimeIndex.get_loc is deprecated and will raise in a future version. Use index.get_indexer([item], method=...) instead.\n",
      "  imax = index.get_loc(maxval, method=\"nearest\")\n",
      "c:\\Users\\ATeklesadik\\Miniconda3\\envs\\geo_env\\lib\\site-packages\\xarray\\core\\missing.py:559: FutureWarning: Passing method to DatetimeIndex.get_loc is deprecated and will raise in a future version. Use index.get_indexer([item], method=...) instead.\n",
      "  imin = index.get_loc(minval, method=\"nearest\")\n",
      "c:\\Users\\ATeklesadik\\Miniconda3\\envs\\geo_env\\lib\\site-packages\\xarray\\core\\missing.py:560: FutureWarning: Passing method to DatetimeIndex.get_loc is deprecated and will raise in a future version. Use index.get_indexer([item], method=...) instead.\n",
      "  imax = index.get_loc(maxval, method=\"nearest\")\n",
      "c:\\Users\\ATeklesadik\\Miniconda3\\envs\\geo_env\\lib\\site-packages\\xarray\\core\\missing.py:559: FutureWarning: Passing method to DatetimeIndex.get_loc is deprecated and will raise in a future version. Use index.get_indexer([item], method=...) instead.\n",
      "  imin = index.get_loc(minval, method=\"nearest\")\n",
      "c:\\Users\\ATeklesadik\\Miniconda3\\envs\\geo_env\\lib\\site-packages\\xarray\\core\\missing.py:560: FutureWarning: Passing method to DatetimeIndex.get_loc is deprecated and will raise in a future version. Use index.get_indexer([item], method=...) instead.\n",
      "  imax = index.get_loc(maxval, method=\"nearest\")\n",
      "c:\\Users\\ATeklesadik\\Miniconda3\\envs\\geo_env\\lib\\site-packages\\xarray\\core\\missing.py:559: FutureWarning: Passing method to DatetimeIndex.get_loc is deprecated and will raise in a future version. Use index.get_indexer([item], method=...) instead.\n",
      "  imin = index.get_loc(minval, method=\"nearest\")\n",
      "c:\\Users\\ATeklesadik\\Miniconda3\\envs\\geo_env\\lib\\site-packages\\xarray\\core\\missing.py:560: FutureWarning: Passing method to DatetimeIndex.get_loc is deprecated and will raise in a future version. Use index.get_indexer([item], method=...) instead.\n",
      "  imax = index.get_loc(maxval, method=\"nearest\")\n",
      "c:\\Users\\ATeklesadik\\Miniconda3\\envs\\geo_env\\lib\\site-packages\\xarray\\core\\missing.py:559: FutureWarning: Passing method to DatetimeIndex.get_loc is deprecated and will raise in a future version. Use index.get_indexer([item], method=...) instead.\n",
      "  imin = index.get_loc(minval, method=\"nearest\")\n",
      "c:\\Users\\ATeklesadik\\Miniconda3\\envs\\geo_env\\lib\\site-packages\\xarray\\core\\missing.py:560: FutureWarning: Passing method to DatetimeIndex.get_loc is deprecated and will raise in a future version. Use index.get_indexer([item], method=...) instead.\n",
      "  imax = index.get_loc(maxval, method=\"nearest\")\n",
      "c:\\Users\\ATeklesadik\\Miniconda3\\envs\\geo_env\\lib\\site-packages\\xarray\\core\\missing.py:559: FutureWarning: Passing method to DatetimeIndex.get_loc is deprecated and will raise in a future version. Use index.get_indexer([item], method=...) instead.\n",
      "  imin = index.get_loc(minval, method=\"nearest\")\n",
      "c:\\Users\\ATeklesadik\\Miniconda3\\envs\\geo_env\\lib\\site-packages\\xarray\\core\\missing.py:560: FutureWarning: Passing method to DatetimeIndex.get_loc is deprecated and will raise in a future version. Use index.get_indexer([item], method=...) instead.\n",
      "  imax = index.get_loc(maxval, method=\"nearest\")\n",
      "c:\\Users\\ATeklesadik\\Miniconda3\\envs\\geo_env\\lib\\site-packages\\xarray\\core\\missing.py:559: FutureWarning: Passing method to DatetimeIndex.get_loc is deprecated and will raise in a future version. Use index.get_indexer([item], method=...) instead.\n",
      "  imin = index.get_loc(minval, method=\"nearest\")\n",
      "c:\\Users\\ATeklesadik\\Miniconda3\\envs\\geo_env\\lib\\site-packages\\xarray\\core\\missing.py:560: FutureWarning: Passing method to DatetimeIndex.get_loc is deprecated and will raise in a future version. Use index.get_indexer([item], method=...) instead.\n",
      "  imax = index.get_loc(maxval, method=\"nearest\")\n",
      "c:\\Users\\ATeklesadik\\Miniconda3\\envs\\geo_env\\lib\\site-packages\\xarray\\core\\missing.py:559: FutureWarning: Passing method to DatetimeIndex.get_loc is deprecated and will raise in a future version. Use index.get_indexer([item], method=...) instead.\n",
      "  imin = index.get_loc(minval, method=\"nearest\")\n",
      "c:\\Users\\ATeklesadik\\Miniconda3\\envs\\geo_env\\lib\\site-packages\\xarray\\core\\missing.py:560: FutureWarning: Passing method to DatetimeIndex.get_loc is deprecated and will raise in a future version. Use index.get_indexer([item], method=...) instead.\n",
      "  imax = index.get_loc(maxval, method=\"nearest\")\n",
      "c:\\Users\\ATeklesadik\\Miniconda3\\envs\\geo_env\\lib\\site-packages\\xarray\\core\\missing.py:559: FutureWarning: Passing method to DatetimeIndex.get_loc is deprecated and will raise in a future version. Use index.get_indexer([item], method=...) instead.\n",
      "  imin = index.get_loc(minval, method=\"nearest\")\n",
      "c:\\Users\\ATeklesadik\\Miniconda3\\envs\\geo_env\\lib\\site-packages\\xarray\\core\\missing.py:560: FutureWarning: Passing method to DatetimeIndex.get_loc is deprecated and will raise in a future version. Use index.get_indexer([item], method=...) instead.\n",
      "  imax = index.get_loc(maxval, method=\"nearest\")\n",
      "c:\\Users\\ATeklesadik\\Miniconda3\\envs\\geo_env\\lib\\site-packages\\xarray\\core\\missing.py:559: FutureWarning: Passing method to DatetimeIndex.get_loc is deprecated and will raise in a future version. Use index.get_indexer([item], method=...) instead.\n",
      "  imin = index.get_loc(minval, method=\"nearest\")\n",
      "c:\\Users\\ATeklesadik\\Miniconda3\\envs\\geo_env\\lib\\site-packages\\xarray\\core\\missing.py:560: FutureWarning: Passing method to DatetimeIndex.get_loc is deprecated and will raise in a future version. Use index.get_indexer([item], method=...) instead.\n",
      "  imax = index.get_loc(maxval, method=\"nearest\")\n",
      "c:\\Users\\ATeklesadik\\Miniconda3\\envs\\geo_env\\lib\\site-packages\\xarray\\core\\missing.py:559: FutureWarning: Passing method to DatetimeIndex.get_loc is deprecated and will raise in a future version. Use index.get_indexer([item], method=...) instead.\n",
      "  imin = index.get_loc(minval, method=\"nearest\")\n",
      "c:\\Users\\ATeklesadik\\Miniconda3\\envs\\geo_env\\lib\\site-packages\\xarray\\core\\missing.py:560: FutureWarning: Passing method to DatetimeIndex.get_loc is deprecated and will raise in a future version. Use index.get_indexer([item], method=...) instead.\n",
      "  imax = index.get_loc(maxval, method=\"nearest\")\n",
      "c:\\Users\\ATeklesadik\\Miniconda3\\envs\\geo_env\\lib\\site-packages\\xarray\\core\\missing.py:559: FutureWarning: Passing method to DatetimeIndex.get_loc is deprecated and will raise in a future version. Use index.get_indexer([item], method=...) instead.\n",
      "  imin = index.get_loc(minval, method=\"nearest\")\n",
      "c:\\Users\\ATeklesadik\\Miniconda3\\envs\\geo_env\\lib\\site-packages\\xarray\\core\\missing.py:560: FutureWarning: Passing method to DatetimeIndex.get_loc is deprecated and will raise in a future version. Use index.get_indexer([item], method=...) instead.\n",
      "  imax = index.get_loc(maxval, method=\"nearest\")\n",
      "c:\\Users\\ATeklesadik\\Miniconda3\\envs\\geo_env\\lib\\site-packages\\xarray\\core\\missing.py:559: FutureWarning: Passing method to DatetimeIndex.get_loc is deprecated and will raise in a future version. Use index.get_indexer([item], method=...) instead.\n",
      "  imin = index.get_loc(minval, method=\"nearest\")\n",
      "c:\\Users\\ATeklesadik\\Miniconda3\\envs\\geo_env\\lib\\site-packages\\xarray\\core\\missing.py:560: FutureWarning: Passing method to DatetimeIndex.get_loc is deprecated and will raise in a future version. Use index.get_indexer([item], method=...) instead.\n",
      "  imax = index.get_loc(maxval, method=\"nearest\")\n",
      "c:\\Users\\ATeklesadik\\Miniconda3\\envs\\geo_env\\lib\\site-packages\\xarray\\core\\missing.py:559: FutureWarning: Passing method to DatetimeIndex.get_loc is deprecated and will raise in a future version. Use index.get_indexer([item], method=...) instead.\n",
      "  imin = index.get_loc(minval, method=\"nearest\")\n",
      "c:\\Users\\ATeklesadik\\Miniconda3\\envs\\geo_env\\lib\\site-packages\\xarray\\core\\missing.py:560: FutureWarning: Passing method to DatetimeIndex.get_loc is deprecated and will raise in a future version. Use index.get_indexer([item], method=...) instead.\n",
      "  imax = index.get_loc(maxval, method=\"nearest\")\n",
      "c:\\Users\\ATeklesadik\\Miniconda3\\envs\\geo_env\\lib\\site-packages\\xarray\\core\\missing.py:559: FutureWarning: Passing method to DatetimeIndex.get_loc is deprecated and will raise in a future version. Use index.get_indexer([item], method=...) instead.\n",
      "  imin = index.get_loc(minval, method=\"nearest\")\n",
      "c:\\Users\\ATeklesadik\\Miniconda3\\envs\\geo_env\\lib\\site-packages\\xarray\\core\\missing.py:560: FutureWarning: Passing method to DatetimeIndex.get_loc is deprecated and will raise in a future version. Use index.get_indexer([item], method=...) instead.\n",
      "  imax = index.get_loc(maxval, method=\"nearest\")\n",
      "c:\\Users\\ATeklesadik\\Miniconda3\\envs\\geo_env\\lib\\site-packages\\xarray\\core\\missing.py:559: FutureWarning: Passing method to DatetimeIndex.get_loc is deprecated and will raise in a future version. Use index.get_indexer([item], method=...) instead.\n",
      "  imin = index.get_loc(minval, method=\"nearest\")\n",
      "c:\\Users\\ATeklesadik\\Miniconda3\\envs\\geo_env\\lib\\site-packages\\xarray\\core\\missing.py:560: FutureWarning: Passing method to DatetimeIndex.get_loc is deprecated and will raise in a future version. Use index.get_indexer([item], method=...) instead.\n",
      "  imax = index.get_loc(maxval, method=\"nearest\")\n",
      "c:\\Users\\ATeklesadik\\Miniconda3\\envs\\geo_env\\lib\\site-packages\\xarray\\core\\missing.py:559: FutureWarning: Passing method to DatetimeIndex.get_loc is deprecated and will raise in a future version. Use index.get_indexer([item], method=...) instead.\n",
      "  imin = index.get_loc(minval, method=\"nearest\")\n",
      "c:\\Users\\ATeklesadik\\Miniconda3\\envs\\geo_env\\lib\\site-packages\\xarray\\core\\missing.py:560: FutureWarning: Passing method to DatetimeIndex.get_loc is deprecated and will raise in a future version. Use index.get_indexer([item], method=...) instead.\n",
      "  imax = index.get_loc(maxval, method=\"nearest\")\n",
      "c:\\Users\\ATeklesadik\\Miniconda3\\envs\\geo_env\\lib\\site-packages\\xarray\\core\\missing.py:559: FutureWarning: Passing method to DatetimeIndex.get_loc is deprecated and will raise in a future version. Use index.get_indexer([item], method=...) instead.\n",
      "  imin = index.get_loc(minval, method=\"nearest\")\n",
      "c:\\Users\\ATeklesadik\\Miniconda3\\envs\\geo_env\\lib\\site-packages\\xarray\\core\\missing.py:560: FutureWarning: Passing method to DatetimeIndex.get_loc is deprecated and will raise in a future version. Use index.get_indexer([item], method=...) instead.\n",
      "  imax = index.get_loc(maxval, method=\"nearest\")\n",
      "c:\\Users\\ATeklesadik\\Miniconda3\\envs\\geo_env\\lib\\site-packages\\xarray\\core\\missing.py:559: FutureWarning: Passing method to DatetimeIndex.get_loc is deprecated and will raise in a future version. Use index.get_indexer([item], method=...) instead.\n",
      "  imin = index.get_loc(minval, method=\"nearest\")\n",
      "c:\\Users\\ATeklesadik\\Miniconda3\\envs\\geo_env\\lib\\site-packages\\xarray\\core\\missing.py:560: FutureWarning: Passing method to DatetimeIndex.get_loc is deprecated and will raise in a future version. Use index.get_indexer([item], method=...) instead.\n",
      "  imax = index.get_loc(maxval, method=\"nearest\")\n",
      "c:\\Users\\ATeklesadik\\Miniconda3\\envs\\geo_env\\lib\\site-packages\\xarray\\core\\missing.py:559: FutureWarning: Passing method to DatetimeIndex.get_loc is deprecated and will raise in a future version. Use index.get_indexer([item], method=...) instead.\n",
      "  imin = index.get_loc(minval, method=\"nearest\")\n",
      "c:\\Users\\ATeklesadik\\Miniconda3\\envs\\geo_env\\lib\\site-packages\\xarray\\core\\missing.py:560: FutureWarning: Passing method to DatetimeIndex.get_loc is deprecated and will raise in a future version. Use index.get_indexer([item], method=...) instead.\n",
      "  imax = index.get_loc(maxval, method=\"nearest\")\n",
      "c:\\Users\\ATeklesadik\\Miniconda3\\envs\\geo_env\\lib\\site-packages\\xarray\\core\\missing.py:559: FutureWarning: Passing method to DatetimeIndex.get_loc is deprecated and will raise in a future version. Use index.get_indexer([item], method=...) instead.\n",
      "  imin = index.get_loc(minval, method=\"nearest\")\n",
      "c:\\Users\\ATeklesadik\\Miniconda3\\envs\\geo_env\\lib\\site-packages\\xarray\\core\\missing.py:560: FutureWarning: Passing method to DatetimeIndex.get_loc is deprecated and will raise in a future version. Use index.get_indexer([item], method=...) instead.\n",
      "  imax = index.get_loc(maxval, method=\"nearest\")\n",
      "c:\\Users\\ATeklesadik\\Miniconda3\\envs\\geo_env\\lib\\site-packages\\xarray\\core\\missing.py:559: FutureWarning: Passing method to DatetimeIndex.get_loc is deprecated and will raise in a future version. Use index.get_indexer([item], method=...) instead.\n",
      "  imin = index.get_loc(minval, method=\"nearest\")\n",
      "c:\\Users\\ATeklesadik\\Miniconda3\\envs\\geo_env\\lib\\site-packages\\xarray\\core\\missing.py:560: FutureWarning: Passing method to DatetimeIndex.get_loc is deprecated and will raise in a future version. Use index.get_indexer([item], method=...) instead.\n",
      "  imax = index.get_loc(maxval, method=\"nearest\")\n",
      "c:\\Users\\ATeklesadik\\Miniconda3\\envs\\geo_env\\lib\\site-packages\\xarray\\core\\missing.py:559: FutureWarning: Passing method to DatetimeIndex.get_loc is deprecated and will raise in a future version. Use index.get_indexer([item], method=...) instead.\n",
      "  imin = index.get_loc(minval, method=\"nearest\")\n",
      "c:\\Users\\ATeklesadik\\Miniconda3\\envs\\geo_env\\lib\\site-packages\\xarray\\core\\missing.py:560: FutureWarning: Passing method to DatetimeIndex.get_loc is deprecated and will raise in a future version. Use index.get_indexer([item], method=...) instead.\n",
      "  imax = index.get_loc(maxval, method=\"nearest\")\n",
      "c:\\Users\\ATeklesadik\\Miniconda3\\envs\\geo_env\\lib\\site-packages\\xarray\\core\\missing.py:559: FutureWarning: Passing method to DatetimeIndex.get_loc is deprecated and will raise in a future version. Use index.get_indexer([item], method=...) instead.\n",
      "  imin = index.get_loc(minval, method=\"nearest\")\n",
      "c:\\Users\\ATeklesadik\\Miniconda3\\envs\\geo_env\\lib\\site-packages\\xarray\\core\\missing.py:560: FutureWarning: Passing method to DatetimeIndex.get_loc is deprecated and will raise in a future version. Use index.get_indexer([item], method=...) instead.\n",
      "  imax = index.get_loc(maxval, method=\"nearest\")\n",
      "c:\\Users\\ATeklesadik\\Miniconda3\\envs\\geo_env\\lib\\site-packages\\xarray\\core\\missing.py:559: FutureWarning: Passing method to DatetimeIndex.get_loc is deprecated and will raise in a future version. Use index.get_indexer([item], method=...) instead.\n",
      "  imin = index.get_loc(minval, method=\"nearest\")\n",
      "c:\\Users\\ATeklesadik\\Miniconda3\\envs\\geo_env\\lib\\site-packages\\xarray\\core\\missing.py:560: FutureWarning: Passing method to DatetimeIndex.get_loc is deprecated and will raise in a future version. Use index.get_indexer([item], method=...) instead.\n",
      "  imax = index.get_loc(maxval, method=\"nearest\")\n",
      "c:\\Users\\ATeklesadik\\Miniconda3\\envs\\geo_env\\lib\\site-packages\\xarray\\core\\missing.py:559: FutureWarning: Passing method to DatetimeIndex.get_loc is deprecated and will raise in a future version. Use index.get_indexer([item], method=...) instead.\n",
      "  imin = index.get_loc(minval, method=\"nearest\")\n",
      "c:\\Users\\ATeklesadik\\Miniconda3\\envs\\geo_env\\lib\\site-packages\\xarray\\core\\missing.py:560: FutureWarning: Passing method to DatetimeIndex.get_loc is deprecated and will raise in a future version. Use index.get_indexer([item], method=...) instead.\n",
      "  imax = index.get_loc(maxval, method=\"nearest\")\n",
      "c:\\Users\\ATeklesadik\\Miniconda3\\envs\\geo_env\\lib\\site-packages\\xarray\\core\\missing.py:559: FutureWarning: Passing method to DatetimeIndex.get_loc is deprecated and will raise in a future version. Use index.get_indexer([item], method=...) instead.\n",
      "  imin = index.get_loc(minval, method=\"nearest\")\n",
      "c:\\Users\\ATeklesadik\\Miniconda3\\envs\\geo_env\\lib\\site-packages\\xarray\\core\\missing.py:560: FutureWarning: Passing method to DatetimeIndex.get_loc is deprecated and will raise in a future version. Use index.get_indexer([item], method=...) instead.\n",
      "  imax = index.get_loc(maxval, method=\"nearest\")\n",
      "c:\\Users\\ATeklesadik\\Miniconda3\\envs\\geo_env\\lib\\site-packages\\xarray\\core\\missing.py:559: FutureWarning: Passing method to DatetimeIndex.get_loc is deprecated and will raise in a future version. Use index.get_indexer([item], method=...) instead.\n",
      "  imin = index.get_loc(minval, method=\"nearest\")\n",
      "c:\\Users\\ATeklesadik\\Miniconda3\\envs\\geo_env\\lib\\site-packages\\xarray\\core\\missing.py:560: FutureWarning: Passing method to DatetimeIndex.get_loc is deprecated and will raise in a future version. Use index.get_indexer([item], method=...) instead.\n",
      "  imax = index.get_loc(maxval, method=\"nearest\")\n",
      "c:\\Users\\ATeklesadik\\Miniconda3\\envs\\geo_env\\lib\\site-packages\\xarray\\core\\missing.py:559: FutureWarning: Passing method to DatetimeIndex.get_loc is deprecated and will raise in a future version. Use index.get_indexer([item], method=...) instead.\n",
      "  imin = index.get_loc(minval, method=\"nearest\")\n",
      "c:\\Users\\ATeklesadik\\Miniconda3\\envs\\geo_env\\lib\\site-packages\\xarray\\core\\missing.py:560: FutureWarning: Passing method to DatetimeIndex.get_loc is deprecated and will raise in a future version. Use index.get_indexer([item], method=...) instead.\n",
      "  imax = index.get_loc(maxval, method=\"nearest\")\n",
      "c:\\Users\\ATeklesadik\\Miniconda3\\envs\\geo_env\\lib\\site-packages\\xarray\\core\\missing.py:559: FutureWarning: Passing method to DatetimeIndex.get_loc is deprecated and will raise in a future version. Use index.get_indexer([item], method=...) instead.\n",
      "  imin = index.get_loc(minval, method=\"nearest\")\n",
      "c:\\Users\\ATeklesadik\\Miniconda3\\envs\\geo_env\\lib\\site-packages\\xarray\\core\\missing.py:560: FutureWarning: Passing method to DatetimeIndex.get_loc is deprecated and will raise in a future version. Use index.get_indexer([item], method=...) instead.\n",
      "  imax = index.get_loc(maxval, method=\"nearest\")\n",
      "c:\\Users\\ATeklesadik\\Miniconda3\\envs\\geo_env\\lib\\site-packages\\xarray\\core\\missing.py:559: FutureWarning: Passing method to DatetimeIndex.get_loc is deprecated and will raise in a future version. Use index.get_indexer([item], method=...) instead.\n",
      "  imin = index.get_loc(minval, method=\"nearest\")\n",
      "c:\\Users\\ATeklesadik\\Miniconda3\\envs\\geo_env\\lib\\site-packages\\xarray\\core\\missing.py:560: FutureWarning: Passing method to DatetimeIndex.get_loc is deprecated and will raise in a future version. Use index.get_indexer([item], method=...) instead.\n",
      "  imax = index.get_loc(maxval, method=\"nearest\")\n",
      "c:\\Users\\ATeklesadik\\Miniconda3\\envs\\geo_env\\lib\\site-packages\\xarray\\core\\missing.py:559: FutureWarning: Passing method to DatetimeIndex.get_loc is deprecated and will raise in a future version. Use index.get_indexer([item], method=...) instead.\n",
      "  imin = index.get_loc(minval, method=\"nearest\")\n",
      "c:\\Users\\ATeklesadik\\Miniconda3\\envs\\geo_env\\lib\\site-packages\\xarray\\core\\missing.py:560: FutureWarning: Passing method to DatetimeIndex.get_loc is deprecated and will raise in a future version. Use index.get_indexer([item], method=...) instead.\n",
      "  imax = index.get_loc(maxval, method=\"nearest\")\n",
      "c:\\Users\\ATeklesadik\\Miniconda3\\envs\\geo_env\\lib\\site-packages\\xarray\\core\\missing.py:559: FutureWarning: Passing method to DatetimeIndex.get_loc is deprecated and will raise in a future version. Use index.get_indexer([item], method=...) instead.\n",
      "  imin = index.get_loc(minval, method=\"nearest\")\n",
      "c:\\Users\\ATeklesadik\\Miniconda3\\envs\\geo_env\\lib\\site-packages\\xarray\\core\\missing.py:560: FutureWarning: Passing method to DatetimeIndex.get_loc is deprecated and will raise in a future version. Use index.get_indexer([item], method=...) instead.\n",
      "  imax = index.get_loc(maxval, method=\"nearest\")\n",
      "c:\\Users\\ATeklesadik\\Miniconda3\\envs\\geo_env\\lib\\site-packages\\xarray\\core\\missing.py:559: FutureWarning: Passing method to DatetimeIndex.get_loc is deprecated and will raise in a future version. Use index.get_indexer([item], method=...) instead.\n",
      "  imin = index.get_loc(minval, method=\"nearest\")\n",
      "c:\\Users\\ATeklesadik\\Miniconda3\\envs\\geo_env\\lib\\site-packages\\xarray\\core\\missing.py:560: FutureWarning: Passing method to DatetimeIndex.get_loc is deprecated and will raise in a future version. Use index.get_indexer([item], method=...) instead.\n",
      "  imax = index.get_loc(maxval, method=\"nearest\")\n",
      "c:\\Users\\ATeklesadik\\Miniconda3\\envs\\geo_env\\lib\\site-packages\\xarray\\core\\missing.py:559: FutureWarning: Passing method to DatetimeIndex.get_loc is deprecated and will raise in a future version. Use index.get_indexer([item], method=...) instead.\n",
      "  imin = index.get_loc(minval, method=\"nearest\")\n",
      "c:\\Users\\ATeklesadik\\Miniconda3\\envs\\geo_env\\lib\\site-packages\\xarray\\core\\missing.py:560: FutureWarning: Passing method to DatetimeIndex.get_loc is deprecated and will raise in a future version. Use index.get_indexer([item], method=...) instead.\n",
      "  imax = index.get_loc(maxval, method=\"nearest\")\n",
      "c:\\Users\\ATeklesadik\\Miniconda3\\envs\\geo_env\\lib\\site-packages\\xarray\\core\\missing.py:559: FutureWarning: Passing method to DatetimeIndex.get_loc is deprecated and will raise in a future version. Use index.get_indexer([item], method=...) instead.\n",
      "  imin = index.get_loc(minval, method=\"nearest\")\n",
      "c:\\Users\\ATeklesadik\\Miniconda3\\envs\\geo_env\\lib\\site-packages\\xarray\\core\\missing.py:560: FutureWarning: Passing method to DatetimeIndex.get_loc is deprecated and will raise in a future version. Use index.get_indexer([item], method=...) instead.\n",
      "  imax = index.get_loc(maxval, method=\"nearest\")\n",
      "c:\\Users\\ATeklesadik\\Miniconda3\\envs\\geo_env\\lib\\site-packages\\xarray\\core\\missing.py:559: FutureWarning: Passing method to DatetimeIndex.get_loc is deprecated and will raise in a future version. Use index.get_indexer([item], method=...) instead.\n",
      "  imin = index.get_loc(minval, method=\"nearest\")\n",
      "c:\\Users\\ATeklesadik\\Miniconda3\\envs\\geo_env\\lib\\site-packages\\xarray\\core\\missing.py:560: FutureWarning: Passing method to DatetimeIndex.get_loc is deprecated and will raise in a future version. Use index.get_indexer([item], method=...) instead.\n",
      "  imax = index.get_loc(maxval, method=\"nearest\")\n",
      "c:\\Users\\ATeklesadik\\Miniconda3\\envs\\geo_env\\lib\\site-packages\\xarray\\core\\missing.py:559: FutureWarning: Passing method to DatetimeIndex.get_loc is deprecated and will raise in a future version. Use index.get_indexer([item], method=...) instead.\n",
      "  imin = index.get_loc(minval, method=\"nearest\")\n",
      "c:\\Users\\ATeklesadik\\Miniconda3\\envs\\geo_env\\lib\\site-packages\\xarray\\core\\missing.py:560: FutureWarning: Passing method to DatetimeIndex.get_loc is deprecated and will raise in a future version. Use index.get_indexer([item], method=...) instead.\n",
      "  imax = index.get_loc(maxval, method=\"nearest\")\n",
      "c:\\Users\\ATeklesadik\\Miniconda3\\envs\\geo_env\\lib\\site-packages\\xarray\\core\\missing.py:559: FutureWarning: Passing method to DatetimeIndex.get_loc is deprecated and will raise in a future version. Use index.get_indexer([item], method=...) instead.\n",
      "  imin = index.get_loc(minval, method=\"nearest\")\n",
      "c:\\Users\\ATeklesadik\\Miniconda3\\envs\\geo_env\\lib\\site-packages\\xarray\\core\\missing.py:560: FutureWarning: Passing method to DatetimeIndex.get_loc is deprecated and will raise in a future version. Use index.get_indexer([item], method=...) instead.\n",
      "  imax = index.get_loc(maxval, method=\"nearest\")\n",
      "c:\\Users\\ATeklesadik\\Miniconda3\\envs\\geo_env\\lib\\site-packages\\xarray\\core\\missing.py:559: FutureWarning: Passing method to DatetimeIndex.get_loc is deprecated and will raise in a future version. Use index.get_indexer([item], method=...) instead.\n",
      "  imin = index.get_loc(minval, method=\"nearest\")\n",
      "c:\\Users\\ATeklesadik\\Miniconda3\\envs\\geo_env\\lib\\site-packages\\xarray\\core\\missing.py:560: FutureWarning: Passing method to DatetimeIndex.get_loc is deprecated and will raise in a future version. Use index.get_indexer([item], method=...) instead.\n",
      "  imax = index.get_loc(maxval, method=\"nearest\")\n",
      "c:\\Users\\ATeklesadik\\Miniconda3\\envs\\geo_env\\lib\\site-packages\\xarray\\core\\missing.py:559: FutureWarning: Passing method to DatetimeIndex.get_loc is deprecated and will raise in a future version. Use index.get_indexer([item], method=...) instead.\n",
      "  imin = index.get_loc(minval, method=\"nearest\")\n",
      "c:\\Users\\ATeklesadik\\Miniconda3\\envs\\geo_env\\lib\\site-packages\\xarray\\core\\missing.py:560: FutureWarning: Passing method to DatetimeIndex.get_loc is deprecated and will raise in a future version. Use index.get_indexer([item], method=...) instead.\n",
      "  imax = index.get_loc(maxval, method=\"nearest\")\n",
      "c:\\Users\\ATeklesadik\\Miniconda3\\envs\\geo_env\\lib\\site-packages\\xarray\\core\\missing.py:559: FutureWarning: Passing method to DatetimeIndex.get_loc is deprecated and will raise in a future version. Use index.get_indexer([item], method=...) instead.\n",
      "  imin = index.get_loc(minval, method=\"nearest\")\n",
      "c:\\Users\\ATeklesadik\\Miniconda3\\envs\\geo_env\\lib\\site-packages\\xarray\\core\\missing.py:560: FutureWarning: Passing method to DatetimeIndex.get_loc is deprecated and will raise in a future version. Use index.get_indexer([item], method=...) instead.\n",
      "  imax = index.get_loc(maxval, method=\"nearest\")\n",
      "c:\\Users\\ATeklesadik\\Miniconda3\\envs\\geo_env\\lib\\site-packages\\xarray\\core\\missing.py:559: FutureWarning: Passing method to DatetimeIndex.get_loc is deprecated and will raise in a future version. Use index.get_indexer([item], method=...) instead.\n",
      "  imin = index.get_loc(minval, method=\"nearest\")\n",
      "c:\\Users\\ATeklesadik\\Miniconda3\\envs\\geo_env\\lib\\site-packages\\xarray\\core\\missing.py:560: FutureWarning: Passing method to DatetimeIndex.get_loc is deprecated and will raise in a future version. Use index.get_indexer([item], method=...) instead.\n",
      "  imax = index.get_loc(maxval, method=\"nearest\")\n",
      "c:\\Users\\ATeklesadik\\Miniconda3\\envs\\geo_env\\lib\\site-packages\\xarray\\core\\missing.py:559: FutureWarning: Passing method to DatetimeIndex.get_loc is deprecated and will raise in a future version. Use index.get_indexer([item], method=...) instead.\n",
      "  imin = index.get_loc(minval, method=\"nearest\")\n",
      "c:\\Users\\ATeklesadik\\Miniconda3\\envs\\geo_env\\lib\\site-packages\\xarray\\core\\missing.py:560: FutureWarning: Passing method to DatetimeIndex.get_loc is deprecated and will raise in a future version. Use index.get_indexer([item], method=...) instead.\n",
      "  imax = index.get_loc(maxval, method=\"nearest\")\n",
      "c:\\Users\\ATeklesadik\\Miniconda3\\envs\\geo_env\\lib\\site-packages\\xarray\\core\\missing.py:559: FutureWarning: Passing method to DatetimeIndex.get_loc is deprecated and will raise in a future version. Use index.get_indexer([item], method=...) instead.\n",
      "  imin = index.get_loc(minval, method=\"nearest\")\n",
      "c:\\Users\\ATeklesadik\\Miniconda3\\envs\\geo_env\\lib\\site-packages\\xarray\\core\\missing.py:560: FutureWarning: Passing method to DatetimeIndex.get_loc is deprecated and will raise in a future version. Use index.get_indexer([item], method=...) instead.\n",
      "  imax = index.get_loc(maxval, method=\"nearest\")\n",
      "c:\\Users\\ATeklesadik\\Miniconda3\\envs\\geo_env\\lib\\site-packages\\xarray\\core\\missing.py:559: FutureWarning: Passing method to DatetimeIndex.get_loc is deprecated and will raise in a future version. Use index.get_indexer([item], method=...) instead.\n",
      "  imin = index.get_loc(minval, method=\"nearest\")\n",
      "c:\\Users\\ATeklesadik\\Miniconda3\\envs\\geo_env\\lib\\site-packages\\xarray\\core\\missing.py:560: FutureWarning: Passing method to DatetimeIndex.get_loc is deprecated and will raise in a future version. Use index.get_indexer([item], method=...) instead.\n",
      "  imax = index.get_loc(maxval, method=\"nearest\")\n",
      "c:\\Users\\ATeklesadik\\Miniconda3\\envs\\geo_env\\lib\\site-packages\\xarray\\core\\missing.py:559: FutureWarning: Passing method to DatetimeIndex.get_loc is deprecated and will raise in a future version. Use index.get_indexer([item], method=...) instead.\n",
      "  imin = index.get_loc(minval, method=\"nearest\")\n",
      "c:\\Users\\ATeklesadik\\Miniconda3\\envs\\geo_env\\lib\\site-packages\\xarray\\core\\missing.py:560: FutureWarning: Passing method to DatetimeIndex.get_loc is deprecated and will raise in a future version. Use index.get_indexer([item], method=...) instead.\n",
      "  imax = index.get_loc(maxval, method=\"nearest\")\n",
      "c:\\Users\\ATeklesadik\\Miniconda3\\envs\\geo_env\\lib\\site-packages\\xarray\\core\\missing.py:559: FutureWarning: Passing method to DatetimeIndex.get_loc is deprecated and will raise in a future version. Use index.get_indexer([item], method=...) instead.\n",
      "  imin = index.get_loc(minval, method=\"nearest\")\n",
      "c:\\Users\\ATeklesadik\\Miniconda3\\envs\\geo_env\\lib\\site-packages\\xarray\\core\\missing.py:560: FutureWarning: Passing method to DatetimeIndex.get_loc is deprecated and will raise in a future version. Use index.get_indexer([item], method=...) instead.\n",
      "  imax = index.get_loc(maxval, method=\"nearest\")\n",
      "c:\\Users\\ATeklesadik\\Miniconda3\\envs\\geo_env\\lib\\site-packages\\xarray\\core\\missing.py:559: FutureWarning: Passing method to DatetimeIndex.get_loc is deprecated and will raise in a future version. Use index.get_indexer([item], method=...) instead.\n",
      "  imin = index.get_loc(minval, method=\"nearest\")\n",
      "c:\\Users\\ATeklesadik\\Miniconda3\\envs\\geo_env\\lib\\site-packages\\xarray\\core\\missing.py:560: FutureWarning: Passing method to DatetimeIndex.get_loc is deprecated and will raise in a future version. Use index.get_indexer([item], method=...) instead.\n",
      "  imax = index.get_loc(maxval, method=\"nearest\")\n",
      "c:\\Users\\ATeklesadik\\Miniconda3\\envs\\geo_env\\lib\\site-packages\\xarray\\core\\missing.py:559: FutureWarning: Passing method to DatetimeIndex.get_loc is deprecated and will raise in a future version. Use index.get_indexer([item], method=...) instead.\n",
      "  imin = index.get_loc(minval, method=\"nearest\")\n",
      "c:\\Users\\ATeklesadik\\Miniconda3\\envs\\geo_env\\lib\\site-packages\\xarray\\core\\missing.py:560: FutureWarning: Passing method to DatetimeIndex.get_loc is deprecated and will raise in a future version. Use index.get_indexer([item], method=...) instead.\n",
      "  imax = index.get_loc(maxval, method=\"nearest\")\n",
      "c:\\Users\\ATeklesadik\\Miniconda3\\envs\\geo_env\\lib\\site-packages\\xarray\\core\\missing.py:559: FutureWarning: Passing method to DatetimeIndex.get_loc is deprecated and will raise in a future version. Use index.get_indexer([item], method=...) instead.\n",
      "  imin = index.get_loc(minval, method=\"nearest\")\n",
      "c:\\Users\\ATeklesadik\\Miniconda3\\envs\\geo_env\\lib\\site-packages\\xarray\\core\\missing.py:560: FutureWarning: Passing method to DatetimeIndex.get_loc is deprecated and will raise in a future version. Use index.get_indexer([item], method=...) instead.\n",
      "  imax = index.get_loc(maxval, method=\"nearest\")\n",
      "c:\\Users\\ATeklesadik\\Miniconda3\\envs\\geo_env\\lib\\site-packages\\xarray\\core\\missing.py:559: FutureWarning: Passing method to DatetimeIndex.get_loc is deprecated and will raise in a future version. Use index.get_indexer([item], method=...) instead.\n",
      "  imin = index.get_loc(minval, method=\"nearest\")\n",
      "c:\\Users\\ATeklesadik\\Miniconda3\\envs\\geo_env\\lib\\site-packages\\xarray\\core\\missing.py:560: FutureWarning: Passing method to DatetimeIndex.get_loc is deprecated and will raise in a future version. Use index.get_indexer([item], method=...) instead.\n",
      "  imax = index.get_loc(maxval, method=\"nearest\")\n",
      "c:\\Users\\ATeklesadik\\Miniconda3\\envs\\geo_env\\lib\\site-packages\\xarray\\core\\missing.py:559: FutureWarning: Passing method to DatetimeIndex.get_loc is deprecated and will raise in a future version. Use index.get_indexer([item], method=...) instead.\n",
      "  imin = index.get_loc(minval, method=\"nearest\")\n",
      "c:\\Users\\ATeklesadik\\Miniconda3\\envs\\geo_env\\lib\\site-packages\\xarray\\core\\missing.py:560: FutureWarning: Passing method to DatetimeIndex.get_loc is deprecated and will raise in a future version. Use index.get_indexer([item], method=...) instead.\n",
      "  imax = index.get_loc(maxval, method=\"nearest\")\n",
      "c:\\Users\\ATeklesadik\\Miniconda3\\envs\\geo_env\\lib\\site-packages\\xarray\\core\\missing.py:559: FutureWarning: Passing method to DatetimeIndex.get_loc is deprecated and will raise in a future version. Use index.get_indexer([item], method=...) instead.\n",
      "  imin = index.get_loc(minval, method=\"nearest\")\n",
      "c:\\Users\\ATeklesadik\\Miniconda3\\envs\\geo_env\\lib\\site-packages\\xarray\\core\\missing.py:560: FutureWarning: Passing method to DatetimeIndex.get_loc is deprecated and will raise in a future version. Use index.get_indexer([item], method=...) instead.\n",
      "  imax = index.get_loc(maxval, method=\"nearest\")\n",
      "c:\\Users\\ATeklesadik\\Miniconda3\\envs\\geo_env\\lib\\site-packages\\xarray\\core\\missing.py:559: FutureWarning: Passing method to DatetimeIndex.get_loc is deprecated and will raise in a future version. Use index.get_indexer([item], method=...) instead.\n",
      "  imin = index.get_loc(minval, method=\"nearest\")\n",
      "c:\\Users\\ATeklesadik\\Miniconda3\\envs\\geo_env\\lib\\site-packages\\xarray\\core\\missing.py:560: FutureWarning: Passing method to DatetimeIndex.get_loc is deprecated and will raise in a future version. Use index.get_indexer([item], method=...) instead.\n",
      "  imax = index.get_loc(maxval, method=\"nearest\")\n",
      "c:\\Users\\ATeklesadik\\Miniconda3\\envs\\geo_env\\lib\\site-packages\\xarray\\core\\missing.py:559: FutureWarning: Passing method to DatetimeIndex.get_loc is deprecated and will raise in a future version. Use index.get_indexer([item], method=...) instead.\n",
      "  imin = index.get_loc(minval, method=\"nearest\")\n",
      "c:\\Users\\ATeklesadik\\Miniconda3\\envs\\geo_env\\lib\\site-packages\\xarray\\core\\missing.py:560: FutureWarning: Passing method to DatetimeIndex.get_loc is deprecated and will raise in a future version. Use index.get_indexer([item], method=...) instead.\n",
      "  imax = index.get_loc(maxval, method=\"nearest\")\n",
      "c:\\Users\\ATeklesadik\\Miniconda3\\envs\\geo_env\\lib\\site-packages\\xarray\\core\\missing.py:559: FutureWarning: Passing method to DatetimeIndex.get_loc is deprecated and will raise in a future version. Use index.get_indexer([item], method=...) instead.\n",
      "  imin = index.get_loc(minval, method=\"nearest\")\n",
      "c:\\Users\\ATeklesadik\\Miniconda3\\envs\\geo_env\\lib\\site-packages\\xarray\\core\\missing.py:560: FutureWarning: Passing method to DatetimeIndex.get_loc is deprecated and will raise in a future version. Use index.get_indexer([item], method=...) instead.\n",
      "  imax = index.get_loc(maxval, method=\"nearest\")\n",
      "c:\\Users\\ATeklesadik\\Miniconda3\\envs\\geo_env\\lib\\site-packages\\xarray\\core\\missing.py:559: FutureWarning: Passing method to DatetimeIndex.get_loc is deprecated and will raise in a future version. Use index.get_indexer([item], method=...) instead.\n",
      "  imin = index.get_loc(minval, method=\"nearest\")\n",
      "c:\\Users\\ATeklesadik\\Miniconda3\\envs\\geo_env\\lib\\site-packages\\xarray\\core\\missing.py:560: FutureWarning: Passing method to DatetimeIndex.get_loc is deprecated and will raise in a future version. Use index.get_indexer([item], method=...) instead.\n",
      "  imax = index.get_loc(maxval, method=\"nearest\")\n",
      "c:\\Users\\ATeklesadik\\Miniconda3\\envs\\geo_env\\lib\\site-packages\\xarray\\core\\missing.py:559: FutureWarning: Passing method to DatetimeIndex.get_loc is deprecated and will raise in a future version. Use index.get_indexer([item], method=...) instead.\n",
      "  imin = index.get_loc(minval, method=\"nearest\")\n",
      "c:\\Users\\ATeklesadik\\Miniconda3\\envs\\geo_env\\lib\\site-packages\\xarray\\core\\missing.py:560: FutureWarning: Passing method to DatetimeIndex.get_loc is deprecated and will raise in a future version. Use index.get_indexer([item], method=...) instead.\n",
      "  imax = index.get_loc(maxval, method=\"nearest\")\n",
      "c:\\Users\\ATeklesadik\\Miniconda3\\envs\\geo_env\\lib\\site-packages\\xarray\\core\\missing.py:559: FutureWarning: Passing method to DatetimeIndex.get_loc is deprecated and will raise in a future version. Use index.get_indexer([item], method=...) instead.\n",
      "  imin = index.get_loc(minval, method=\"nearest\")\n",
      "c:\\Users\\ATeklesadik\\Miniconda3\\envs\\geo_env\\lib\\site-packages\\xarray\\core\\missing.py:560: FutureWarning: Passing method to DatetimeIndex.get_loc is deprecated and will raise in a future version. Use index.get_indexer([item], method=...) instead.\n",
      "  imax = index.get_loc(maxval, method=\"nearest\")\n",
      "c:\\Users\\ATeklesadik\\Miniconda3\\envs\\geo_env\\lib\\site-packages\\xarray\\core\\missing.py:559: FutureWarning: Passing method to DatetimeIndex.get_loc is deprecated and will raise in a future version. Use index.get_indexer([item], method=...) instead.\n",
      "  imin = index.get_loc(minval, method=\"nearest\")\n",
      "c:\\Users\\ATeklesadik\\Miniconda3\\envs\\geo_env\\lib\\site-packages\\xarray\\core\\missing.py:560: FutureWarning: Passing method to DatetimeIndex.get_loc is deprecated and will raise in a future version. Use index.get_indexer([item], method=...) instead.\n",
      "  imax = index.get_loc(maxval, method=\"nearest\")\n",
      "c:\\Users\\ATeklesadik\\Miniconda3\\envs\\geo_env\\lib\\site-packages\\xarray\\core\\missing.py:559: FutureWarning: Passing method to DatetimeIndex.get_loc is deprecated and will raise in a future version. Use index.get_indexer([item], method=...) instead.\n",
      "  imin = index.get_loc(minval, method=\"nearest\")\n",
      "c:\\Users\\ATeklesadik\\Miniconda3\\envs\\geo_env\\lib\\site-packages\\xarray\\core\\missing.py:560: FutureWarning: Passing method to DatetimeIndex.get_loc is deprecated and will raise in a future version. Use index.get_indexer([item], method=...) instead.\n",
      "  imax = index.get_loc(maxval, method=\"nearest\")\n",
      "c:\\Users\\ATeklesadik\\Miniconda3\\envs\\geo_env\\lib\\site-packages\\xarray\\core\\missing.py:559: FutureWarning: Passing method to DatetimeIndex.get_loc is deprecated and will raise in a future version. Use index.get_indexer([item], method=...) instead.\n",
      "  imin = index.get_loc(minval, method=\"nearest\")\n",
      "c:\\Users\\ATeklesadik\\Miniconda3\\envs\\geo_env\\lib\\site-packages\\xarray\\core\\missing.py:560: FutureWarning: Passing method to DatetimeIndex.get_loc is deprecated and will raise in a future version. Use index.get_indexer([item], method=...) instead.\n",
      "  imax = index.get_loc(maxval, method=\"nearest\")\n",
      "c:\\Users\\ATeklesadik\\Miniconda3\\envs\\geo_env\\lib\\site-packages\\xarray\\core\\missing.py:559: FutureWarning: Passing method to DatetimeIndex.get_loc is deprecated and will raise in a future version. Use index.get_indexer([item], method=...) instead.\n",
      "  imin = index.get_loc(minval, method=\"nearest\")\n",
      "c:\\Users\\ATeklesadik\\Miniconda3\\envs\\geo_env\\lib\\site-packages\\xarray\\core\\missing.py:560: FutureWarning: Passing method to DatetimeIndex.get_loc is deprecated and will raise in a future version. Use index.get_indexer([item], method=...) instead.\n",
      "  imax = index.get_loc(maxval, method=\"nearest\")\n",
      "c:\\Users\\ATeklesadik\\Miniconda3\\envs\\geo_env\\lib\\site-packages\\xarray\\core\\missing.py:559: FutureWarning: Passing method to DatetimeIndex.get_loc is deprecated and will raise in a future version. Use index.get_indexer([item], method=...) instead.\n",
      "  imin = index.get_loc(minval, method=\"nearest\")\n",
      "c:\\Users\\ATeklesadik\\Miniconda3\\envs\\geo_env\\lib\\site-packages\\xarray\\core\\missing.py:560: FutureWarning: Passing method to DatetimeIndex.get_loc is deprecated and will raise in a future version. Use index.get_indexer([item], method=...) instead.\n",
      "  imax = index.get_loc(maxval, method=\"nearest\")\n",
      "c:\\Users\\ATeklesadik\\Miniconda3\\envs\\geo_env\\lib\\site-packages\\xarray\\core\\missing.py:559: FutureWarning: Passing method to DatetimeIndex.get_loc is deprecated and will raise in a future version. Use index.get_indexer([item], method=...) instead.\n",
      "  imin = index.get_loc(minval, method=\"nearest\")\n",
      "c:\\Users\\ATeklesadik\\Miniconda3\\envs\\geo_env\\lib\\site-packages\\xarray\\core\\missing.py:560: FutureWarning: Passing method to DatetimeIndex.get_loc is deprecated and will raise in a future version. Use index.get_indexer([item], method=...) instead.\n",
      "  imax = index.get_loc(maxval, method=\"nearest\")\n",
      "c:\\Users\\ATeklesadik\\Miniconda3\\envs\\geo_env\\lib\\site-packages\\xarray\\core\\missing.py:559: FutureWarning: Passing method to DatetimeIndex.get_loc is deprecated and will raise in a future version. Use index.get_indexer([item], method=...) instead.\n",
      "  imin = index.get_loc(minval, method=\"nearest\")\n",
      "c:\\Users\\ATeklesadik\\Miniconda3\\envs\\geo_env\\lib\\site-packages\\xarray\\core\\missing.py:560: FutureWarning: Passing method to DatetimeIndex.get_loc is deprecated and will raise in a future version. Use index.get_indexer([item], method=...) instead.\n",
      "  imax = index.get_loc(maxval, method=\"nearest\")\n",
      "c:\\Users\\ATeklesadik\\Miniconda3\\envs\\geo_env\\lib\\site-packages\\xarray\\core\\missing.py:559: FutureWarning: Passing method to DatetimeIndex.get_loc is deprecated and will raise in a future version. Use index.get_indexer([item], method=...) instead.\n",
      "  imin = index.get_loc(minval, method=\"nearest\")\n",
      "c:\\Users\\ATeklesadik\\Miniconda3\\envs\\geo_env\\lib\\site-packages\\xarray\\core\\missing.py:560: FutureWarning: Passing method to DatetimeIndex.get_loc is deprecated and will raise in a future version. Use index.get_indexer([item], method=...) instead.\n",
      "  imax = index.get_loc(maxval, method=\"nearest\")\n",
      "c:\\Users\\ATeklesadik\\Miniconda3\\envs\\geo_env\\lib\\site-packages\\xarray\\core\\missing.py:559: FutureWarning: Passing method to DatetimeIndex.get_loc is deprecated and will raise in a future version. Use index.get_indexer([item], method=...) instead.\n",
      "  imin = index.get_loc(minval, method=\"nearest\")\n",
      "c:\\Users\\ATeklesadik\\Miniconda3\\envs\\geo_env\\lib\\site-packages\\xarray\\core\\missing.py:560: FutureWarning: Passing method to DatetimeIndex.get_loc is deprecated and will raise in a future version. Use index.get_indexer([item], method=...) instead.\n",
      "  imax = index.get_loc(maxval, method=\"nearest\")\n",
      "c:\\Users\\ATeklesadik\\Miniconda3\\envs\\geo_env\\lib\\site-packages\\xarray\\core\\missing.py:559: FutureWarning: Passing method to DatetimeIndex.get_loc is deprecated and will raise in a future version. Use index.get_indexer([item], method=...) instead.\n",
      "  imin = index.get_loc(minval, method=\"nearest\")\n",
      "c:\\Users\\ATeklesadik\\Miniconda3\\envs\\geo_env\\lib\\site-packages\\xarray\\core\\missing.py:560: FutureWarning: Passing method to DatetimeIndex.get_loc is deprecated and will raise in a future version. Use index.get_indexer([item], method=...) instead.\n",
      "  imax = index.get_loc(maxval, method=\"nearest\")\n",
      "c:\\Users\\ATeklesadik\\Miniconda3\\envs\\geo_env\\lib\\site-packages\\xarray\\core\\missing.py:559: FutureWarning: Passing method to DatetimeIndex.get_loc is deprecated and will raise in a future version. Use index.get_indexer([item], method=...) instead.\n",
      "  imin = index.get_loc(minval, method=\"nearest\")\n",
      "c:\\Users\\ATeklesadik\\Miniconda3\\envs\\geo_env\\lib\\site-packages\\xarray\\core\\missing.py:560: FutureWarning: Passing method to DatetimeIndex.get_loc is deprecated and will raise in a future version. Use index.get_indexer([item], method=...) instead.\n",
      "  imax = index.get_loc(maxval, method=\"nearest\")\n",
      "c:\\Users\\ATeklesadik\\Miniconda3\\envs\\geo_env\\lib\\site-packages\\xarray\\core\\missing.py:559: FutureWarning: Passing method to DatetimeIndex.get_loc is deprecated and will raise in a future version. Use index.get_indexer([item], method=...) instead.\n",
      "  imin = index.get_loc(minval, method=\"nearest\")\n",
      "c:\\Users\\ATeklesadik\\Miniconda3\\envs\\geo_env\\lib\\site-packages\\xarray\\core\\missing.py:560: FutureWarning: Passing method to DatetimeIndex.get_loc is deprecated and will raise in a future version. Use index.get_indexer([item], method=...) instead.\n",
      "  imax = index.get_loc(maxval, method=\"nearest\")\n",
      "c:\\Users\\ATeklesadik\\Miniconda3\\envs\\geo_env\\lib\\site-packages\\xarray\\core\\missing.py:559: FutureWarning: Passing method to DatetimeIndex.get_loc is deprecated and will raise in a future version. Use index.get_indexer([item], method=...) instead.\n",
      "  imin = index.get_loc(minval, method=\"nearest\")\n",
      "c:\\Users\\ATeklesadik\\Miniconda3\\envs\\geo_env\\lib\\site-packages\\xarray\\core\\missing.py:560: FutureWarning: Passing method to DatetimeIndex.get_loc is deprecated and will raise in a future version. Use index.get_indexer([item], method=...) instead.\n",
      "  imax = index.get_loc(maxval, method=\"nearest\")\n",
      "c:\\Users\\ATeklesadik\\Miniconda3\\envs\\geo_env\\lib\\site-packages\\xarray\\core\\missing.py:559: FutureWarning: Passing method to DatetimeIndex.get_loc is deprecated and will raise in a future version. Use index.get_indexer([item], method=...) instead.\n",
      "  imin = index.get_loc(minval, method=\"nearest\")\n",
      "c:\\Users\\ATeklesadik\\Miniconda3\\envs\\geo_env\\lib\\site-packages\\xarray\\core\\missing.py:560: FutureWarning: Passing method to DatetimeIndex.get_loc is deprecated and will raise in a future version. Use index.get_indexer([item], method=...) instead.\n",
      "  imax = index.get_loc(maxval, method=\"nearest\")\n",
      "c:\\Users\\ATeklesadik\\Miniconda3\\envs\\geo_env\\lib\\site-packages\\xarray\\core\\missing.py:559: FutureWarning: Passing method to DatetimeIndex.get_loc is deprecated and will raise in a future version. Use index.get_indexer([item], method=...) instead.\n",
      "  imin = index.get_loc(minval, method=\"nearest\")\n",
      "c:\\Users\\ATeklesadik\\Miniconda3\\envs\\geo_env\\lib\\site-packages\\xarray\\core\\missing.py:560: FutureWarning: Passing method to DatetimeIndex.get_loc is deprecated and will raise in a future version. Use index.get_indexer([item], method=...) instead.\n",
      "  imax = index.get_loc(maxval, method=\"nearest\")\n",
      "c:\\Users\\ATeklesadik\\Miniconda3\\envs\\geo_env\\lib\\site-packages\\xarray\\core\\missing.py:559: FutureWarning: Passing method to DatetimeIndex.get_loc is deprecated and will raise in a future version. Use index.get_indexer([item], method=...) instead.\n",
      "  imin = index.get_loc(minval, method=\"nearest\")\n",
      "c:\\Users\\ATeklesadik\\Miniconda3\\envs\\geo_env\\lib\\site-packages\\xarray\\core\\missing.py:560: FutureWarning: Passing method to DatetimeIndex.get_loc is deprecated and will raise in a future version. Use index.get_indexer([item], method=...) instead.\n",
      "  imax = index.get_loc(maxval, method=\"nearest\")\n",
      "c:\\Users\\ATeklesadik\\Miniconda3\\envs\\geo_env\\lib\\site-packages\\xarray\\core\\missing.py:559: FutureWarning: Passing method to DatetimeIndex.get_loc is deprecated and will raise in a future version. Use index.get_indexer([item], method=...) instead.\n",
      "  imin = index.get_loc(minval, method=\"nearest\")\n",
      "c:\\Users\\ATeklesadik\\Miniconda3\\envs\\geo_env\\lib\\site-packages\\xarray\\core\\missing.py:560: FutureWarning: Passing method to DatetimeIndex.get_loc is deprecated and will raise in a future version. Use index.get_indexer([item], method=...) instead.\n",
      "  imax = index.get_loc(maxval, method=\"nearest\")\n",
      "c:\\Users\\ATeklesadik\\Miniconda3\\envs\\geo_env\\lib\\site-packages\\xarray\\core\\missing.py:559: FutureWarning: Passing method to DatetimeIndex.get_loc is deprecated and will raise in a future version. Use index.get_indexer([item], method=...) instead.\n",
      "  imin = index.get_loc(minval, method=\"nearest\")\n",
      "c:\\Users\\ATeklesadik\\Miniconda3\\envs\\geo_env\\lib\\site-packages\\xarray\\core\\missing.py:560: FutureWarning: Passing method to DatetimeIndex.get_loc is deprecated and will raise in a future version. Use index.get_indexer([item], method=...) instead.\n",
      "  imax = index.get_loc(maxval, method=\"nearest\")\n",
      "c:\\Users\\ATeklesadik\\Miniconda3\\envs\\geo_env\\lib\\site-packages\\xarray\\core\\missing.py:559: FutureWarning: Passing method to DatetimeIndex.get_loc is deprecated and will raise in a future version. Use index.get_indexer([item], method=...) instead.\n",
      "  imin = index.get_loc(minval, method=\"nearest\")\n",
      "c:\\Users\\ATeklesadik\\Miniconda3\\envs\\geo_env\\lib\\site-packages\\xarray\\core\\missing.py:560: FutureWarning: Passing method to DatetimeIndex.get_loc is deprecated and will raise in a future version. Use index.get_indexer([item], method=...) instead.\n",
      "  imax = index.get_loc(maxval, method=\"nearest\")\n",
      "c:\\Users\\ATeklesadik\\Miniconda3\\envs\\geo_env\\lib\\site-packages\\xarray\\core\\missing.py:559: FutureWarning: Passing method to DatetimeIndex.get_loc is deprecated and will raise in a future version. Use index.get_indexer([item], method=...) instead.\n",
      "  imin = index.get_loc(minval, method=\"nearest\")\n",
      "c:\\Users\\ATeklesadik\\Miniconda3\\envs\\geo_env\\lib\\site-packages\\xarray\\core\\missing.py:560: FutureWarning: Passing method to DatetimeIndex.get_loc is deprecated and will raise in a future version. Use index.get_indexer([item], method=...) instead.\n",
      "  imax = index.get_loc(maxval, method=\"nearest\")\n",
      "c:\\Users\\ATeklesadik\\Miniconda3\\envs\\geo_env\\lib\\site-packages\\xarray\\core\\missing.py:559: FutureWarning: Passing method to DatetimeIndex.get_loc is deprecated and will raise in a future version. Use index.get_indexer([item], method=...) instead.\n",
      "  imin = index.get_loc(minval, method=\"nearest\")\n",
      "c:\\Users\\ATeklesadik\\Miniconda3\\envs\\geo_env\\lib\\site-packages\\xarray\\core\\missing.py:560: FutureWarning: Passing method to DatetimeIndex.get_loc is deprecated and will raise in a future version. Use index.get_indexer([item], method=...) instead.\n",
      "  imax = index.get_loc(maxval, method=\"nearest\")\n",
      "c:\\Users\\ATeklesadik\\Miniconda3\\envs\\geo_env\\lib\\site-packages\\xarray\\core\\missing.py:559: FutureWarning: Passing method to DatetimeIndex.get_loc is deprecated and will raise in a future version. Use index.get_indexer([item], method=...) instead.\n",
      "  imin = index.get_loc(minval, method=\"nearest\")\n",
      "c:\\Users\\ATeklesadik\\Miniconda3\\envs\\geo_env\\lib\\site-packages\\xarray\\core\\missing.py:560: FutureWarning: Passing method to DatetimeIndex.get_loc is deprecated and will raise in a future version. Use index.get_indexer([item], method=...) instead.\n",
      "  imax = index.get_loc(maxval, method=\"nearest\")\n",
      "c:\\Users\\ATeklesadik\\Miniconda3\\envs\\geo_env\\lib\\site-packages\\xarray\\core\\missing.py:559: FutureWarning: Passing method to DatetimeIndex.get_loc is deprecated and will raise in a future version. Use index.get_indexer([item], method=...) instead.\n",
      "  imin = index.get_loc(minval, method=\"nearest\")\n",
      "c:\\Users\\ATeklesadik\\Miniconda3\\envs\\geo_env\\lib\\site-packages\\xarray\\core\\missing.py:560: FutureWarning: Passing method to DatetimeIndex.get_loc is deprecated and will raise in a future version. Use index.get_indexer([item], method=...) instead.\n",
      "  imax = index.get_loc(maxval, method=\"nearest\")\n",
      "c:\\Users\\ATeklesadik\\Miniconda3\\envs\\geo_env\\lib\\site-packages\\xarray\\core\\missing.py:559: FutureWarning: Passing method to DatetimeIndex.get_loc is deprecated and will raise in a future version. Use index.get_indexer([item], method=...) instead.\n",
      "  imin = index.get_loc(minval, method=\"nearest\")\n",
      "c:\\Users\\ATeklesadik\\Miniconda3\\envs\\geo_env\\lib\\site-packages\\xarray\\core\\missing.py:560: FutureWarning: Passing method to DatetimeIndex.get_loc is deprecated and will raise in a future version. Use index.get_indexer([item], method=...) instead.\n",
      "  imax = index.get_loc(maxval, method=\"nearest\")\n",
      "c:\\Users\\ATeklesadik\\Miniconda3\\envs\\geo_env\\lib\\site-packages\\xarray\\core\\missing.py:559: FutureWarning: Passing method to DatetimeIndex.get_loc is deprecated and will raise in a future version. Use index.get_indexer([item], method=...) instead.\n",
      "  imin = index.get_loc(minval, method=\"nearest\")\n",
      "c:\\Users\\ATeklesadik\\Miniconda3\\envs\\geo_env\\lib\\site-packages\\xarray\\core\\missing.py:560: FutureWarning: Passing method to DatetimeIndex.get_loc is deprecated and will raise in a future version. Use index.get_indexer([item], method=...) instead.\n",
      "  imax = index.get_loc(maxval, method=\"nearest\")\n",
      "c:\\Users\\ATeklesadik\\Miniconda3\\envs\\geo_env\\lib\\site-packages\\xarray\\core\\missing.py:559: FutureWarning: Passing method to DatetimeIndex.get_loc is deprecated and will raise in a future version. Use index.get_indexer([item], method=...) instead.\n",
      "  imin = index.get_loc(minval, method=\"nearest\")\n",
      "c:\\Users\\ATeklesadik\\Miniconda3\\envs\\geo_env\\lib\\site-packages\\xarray\\core\\missing.py:560: FutureWarning: Passing method to DatetimeIndex.get_loc is deprecated and will raise in a future version. Use index.get_indexer([item], method=...) instead.\n",
      "  imax = index.get_loc(maxval, method=\"nearest\")\n",
      "c:\\Users\\ATeklesadik\\Miniconda3\\envs\\geo_env\\lib\\site-packages\\xarray\\core\\missing.py:559: FutureWarning: Passing method to DatetimeIndex.get_loc is deprecated and will raise in a future version. Use index.get_indexer([item], method=...) instead.\n",
      "  imin = index.get_loc(minval, method=\"nearest\")\n",
      "c:\\Users\\ATeklesadik\\Miniconda3\\envs\\geo_env\\lib\\site-packages\\xarray\\core\\missing.py:560: FutureWarning: Passing method to DatetimeIndex.get_loc is deprecated and will raise in a future version. Use index.get_indexer([item], method=...) instead.\n",
      "  imax = index.get_loc(maxval, method=\"nearest\")\n",
      "c:\\Users\\ATeklesadik\\Miniconda3\\envs\\geo_env\\lib\\site-packages\\xarray\\core\\missing.py:559: FutureWarning: Passing method to DatetimeIndex.get_loc is deprecated and will raise in a future version. Use index.get_indexer([item], method=...) instead.\n",
      "  imin = index.get_loc(minval, method=\"nearest\")\n",
      "c:\\Users\\ATeklesadik\\Miniconda3\\envs\\geo_env\\lib\\site-packages\\xarray\\core\\missing.py:560: FutureWarning: Passing method to DatetimeIndex.get_loc is deprecated and will raise in a future version. Use index.get_indexer([item], method=...) instead.\n",
      "  imax = index.get_loc(maxval, method=\"nearest\")\n",
      "c:\\Users\\ATeklesadik\\Miniconda3\\envs\\geo_env\\lib\\site-packages\\xarray\\core\\missing.py:559: FutureWarning: Passing method to DatetimeIndex.get_loc is deprecated and will raise in a future version. Use index.get_indexer([item], method=...) instead.\n",
      "  imin = index.get_loc(minval, method=\"nearest\")\n",
      "c:\\Users\\ATeklesadik\\Miniconda3\\envs\\geo_env\\lib\\site-packages\\xarray\\core\\missing.py:560: FutureWarning: Passing method to DatetimeIndex.get_loc is deprecated and will raise in a future version. Use index.get_indexer([item], method=...) instead.\n",
      "  imax = index.get_loc(maxval, method=\"nearest\")\n",
      "c:\\Users\\ATeklesadik\\Miniconda3\\envs\\geo_env\\lib\\site-packages\\xarray\\core\\missing.py:559: FutureWarning: Passing method to DatetimeIndex.get_loc is deprecated and will raise in a future version. Use index.get_indexer([item], method=...) instead.\n",
      "  imin = index.get_loc(minval, method=\"nearest\")\n",
      "c:\\Users\\ATeklesadik\\Miniconda3\\envs\\geo_env\\lib\\site-packages\\xarray\\core\\missing.py:560: FutureWarning: Passing method to DatetimeIndex.get_loc is deprecated and will raise in a future version. Use index.get_indexer([item], method=...) instead.\n",
      "  imax = index.get_loc(maxval, method=\"nearest\")\n",
      "c:\\Users\\ATeklesadik\\Miniconda3\\envs\\geo_env\\lib\\site-packages\\xarray\\core\\missing.py:559: FutureWarning: Passing method to DatetimeIndex.get_loc is deprecated and will raise in a future version. Use index.get_indexer([item], method=...) instead.\n",
      "  imin = index.get_loc(minval, method=\"nearest\")\n",
      "c:\\Users\\ATeklesadik\\Miniconda3\\envs\\geo_env\\lib\\site-packages\\xarray\\core\\missing.py:560: FutureWarning: Passing method to DatetimeIndex.get_loc is deprecated and will raise in a future version. Use index.get_indexer([item], method=...) instead.\n",
      "  imax = index.get_loc(maxval, method=\"nearest\")\n",
      "c:\\Users\\ATeklesadik\\Miniconda3\\envs\\geo_env\\lib\\site-packages\\xarray\\core\\missing.py:559: FutureWarning: Passing method to DatetimeIndex.get_loc is deprecated and will raise in a future version. Use index.get_indexer([item], method=...) instead.\n",
      "  imin = index.get_loc(minval, method=\"nearest\")\n",
      "c:\\Users\\ATeklesadik\\Miniconda3\\envs\\geo_env\\lib\\site-packages\\xarray\\core\\missing.py:560: FutureWarning: Passing method to DatetimeIndex.get_loc is deprecated and will raise in a future version. Use index.get_indexer([item], method=...) instead.\n",
      "  imax = index.get_loc(maxval, method=\"nearest\")\n",
      "c:\\Users\\ATeklesadik\\Miniconda3\\envs\\geo_env\\lib\\site-packages\\xarray\\core\\missing.py:559: FutureWarning: Passing method to DatetimeIndex.get_loc is deprecated and will raise in a future version. Use index.get_indexer([item], method=...) instead.\n",
      "  imin = index.get_loc(minval, method=\"nearest\")\n",
      "c:\\Users\\ATeklesadik\\Miniconda3\\envs\\geo_env\\lib\\site-packages\\xarray\\core\\missing.py:560: FutureWarning: Passing method to DatetimeIndex.get_loc is deprecated and will raise in a future version. Use index.get_indexer([item], method=...) instead.\n",
      "  imax = index.get_loc(maxval, method=\"nearest\")\n",
      "c:\\Users\\ATeklesadik\\Miniconda3\\envs\\geo_env\\lib\\site-packages\\xarray\\core\\missing.py:559: FutureWarning: Passing method to DatetimeIndex.get_loc is deprecated and will raise in a future version. Use index.get_indexer([item], method=...) instead.\n",
      "  imin = index.get_loc(minval, method=\"nearest\")\n",
      "c:\\Users\\ATeklesadik\\Miniconda3\\envs\\geo_env\\lib\\site-packages\\xarray\\core\\missing.py:560: FutureWarning: Passing method to DatetimeIndex.get_loc is deprecated and will raise in a future version. Use index.get_indexer([item], method=...) instead.\n",
      "  imax = index.get_loc(maxval, method=\"nearest\")\n",
      "c:\\Users\\ATeklesadik\\Miniconda3\\envs\\geo_env\\lib\\site-packages\\xarray\\core\\missing.py:559: FutureWarning: Passing method to DatetimeIndex.get_loc is deprecated and will raise in a future version. Use index.get_indexer([item], method=...) instead.\n",
      "  imin = index.get_loc(minval, method=\"nearest\")\n",
      "c:\\Users\\ATeklesadik\\Miniconda3\\envs\\geo_env\\lib\\site-packages\\xarray\\core\\missing.py:560: FutureWarning: Passing method to DatetimeIndex.get_loc is deprecated and will raise in a future version. Use index.get_indexer([item], method=...) instead.\n",
      "  imax = index.get_loc(maxval, method=\"nearest\")\n",
      "c:\\Users\\ATeklesadik\\Miniconda3\\envs\\geo_env\\lib\\site-packages\\xarray\\core\\missing.py:559: FutureWarning: Passing method to DatetimeIndex.get_loc is deprecated and will raise in a future version. Use index.get_indexer([item], method=...) instead.\n",
      "  imin = index.get_loc(minval, method=\"nearest\")\n",
      "c:\\Users\\ATeklesadik\\Miniconda3\\envs\\geo_env\\lib\\site-packages\\xarray\\core\\missing.py:560: FutureWarning: Passing method to DatetimeIndex.get_loc is deprecated and will raise in a future version. Use index.get_indexer([item], method=...) instead.\n",
      "  imax = index.get_loc(maxval, method=\"nearest\")\n",
      "c:\\Users\\ATeklesadik\\Miniconda3\\envs\\geo_env\\lib\\site-packages\\xarray\\core\\missing.py:559: FutureWarning: Passing method to DatetimeIndex.get_loc is deprecated and will raise in a future version. Use index.get_indexer([item], method=...) instead.\n",
      "  imin = index.get_loc(minval, method=\"nearest\")\n",
      "c:\\Users\\ATeklesadik\\Miniconda3\\envs\\geo_env\\lib\\site-packages\\xarray\\core\\missing.py:560: FutureWarning: Passing method to DatetimeIndex.get_loc is deprecated and will raise in a future version. Use index.get_indexer([item], method=...) instead.\n",
      "  imax = index.get_loc(maxval, method=\"nearest\")\n",
      "c:\\Users\\ATeklesadik\\Miniconda3\\envs\\geo_env\\lib\\site-packages\\xarray\\core\\missing.py:559: FutureWarning: Passing method to DatetimeIndex.get_loc is deprecated and will raise in a future version. Use index.get_indexer([item], method=...) instead.\n",
      "  imin = index.get_loc(minval, method=\"nearest\")\n",
      "c:\\Users\\ATeklesadik\\Miniconda3\\envs\\geo_env\\lib\\site-packages\\xarray\\core\\missing.py:560: FutureWarning: Passing method to DatetimeIndex.get_loc is deprecated and will raise in a future version. Use index.get_indexer([item], method=...) instead.\n",
      "  imax = index.get_loc(maxval, method=\"nearest\")\n",
      "c:\\Users\\ATeklesadik\\Miniconda3\\envs\\geo_env\\lib\\site-packages\\xarray\\core\\missing.py:559: FutureWarning: Passing method to DatetimeIndex.get_loc is deprecated and will raise in a future version. Use index.get_indexer([item], method=...) instead.\n",
      "  imin = index.get_loc(minval, method=\"nearest\")\n",
      "c:\\Users\\ATeklesadik\\Miniconda3\\envs\\geo_env\\lib\\site-packages\\xarray\\core\\missing.py:560: FutureWarning: Passing method to DatetimeIndex.get_loc is deprecated and will raise in a future version. Use index.get_indexer([item], method=...) instead.\n",
      "  imax = index.get_loc(maxval, method=\"nearest\")\n",
      "c:\\Users\\ATeklesadik\\Miniconda3\\envs\\geo_env\\lib\\site-packages\\xarray\\core\\missing.py:559: FutureWarning: Passing method to DatetimeIndex.get_loc is deprecated and will raise in a future version. Use index.get_indexer([item], method=...) instead.\n",
      "  imin = index.get_loc(minval, method=\"nearest\")\n",
      "c:\\Users\\ATeklesadik\\Miniconda3\\envs\\geo_env\\lib\\site-packages\\xarray\\core\\missing.py:560: FutureWarning: Passing method to DatetimeIndex.get_loc is deprecated and will raise in a future version. Use index.get_indexer([item], method=...) instead.\n",
      "  imax = index.get_loc(maxval, method=\"nearest\")\n",
      "c:\\Users\\ATeklesadik\\Miniconda3\\envs\\geo_env\\lib\\site-packages\\xarray\\core\\missing.py:559: FutureWarning: Passing method to DatetimeIndex.get_loc is deprecated and will raise in a future version. Use index.get_indexer([item], method=...) instead.\n",
      "  imin = index.get_loc(minval, method=\"nearest\")\n",
      "c:\\Users\\ATeklesadik\\Miniconda3\\envs\\geo_env\\lib\\site-packages\\xarray\\core\\missing.py:560: FutureWarning: Passing method to DatetimeIndex.get_loc is deprecated and will raise in a future version. Use index.get_indexer([item], method=...) instead.\n",
      "  imax = index.get_loc(maxval, method=\"nearest\")\n",
      "c:\\Users\\ATeklesadik\\Miniconda3\\envs\\geo_env\\lib\\site-packages\\xarray\\core\\missing.py:559: FutureWarning: Passing method to DatetimeIndex.get_loc is deprecated and will raise in a future version. Use index.get_indexer([item], method=...) instead.\n",
      "  imin = index.get_loc(minval, method=\"nearest\")\n",
      "c:\\Users\\ATeklesadik\\Miniconda3\\envs\\geo_env\\lib\\site-packages\\xarray\\core\\missing.py:560: FutureWarning: Passing method to DatetimeIndex.get_loc is deprecated and will raise in a future version. Use index.get_indexer([item], method=...) instead.\n",
      "  imax = index.get_loc(maxval, method=\"nearest\")\n",
      "c:\\Users\\ATeklesadik\\Miniconda3\\envs\\geo_env\\lib\\site-packages\\xarray\\core\\missing.py:559: FutureWarning: Passing method to DatetimeIndex.get_loc is deprecated and will raise in a future version. Use index.get_indexer([item], method=...) instead.\n",
      "  imin = index.get_loc(minval, method=\"nearest\")\n",
      "c:\\Users\\ATeklesadik\\Miniconda3\\envs\\geo_env\\lib\\site-packages\\xarray\\core\\missing.py:560: FutureWarning: Passing method to DatetimeIndex.get_loc is deprecated and will raise in a future version. Use index.get_indexer([item], method=...) instead.\n",
      "  imax = index.get_loc(maxval, method=\"nearest\")\n",
      "c:\\Users\\ATeklesadik\\Miniconda3\\envs\\geo_env\\lib\\site-packages\\xarray\\core\\missing.py:559: FutureWarning: Passing method to DatetimeIndex.get_loc is deprecated and will raise in a future version. Use index.get_indexer([item], method=...) instead.\n",
      "  imin = index.get_loc(minval, method=\"nearest\")\n",
      "c:\\Users\\ATeklesadik\\Miniconda3\\envs\\geo_env\\lib\\site-packages\\xarray\\core\\missing.py:560: FutureWarning: Passing method to DatetimeIndex.get_loc is deprecated and will raise in a future version. Use index.get_indexer([item], method=...) instead.\n",
      "  imax = index.get_loc(maxval, method=\"nearest\")\n",
      "c:\\Users\\ATeklesadik\\Miniconda3\\envs\\geo_env\\lib\\site-packages\\xarray\\core\\missing.py:559: FutureWarning: Passing method to DatetimeIndex.get_loc is deprecated and will raise in a future version. Use index.get_indexer([item], method=...) instead.\n",
      "  imin = index.get_loc(minval, method=\"nearest\")\n",
      "c:\\Users\\ATeklesadik\\Miniconda3\\envs\\geo_env\\lib\\site-packages\\xarray\\core\\missing.py:560: FutureWarning: Passing method to DatetimeIndex.get_loc is deprecated and will raise in a future version. Use index.get_indexer([item], method=...) instead.\n",
      "  imax = index.get_loc(maxval, method=\"nearest\")\n",
      "c:\\Users\\ATeklesadik\\Miniconda3\\envs\\geo_env\\lib\\site-packages\\xarray\\core\\missing.py:559: FutureWarning: Passing method to DatetimeIndex.get_loc is deprecated and will raise in a future version. Use index.get_indexer([item], method=...) instead.\n",
      "  imin = index.get_loc(minval, method=\"nearest\")\n",
      "c:\\Users\\ATeklesadik\\Miniconda3\\envs\\geo_env\\lib\\site-packages\\xarray\\core\\missing.py:560: FutureWarning: Passing method to DatetimeIndex.get_loc is deprecated and will raise in a future version. Use index.get_indexer([item], method=...) instead.\n",
      "  imax = index.get_loc(maxval, method=\"nearest\")\n",
      "c:\\Users\\ATeklesadik\\Miniconda3\\envs\\geo_env\\lib\\site-packages\\xarray\\core\\missing.py:559: FutureWarning: Passing method to DatetimeIndex.get_loc is deprecated and will raise in a future version. Use index.get_indexer([item], method=...) instead.\n",
      "  imin = index.get_loc(minval, method=\"nearest\")\n",
      "c:\\Users\\ATeklesadik\\Miniconda3\\envs\\geo_env\\lib\\site-packages\\xarray\\core\\missing.py:560: FutureWarning: Passing method to DatetimeIndex.get_loc is deprecated and will raise in a future version. Use index.get_indexer([item], method=...) instead.\n",
      "  imax = index.get_loc(maxval, method=\"nearest\")\n",
      "c:\\Users\\ATeklesadik\\Miniconda3\\envs\\geo_env\\lib\\site-packages\\xarray\\core\\missing.py:559: FutureWarning: Passing method to DatetimeIndex.get_loc is deprecated and will raise in a future version. Use index.get_indexer([item], method=...) instead.\n",
      "  imin = index.get_loc(minval, method=\"nearest\")\n",
      "c:\\Users\\ATeklesadik\\Miniconda3\\envs\\geo_env\\lib\\site-packages\\xarray\\core\\missing.py:560: FutureWarning: Passing method to DatetimeIndex.get_loc is deprecated and will raise in a future version. Use index.get_indexer([item], method=...) instead.\n",
      "  imax = index.get_loc(maxval, method=\"nearest\")\n",
      "c:\\Users\\ATeklesadik\\Miniconda3\\envs\\geo_env\\lib\\site-packages\\xarray\\core\\missing.py:559: FutureWarning: Passing method to DatetimeIndex.get_loc is deprecated and will raise in a future version. Use index.get_indexer([item], method=...) instead.\n",
      "  imin = index.get_loc(minval, method=\"nearest\")\n",
      "c:\\Users\\ATeklesadik\\Miniconda3\\envs\\geo_env\\lib\\site-packages\\xarray\\core\\missing.py:560: FutureWarning: Passing method to DatetimeIndex.get_loc is deprecated and will raise in a future version. Use index.get_indexer([item], method=...) instead.\n",
      "  imax = index.get_loc(maxval, method=\"nearest\")\n",
      "c:\\Users\\ATeklesadik\\Miniconda3\\envs\\geo_env\\lib\\site-packages\\xarray\\core\\missing.py:559: FutureWarning: Passing method to DatetimeIndex.get_loc is deprecated and will raise in a future version. Use index.get_indexer([item], method=...) instead.\n",
      "  imin = index.get_loc(minval, method=\"nearest\")\n",
      "c:\\Users\\ATeklesadik\\Miniconda3\\envs\\geo_env\\lib\\site-packages\\xarray\\core\\missing.py:560: FutureWarning: Passing method to DatetimeIndex.get_loc is deprecated and will raise in a future version. Use index.get_indexer([item], method=...) instead.\n",
      "  imax = index.get_loc(maxval, method=\"nearest\")\n",
      "c:\\Users\\ATeklesadik\\Miniconda3\\envs\\geo_env\\lib\\site-packages\\xarray\\core\\missing.py:559: FutureWarning: Passing method to DatetimeIndex.get_loc is deprecated and will raise in a future version. Use index.get_indexer([item], method=...) instead.\n",
      "  imin = index.get_loc(minval, method=\"nearest\")\n",
      "c:\\Users\\ATeklesadik\\Miniconda3\\envs\\geo_env\\lib\\site-packages\\xarray\\core\\missing.py:560: FutureWarning: Passing method to DatetimeIndex.get_loc is deprecated and will raise in a future version. Use index.get_indexer([item], method=...) instead.\n",
      "  imax = index.get_loc(maxval, method=\"nearest\")\n",
      "c:\\Users\\ATeklesadik\\Miniconda3\\envs\\geo_env\\lib\\site-packages\\xarray\\core\\missing.py:559: FutureWarning: Passing method to DatetimeIndex.get_loc is deprecated and will raise in a future version. Use index.get_indexer([item], method=...) instead.\n",
      "  imin = index.get_loc(minval, method=\"nearest\")\n",
      "c:\\Users\\ATeklesadik\\Miniconda3\\envs\\geo_env\\lib\\site-packages\\xarray\\core\\missing.py:560: FutureWarning: Passing method to DatetimeIndex.get_loc is deprecated and will raise in a future version. Use index.get_indexer([item], method=...) instead.\n",
      "  imax = index.get_loc(maxval, method=\"nearest\")\n",
      "c:\\Users\\ATeklesadik\\Miniconda3\\envs\\geo_env\\lib\\site-packages\\xarray\\core\\missing.py:559: FutureWarning: Passing method to DatetimeIndex.get_loc is deprecated and will raise in a future version. Use index.get_indexer([item], method=...) instead.\n",
      "  imin = index.get_loc(minval, method=\"nearest\")\n",
      "c:\\Users\\ATeklesadik\\Miniconda3\\envs\\geo_env\\lib\\site-packages\\xarray\\core\\missing.py:560: FutureWarning: Passing method to DatetimeIndex.get_loc is deprecated and will raise in a future version. Use index.get_indexer([item], method=...) instead.\n",
      "  imax = index.get_loc(maxval, method=\"nearest\")\n",
      "c:\\Users\\ATeklesadik\\Miniconda3\\envs\\geo_env\\lib\\site-packages\\xarray\\core\\missing.py:559: FutureWarning: Passing method to DatetimeIndex.get_loc is deprecated and will raise in a future version. Use index.get_indexer([item], method=...) instead.\n",
      "  imin = index.get_loc(minval, method=\"nearest\")\n",
      "c:\\Users\\ATeklesadik\\Miniconda3\\envs\\geo_env\\lib\\site-packages\\xarray\\core\\missing.py:560: FutureWarning: Passing method to DatetimeIndex.get_loc is deprecated and will raise in a future version. Use index.get_indexer([item], method=...) instead.\n",
      "  imax = index.get_loc(maxval, method=\"nearest\")\n",
      "c:\\Users\\ATeklesadik\\Miniconda3\\envs\\geo_env\\lib\\site-packages\\xarray\\core\\missing.py:559: FutureWarning: Passing method to DatetimeIndex.get_loc is deprecated and will raise in a future version. Use index.get_indexer([item], method=...) instead.\n",
      "  imin = index.get_loc(minval, method=\"nearest\")\n",
      "c:\\Users\\ATeklesadik\\Miniconda3\\envs\\geo_env\\lib\\site-packages\\xarray\\core\\missing.py:560: FutureWarning: Passing method to DatetimeIndex.get_loc is deprecated and will raise in a future version. Use index.get_indexer([item], method=...) instead.\n",
      "  imax = index.get_loc(maxval, method=\"nearest\")\n",
      "c:\\Users\\ATeklesadik\\Miniconda3\\envs\\geo_env\\lib\\site-packages\\xarray\\core\\missing.py:559: FutureWarning: Passing method to DatetimeIndex.get_loc is deprecated and will raise in a future version. Use index.get_indexer([item], method=...) instead.\n",
      "  imin = index.get_loc(minval, method=\"nearest\")\n",
      "c:\\Users\\ATeklesadik\\Miniconda3\\envs\\geo_env\\lib\\site-packages\\xarray\\core\\missing.py:560: FutureWarning: Passing method to DatetimeIndex.get_loc is deprecated and will raise in a future version. Use index.get_indexer([item], method=...) instead.\n",
      "  imax = index.get_loc(maxval, method=\"nearest\")\n",
      "c:\\Users\\ATeklesadik\\Miniconda3\\envs\\geo_env\\lib\\site-packages\\xarray\\core\\missing.py:559: FutureWarning: Passing method to DatetimeIndex.get_loc is deprecated and will raise in a future version. Use index.get_indexer([item], method=...) instead.\n",
      "  imin = index.get_loc(minval, method=\"nearest\")\n",
      "c:\\Users\\ATeklesadik\\Miniconda3\\envs\\geo_env\\lib\\site-packages\\xarray\\core\\missing.py:560: FutureWarning: Passing method to DatetimeIndex.get_loc is deprecated and will raise in a future version. Use index.get_indexer([item], method=...) instead.\n",
      "  imax = index.get_loc(maxval, method=\"nearest\")\n",
      "c:\\Users\\ATeklesadik\\Miniconda3\\envs\\geo_env\\lib\\site-packages\\xarray\\core\\missing.py:559: FutureWarning: Passing method to DatetimeIndex.get_loc is deprecated and will raise in a future version. Use index.get_indexer([item], method=...) instead.\n",
      "  imin = index.get_loc(minval, method=\"nearest\")\n",
      "c:\\Users\\ATeklesadik\\Miniconda3\\envs\\geo_env\\lib\\site-packages\\xarray\\core\\missing.py:560: FutureWarning: Passing method to DatetimeIndex.get_loc is deprecated and will raise in a future version. Use index.get_indexer([item], method=...) instead.\n",
      "  imax = index.get_loc(maxval, method=\"nearest\")\n",
      "c:\\Users\\ATeklesadik\\Miniconda3\\envs\\geo_env\\lib\\site-packages\\xarray\\core\\missing.py:559: FutureWarning: Passing method to DatetimeIndex.get_loc is deprecated and will raise in a future version. Use index.get_indexer([item], method=...) instead.\n",
      "  imin = index.get_loc(minval, method=\"nearest\")\n",
      "c:\\Users\\ATeklesadik\\Miniconda3\\envs\\geo_env\\lib\\site-packages\\xarray\\core\\missing.py:560: FutureWarning: Passing method to DatetimeIndex.get_loc is deprecated and will raise in a future version. Use index.get_indexer([item], method=...) instead.\n",
      "  imax = index.get_loc(maxval, method=\"nearest\")\n",
      "c:\\Users\\ATeklesadik\\Miniconda3\\envs\\geo_env\\lib\\site-packages\\xarray\\core\\missing.py:559: FutureWarning: Passing method to DatetimeIndex.get_loc is deprecated and will raise in a future version. Use index.get_indexer([item], method=...) instead.\n",
      "  imin = index.get_loc(minval, method=\"nearest\")\n",
      "c:\\Users\\ATeklesadik\\Miniconda3\\envs\\geo_env\\lib\\site-packages\\xarray\\core\\missing.py:560: FutureWarning: Passing method to DatetimeIndex.get_loc is deprecated and will raise in a future version. Use index.get_indexer([item], method=...) instead.\n",
      "  imax = index.get_loc(maxval, method=\"nearest\")\n",
      "c:\\Users\\ATeklesadik\\Miniconda3\\envs\\geo_env\\lib\\site-packages\\xarray\\core\\missing.py:559: FutureWarning: Passing method to DatetimeIndex.get_loc is deprecated and will raise in a future version. Use index.get_indexer([item], method=...) instead.\n",
      "  imin = index.get_loc(minval, method=\"nearest\")\n",
      "c:\\Users\\ATeklesadik\\Miniconda3\\envs\\geo_env\\lib\\site-packages\\xarray\\core\\missing.py:560: FutureWarning: Passing method to DatetimeIndex.get_loc is deprecated and will raise in a future version. Use index.get_indexer([item], method=...) instead.\n",
      "  imax = index.get_loc(maxval, method=\"nearest\")\n",
      "c:\\Users\\ATeklesadik\\Miniconda3\\envs\\geo_env\\lib\\site-packages\\xarray\\core\\missing.py:559: FutureWarning: Passing method to DatetimeIndex.get_loc is deprecated and will raise in a future version. Use index.get_indexer([item], method=...) instead.\n",
      "  imin = index.get_loc(minval, method=\"nearest\")\n",
      "c:\\Users\\ATeklesadik\\Miniconda3\\envs\\geo_env\\lib\\site-packages\\xarray\\core\\missing.py:560: FutureWarning: Passing method to DatetimeIndex.get_loc is deprecated and will raise in a future version. Use index.get_indexer([item], method=...) instead.\n",
      "  imax = index.get_loc(maxval, method=\"nearest\")\n",
      "c:\\Users\\ATeklesadik\\Miniconda3\\envs\\geo_env\\lib\\site-packages\\xarray\\core\\missing.py:559: FutureWarning: Passing method to DatetimeIndex.get_loc is deprecated and will raise in a future version. Use index.get_indexer([item], method=...) instead.\n",
      "  imin = index.get_loc(minval, method=\"nearest\")\n",
      "c:\\Users\\ATeklesadik\\Miniconda3\\envs\\geo_env\\lib\\site-packages\\xarray\\core\\missing.py:560: FutureWarning: Passing method to DatetimeIndex.get_loc is deprecated and will raise in a future version. Use index.get_indexer([item], method=...) instead.\n",
      "  imax = index.get_loc(maxval, method=\"nearest\")\n",
      "c:\\Users\\ATeklesadik\\Miniconda3\\envs\\geo_env\\lib\\site-packages\\xarray\\core\\missing.py:559: FutureWarning: Passing method to DatetimeIndex.get_loc is deprecated and will raise in a future version. Use index.get_indexer([item], method=...) instead.\n",
      "  imin = index.get_loc(minval, method=\"nearest\")\n",
      "c:\\Users\\ATeklesadik\\Miniconda3\\envs\\geo_env\\lib\\site-packages\\xarray\\core\\missing.py:560: FutureWarning: Passing method to DatetimeIndex.get_loc is deprecated and will raise in a future version. Use index.get_indexer([item], method=...) instead.\n",
      "  imax = index.get_loc(maxval, method=\"nearest\")\n",
      "c:\\Users\\ATeklesadik\\Miniconda3\\envs\\geo_env\\lib\\site-packages\\xarray\\core\\missing.py:559: FutureWarning: Passing method to DatetimeIndex.get_loc is deprecated and will raise in a future version. Use index.get_indexer([item], method=...) instead.\n",
      "  imin = index.get_loc(minval, method=\"nearest\")\n",
      "c:\\Users\\ATeklesadik\\Miniconda3\\envs\\geo_env\\lib\\site-packages\\xarray\\core\\missing.py:560: FutureWarning: Passing method to DatetimeIndex.get_loc is deprecated and will raise in a future version. Use index.get_indexer([item], method=...) instead.\n",
      "  imax = index.get_loc(maxval, method=\"nearest\")\n",
      "c:\\Users\\ATeklesadik\\Miniconda3\\envs\\geo_env\\lib\\site-packages\\xarray\\core\\missing.py:559: FutureWarning: Passing method to DatetimeIndex.get_loc is deprecated and will raise in a future version. Use index.get_indexer([item], method=...) instead.\n",
      "  imin = index.get_loc(minval, method=\"nearest\")\n",
      "c:\\Users\\ATeklesadik\\Miniconda3\\envs\\geo_env\\lib\\site-packages\\xarray\\core\\missing.py:560: FutureWarning: Passing method to DatetimeIndex.get_loc is deprecated and will raise in a future version. Use index.get_indexer([item], method=...) instead.\n",
      "  imax = index.get_loc(maxval, method=\"nearest\")\n",
      "c:\\Users\\ATeklesadik\\Miniconda3\\envs\\geo_env\\lib\\site-packages\\xarray\\core\\missing.py:559: FutureWarning: Passing method to DatetimeIndex.get_loc is deprecated and will raise in a future version. Use index.get_indexer([item], method=...) instead.\n",
      "  imin = index.get_loc(minval, method=\"nearest\")\n",
      "c:\\Users\\ATeklesadik\\Miniconda3\\envs\\geo_env\\lib\\site-packages\\xarray\\core\\missing.py:560: FutureWarning: Passing method to DatetimeIndex.get_loc is deprecated and will raise in a future version. Use index.get_indexer([item], method=...) instead.\n",
      "  imax = index.get_loc(maxval, method=\"nearest\")\n",
      "c:\\Users\\ATeklesadik\\Miniconda3\\envs\\geo_env\\lib\\site-packages\\xarray\\core\\missing.py:559: FutureWarning: Passing method to DatetimeIndex.get_loc is deprecated and will raise in a future version. Use index.get_indexer([item], method=...) instead.\n",
      "  imin = index.get_loc(minval, method=\"nearest\")\n",
      "c:\\Users\\ATeklesadik\\Miniconda3\\envs\\geo_env\\lib\\site-packages\\xarray\\core\\missing.py:560: FutureWarning: Passing method to DatetimeIndex.get_loc is deprecated and will raise in a future version. Use index.get_indexer([item], method=...) instead.\n",
      "  imax = index.get_loc(maxval, method=\"nearest\")\n",
      "c:\\Users\\ATeklesadik\\Miniconda3\\envs\\geo_env\\lib\\site-packages\\xarray\\core\\missing.py:559: FutureWarning: Passing method to DatetimeIndex.get_loc is deprecated and will raise in a future version. Use index.get_indexer([item], method=...) instead.\n",
      "  imin = index.get_loc(minval, method=\"nearest\")\n",
      "c:\\Users\\ATeklesadik\\Miniconda3\\envs\\geo_env\\lib\\site-packages\\xarray\\core\\missing.py:560: FutureWarning: Passing method to DatetimeIndex.get_loc is deprecated and will raise in a future version. Use index.get_indexer([item], method=...) instead.\n",
      "  imax = index.get_loc(maxval, method=\"nearest\")\n",
      "c:\\Users\\ATeklesadik\\Miniconda3\\envs\\geo_env\\lib\\site-packages\\xarray\\core\\missing.py:559: FutureWarning: Passing method to DatetimeIndex.get_loc is deprecated and will raise in a future version. Use index.get_indexer([item], method=...) instead.\n",
      "  imin = index.get_loc(minval, method=\"nearest\")\n",
      "c:\\Users\\ATeklesadik\\Miniconda3\\envs\\geo_env\\lib\\site-packages\\xarray\\core\\missing.py:560: FutureWarning: Passing method to DatetimeIndex.get_loc is deprecated and will raise in a future version. Use index.get_indexer([item], method=...) instead.\n",
      "  imax = index.get_loc(maxval, method=\"nearest\")\n",
      "c:\\Users\\ATeklesadik\\Miniconda3\\envs\\geo_env\\lib\\site-packages\\xarray\\core\\missing.py:559: FutureWarning: Passing method to DatetimeIndex.get_loc is deprecated and will raise in a future version. Use index.get_indexer([item], method=...) instead.\n",
      "  imin = index.get_loc(minval, method=\"nearest\")\n",
      "c:\\Users\\ATeklesadik\\Miniconda3\\envs\\geo_env\\lib\\site-packages\\xarray\\core\\missing.py:560: FutureWarning: Passing method to DatetimeIndex.get_loc is deprecated and will raise in a future version. Use index.get_indexer([item], method=...) instead.\n",
      "  imax = index.get_loc(maxval, method=\"nearest\")\n",
      "c:\\Users\\ATeklesadik\\Miniconda3\\envs\\geo_env\\lib\\site-packages\\xarray\\core\\missing.py:559: FutureWarning: Passing method to DatetimeIndex.get_loc is deprecated and will raise in a future version. Use index.get_indexer([item], method=...) instead.\n",
      "  imin = index.get_loc(minval, method=\"nearest\")\n",
      "c:\\Users\\ATeklesadik\\Miniconda3\\envs\\geo_env\\lib\\site-packages\\xarray\\core\\missing.py:560: FutureWarning: Passing method to DatetimeIndex.get_loc is deprecated and will raise in a future version. Use index.get_indexer([item], method=...) instead.\n",
      "  imax = index.get_loc(maxval, method=\"nearest\")\n",
      "c:\\Users\\ATeklesadik\\Miniconda3\\envs\\geo_env\\lib\\site-packages\\xarray\\core\\missing.py:559: FutureWarning: Passing method to DatetimeIndex.get_loc is deprecated and will raise in a future version. Use index.get_indexer([item], method=...) instead.\n",
      "  imin = index.get_loc(minval, method=\"nearest\")\n",
      "c:\\Users\\ATeklesadik\\Miniconda3\\envs\\geo_env\\lib\\site-packages\\xarray\\core\\missing.py:560: FutureWarning: Passing method to DatetimeIndex.get_loc is deprecated and will raise in a future version. Use index.get_indexer([item], method=...) instead.\n",
      "  imax = index.get_loc(maxval, method=\"nearest\")\n",
      "c:\\Users\\ATeklesadik\\Miniconda3\\envs\\geo_env\\lib\\site-packages\\xarray\\core\\missing.py:559: FutureWarning: Passing method to DatetimeIndex.get_loc is deprecated and will raise in a future version. Use index.get_indexer([item], method=...) instead.\n",
      "  imin = index.get_loc(minval, method=\"nearest\")\n",
      "c:\\Users\\ATeklesadik\\Miniconda3\\envs\\geo_env\\lib\\site-packages\\xarray\\core\\missing.py:560: FutureWarning: Passing method to DatetimeIndex.get_loc is deprecated and will raise in a future version. Use index.get_indexer([item], method=...) instead.\n",
      "  imax = index.get_loc(maxval, method=\"nearest\")\n",
      "c:\\Users\\ATeklesadik\\Miniconda3\\envs\\geo_env\\lib\\site-packages\\xarray\\core\\missing.py:559: FutureWarning: Passing method to DatetimeIndex.get_loc is deprecated and will raise in a future version. Use index.get_indexer([item], method=...) instead.\n",
      "  imin = index.get_loc(minval, method=\"nearest\")\n",
      "c:\\Users\\ATeklesadik\\Miniconda3\\envs\\geo_env\\lib\\site-packages\\xarray\\core\\missing.py:560: FutureWarning: Passing method to DatetimeIndex.get_loc is deprecated and will raise in a future version. Use index.get_indexer([item], method=...) instead.\n",
      "  imax = index.get_loc(maxval, method=\"nearest\")\n",
      "c:\\Users\\ATeklesadik\\Miniconda3\\envs\\geo_env\\lib\\site-packages\\xarray\\core\\missing.py:559: FutureWarning: Passing method to DatetimeIndex.get_loc is deprecated and will raise in a future version. Use index.get_indexer([item], method=...) instead.\n",
      "  imin = index.get_loc(minval, method=\"nearest\")\n",
      "c:\\Users\\ATeklesadik\\Miniconda3\\envs\\geo_env\\lib\\site-packages\\xarray\\core\\missing.py:560: FutureWarning: Passing method to DatetimeIndex.get_loc is deprecated and will raise in a future version. Use index.get_indexer([item], method=...) instead.\n",
      "  imax = index.get_loc(maxval, method=\"nearest\")\n",
      "c:\\Users\\ATeklesadik\\Miniconda3\\envs\\geo_env\\lib\\site-packages\\xarray\\core\\missing.py:559: FutureWarning: Passing method to DatetimeIndex.get_loc is deprecated and will raise in a future version. Use index.get_indexer([item], method=...) instead.\n",
      "  imin = index.get_loc(minval, method=\"nearest\")\n",
      "c:\\Users\\ATeklesadik\\Miniconda3\\envs\\geo_env\\lib\\site-packages\\xarray\\core\\missing.py:560: FutureWarning: Passing method to DatetimeIndex.get_loc is deprecated and will raise in a future version. Use index.get_indexer([item], method=...) instead.\n",
      "  imax = index.get_loc(maxval, method=\"nearest\")\n",
      "c:\\Users\\ATeklesadik\\Miniconda3\\envs\\geo_env\\lib\\site-packages\\xarray\\core\\missing.py:559: FutureWarning: Passing method to DatetimeIndex.get_loc is deprecated and will raise in a future version. Use index.get_indexer([item], method=...) instead.\n",
      "  imin = index.get_loc(minval, method=\"nearest\")\n",
      "c:\\Users\\ATeklesadik\\Miniconda3\\envs\\geo_env\\lib\\site-packages\\xarray\\core\\missing.py:560: FutureWarning: Passing method to DatetimeIndex.get_loc is deprecated and will raise in a future version. Use index.get_indexer([item], method=...) instead.\n",
      "  imax = index.get_loc(maxval, method=\"nearest\")\n",
      "c:\\Users\\ATeklesadik\\Miniconda3\\envs\\geo_env\\lib\\site-packages\\xarray\\core\\missing.py:559: FutureWarning: Passing method to DatetimeIndex.get_loc is deprecated and will raise in a future version. Use index.get_indexer([item], method=...) instead.\n",
      "  imin = index.get_loc(minval, method=\"nearest\")\n",
      "c:\\Users\\ATeklesadik\\Miniconda3\\envs\\geo_env\\lib\\site-packages\\xarray\\core\\missing.py:560: FutureWarning: Passing method to DatetimeIndex.get_loc is deprecated and will raise in a future version. Use index.get_indexer([item], method=...) instead.\n",
      "  imax = index.get_loc(maxval, method=\"nearest\")\n",
      "c:\\Users\\ATeklesadik\\Miniconda3\\envs\\geo_env\\lib\\site-packages\\xarray\\core\\missing.py:559: FutureWarning: Passing method to DatetimeIndex.get_loc is deprecated and will raise in a future version. Use index.get_indexer([item], method=...) instead.\n",
      "  imin = index.get_loc(minval, method=\"nearest\")\n",
      "c:\\Users\\ATeklesadik\\Miniconda3\\envs\\geo_env\\lib\\site-packages\\xarray\\core\\missing.py:560: FutureWarning: Passing method to DatetimeIndex.get_loc is deprecated and will raise in a future version. Use index.get_indexer([item], method=...) instead.\n",
      "  imax = index.get_loc(maxval, method=\"nearest\")\n",
      "c:\\Users\\ATeklesadik\\Miniconda3\\envs\\geo_env\\lib\\site-packages\\xarray\\core\\missing.py:559: FutureWarning: Passing method to DatetimeIndex.get_loc is deprecated and will raise in a future version. Use index.get_indexer([item], method=...) instead.\n",
      "  imin = index.get_loc(minval, method=\"nearest\")\n",
      "c:\\Users\\ATeklesadik\\Miniconda3\\envs\\geo_env\\lib\\site-packages\\xarray\\core\\missing.py:560: FutureWarning: Passing method to DatetimeIndex.get_loc is deprecated and will raise in a future version. Use index.get_indexer([item], method=...) instead.\n",
      "  imax = index.get_loc(maxval, method=\"nearest\")\n",
      "c:\\Users\\ATeklesadik\\Miniconda3\\envs\\geo_env\\lib\\site-packages\\xarray\\core\\missing.py:559: FutureWarning: Passing method to DatetimeIndex.get_loc is deprecated and will raise in a future version. Use index.get_indexer([item], method=...) instead.\n",
      "  imin = index.get_loc(minval, method=\"nearest\")\n",
      "c:\\Users\\ATeklesadik\\Miniconda3\\envs\\geo_env\\lib\\site-packages\\xarray\\core\\missing.py:560: FutureWarning: Passing method to DatetimeIndex.get_loc is deprecated and will raise in a future version. Use index.get_indexer([item], method=...) instead.\n",
      "  imax = index.get_loc(maxval, method=\"nearest\")\n",
      "c:\\Users\\ATeklesadik\\Miniconda3\\envs\\geo_env\\lib\\site-packages\\xarray\\core\\missing.py:559: FutureWarning: Passing method to DatetimeIndex.get_loc is deprecated and will raise in a future version. Use index.get_indexer([item], method=...) instead.\n",
      "  imin = index.get_loc(minval, method=\"nearest\")\n",
      "c:\\Users\\ATeklesadik\\Miniconda3\\envs\\geo_env\\lib\\site-packages\\xarray\\core\\missing.py:560: FutureWarning: Passing method to DatetimeIndex.get_loc is deprecated and will raise in a future version. Use index.get_indexer([item], method=...) instead.\n",
      "  imax = index.get_loc(maxval, method=\"nearest\")\n",
      "c:\\Users\\ATeklesadik\\Miniconda3\\envs\\geo_env\\lib\\site-packages\\xarray\\core\\missing.py:559: FutureWarning: Passing method to DatetimeIndex.get_loc is deprecated and will raise in a future version. Use index.get_indexer([item], method=...) instead.\n",
      "  imin = index.get_loc(minval, method=\"nearest\")\n",
      "c:\\Users\\ATeklesadik\\Miniconda3\\envs\\geo_env\\lib\\site-packages\\xarray\\core\\missing.py:560: FutureWarning: Passing method to DatetimeIndex.get_loc is deprecated and will raise in a future version. Use index.get_indexer([item], method=...) instead.\n",
      "  imax = index.get_loc(maxval, method=\"nearest\")\n",
      "c:\\Users\\ATeklesadik\\Miniconda3\\envs\\geo_env\\lib\\site-packages\\xarray\\core\\missing.py:559: FutureWarning: Passing method to DatetimeIndex.get_loc is deprecated and will raise in a future version. Use index.get_indexer([item], method=...) instead.\n",
      "  imin = index.get_loc(minval, method=\"nearest\")\n",
      "c:\\Users\\ATeklesadik\\Miniconda3\\envs\\geo_env\\lib\\site-packages\\xarray\\core\\missing.py:560: FutureWarning: Passing method to DatetimeIndex.get_loc is deprecated and will raise in a future version. Use index.get_indexer([item], method=...) instead.\n",
      "  imax = index.get_loc(maxval, method=\"nearest\")\n",
      "c:\\Users\\ATeklesadik\\Miniconda3\\envs\\geo_env\\lib\\site-packages\\xarray\\core\\missing.py:559: FutureWarning: Passing method to DatetimeIndex.get_loc is deprecated and will raise in a future version. Use index.get_indexer([item], method=...) instead.\n",
      "  imin = index.get_loc(minval, method=\"nearest\")\n",
      "c:\\Users\\ATeklesadik\\Miniconda3\\envs\\geo_env\\lib\\site-packages\\xarray\\core\\missing.py:560: FutureWarning: Passing method to DatetimeIndex.get_loc is deprecated and will raise in a future version. Use index.get_indexer([item], method=...) instead.\n",
      "  imax = index.get_loc(maxval, method=\"nearest\")\n",
      "c:\\Users\\ATeklesadik\\Miniconda3\\envs\\geo_env\\lib\\site-packages\\xarray\\core\\missing.py:559: FutureWarning: Passing method to DatetimeIndex.get_loc is deprecated and will raise in a future version. Use index.get_indexer([item], method=...) instead.\n",
      "  imin = index.get_loc(minval, method=\"nearest\")\n",
      "c:\\Users\\ATeklesadik\\Miniconda3\\envs\\geo_env\\lib\\site-packages\\xarray\\core\\missing.py:560: FutureWarning: Passing method to DatetimeIndex.get_loc is deprecated and will raise in a future version. Use index.get_indexer([item], method=...) instead.\n",
      "  imax = index.get_loc(maxval, method=\"nearest\")\n",
      "c:\\Users\\ATeklesadik\\Miniconda3\\envs\\geo_env\\lib\\site-packages\\xarray\\core\\missing.py:559: FutureWarning: Passing method to DatetimeIndex.get_loc is deprecated and will raise in a future version. Use index.get_indexer([item], method=...) instead.\n",
      "  imin = index.get_loc(minval, method=\"nearest\")\n",
      "c:\\Users\\ATeklesadik\\Miniconda3\\envs\\geo_env\\lib\\site-packages\\xarray\\core\\missing.py:560: FutureWarning: Passing method to DatetimeIndex.get_loc is deprecated and will raise in a future version. Use index.get_indexer([item], method=...) instead.\n",
      "  imax = index.get_loc(maxval, method=\"nearest\")\n",
      "c:\\Users\\ATeklesadik\\Miniconda3\\envs\\geo_env\\lib\\site-packages\\xarray\\core\\missing.py:559: FutureWarning: Passing method to DatetimeIndex.get_loc is deprecated and will raise in a future version. Use index.get_indexer([item], method=...) instead.\n",
      "  imin = index.get_loc(minval, method=\"nearest\")\n",
      "c:\\Users\\ATeklesadik\\Miniconda3\\envs\\geo_env\\lib\\site-packages\\xarray\\core\\missing.py:560: FutureWarning: Passing method to DatetimeIndex.get_loc is deprecated and will raise in a future version. Use index.get_indexer([item], method=...) instead.\n",
      "  imax = index.get_loc(maxval, method=\"nearest\")\n",
      "c:\\Users\\ATeklesadik\\Miniconda3\\envs\\geo_env\\lib\\site-packages\\xarray\\core\\missing.py:559: FutureWarning: Passing method to DatetimeIndex.get_loc is deprecated and will raise in a future version. Use index.get_indexer([item], method=...) instead.\n",
      "  imin = index.get_loc(minval, method=\"nearest\")\n",
      "c:\\Users\\ATeklesadik\\Miniconda3\\envs\\geo_env\\lib\\site-packages\\xarray\\core\\missing.py:560: FutureWarning: Passing method to DatetimeIndex.get_loc is deprecated and will raise in a future version. Use index.get_indexer([item], method=...) instead.\n",
      "  imax = index.get_loc(maxval, method=\"nearest\")\n",
      "c:\\Users\\ATeklesadik\\Miniconda3\\envs\\geo_env\\lib\\site-packages\\xarray\\core\\missing.py:559: FutureWarning: Passing method to DatetimeIndex.get_loc is deprecated and will raise in a future version. Use index.get_indexer([item], method=...) instead.\n",
      "  imin = index.get_loc(minval, method=\"nearest\")\n",
      "c:\\Users\\ATeklesadik\\Miniconda3\\envs\\geo_env\\lib\\site-packages\\xarray\\core\\missing.py:560: FutureWarning: Passing method to DatetimeIndex.get_loc is deprecated and will raise in a future version. Use index.get_indexer([item], method=...) instead.\n",
      "  imax = index.get_loc(maxval, method=\"nearest\")\n",
      "c:\\Users\\ATeklesadik\\Miniconda3\\envs\\geo_env\\lib\\site-packages\\xarray\\core\\missing.py:559: FutureWarning: Passing method to DatetimeIndex.get_loc is deprecated and will raise in a future version. Use index.get_indexer([item], method=...) instead.\n",
      "  imin = index.get_loc(minval, method=\"nearest\")\n",
      "c:\\Users\\ATeklesadik\\Miniconda3\\envs\\geo_env\\lib\\site-packages\\xarray\\core\\missing.py:560: FutureWarning: Passing method to DatetimeIndex.get_loc is deprecated and will raise in a future version. Use index.get_indexer([item], method=...) instead.\n",
      "  imax = index.get_loc(maxval, method=\"nearest\")\n",
      "c:\\Users\\ATeklesadik\\Miniconda3\\envs\\geo_env\\lib\\site-packages\\xarray\\core\\missing.py:559: FutureWarning: Passing method to DatetimeIndex.get_loc is deprecated and will raise in a future version. Use index.get_indexer([item], method=...) instead.\n",
      "  imin = index.get_loc(minval, method=\"nearest\")\n",
      "c:\\Users\\ATeklesadik\\Miniconda3\\envs\\geo_env\\lib\\site-packages\\xarray\\core\\missing.py:560: FutureWarning: Passing method to DatetimeIndex.get_loc is deprecated and will raise in a future version. Use index.get_indexer([item], method=...) instead.\n",
      "  imax = index.get_loc(maxval, method=\"nearest\")\n",
      "c:\\Users\\ATeklesadik\\Miniconda3\\envs\\geo_env\\lib\\site-packages\\xarray\\core\\missing.py:559: FutureWarning: Passing method to DatetimeIndex.get_loc is deprecated and will raise in a future version. Use index.get_indexer([item], method=...) instead.\n",
      "  imin = index.get_loc(minval, method=\"nearest\")\n",
      "c:\\Users\\ATeklesadik\\Miniconda3\\envs\\geo_env\\lib\\site-packages\\xarray\\core\\missing.py:560: FutureWarning: Passing method to DatetimeIndex.get_loc is deprecated and will raise in a future version. Use index.get_indexer([item], method=...) instead.\n",
      "  imax = index.get_loc(maxval, method=\"nearest\")\n",
      "c:\\Users\\ATeklesadik\\Miniconda3\\envs\\geo_env\\lib\\site-packages\\xarray\\core\\missing.py:559: FutureWarning: Passing method to DatetimeIndex.get_loc is deprecated and will raise in a future version. Use index.get_indexer([item], method=...) instead.\n",
      "  imin = index.get_loc(minval, method=\"nearest\")\n",
      "c:\\Users\\ATeklesadik\\Miniconda3\\envs\\geo_env\\lib\\site-packages\\xarray\\core\\missing.py:560: FutureWarning: Passing method to DatetimeIndex.get_loc is deprecated and will raise in a future version. Use index.get_indexer([item], method=...) instead.\n",
      "  imax = index.get_loc(maxval, method=\"nearest\")\n",
      "c:\\Users\\ATeklesadik\\Miniconda3\\envs\\geo_env\\lib\\site-packages\\xarray\\core\\missing.py:559: FutureWarning: Passing method to DatetimeIndex.get_loc is deprecated and will raise in a future version. Use index.get_indexer([item], method=...) instead.\n",
      "  imin = index.get_loc(minval, method=\"nearest\")\n",
      "c:\\Users\\ATeklesadik\\Miniconda3\\envs\\geo_env\\lib\\site-packages\\xarray\\core\\missing.py:560: FutureWarning: Passing method to DatetimeIndex.get_loc is deprecated and will raise in a future version. Use index.get_indexer([item], method=...) instead.\n",
      "  imax = index.get_loc(maxval, method=\"nearest\")\n",
      "c:\\Users\\ATeklesadik\\Miniconda3\\envs\\geo_env\\lib\\site-packages\\xarray\\core\\missing.py:559: FutureWarning: Passing method to DatetimeIndex.get_loc is deprecated and will raise in a future version. Use index.get_indexer([item], method=...) instead.\n",
      "  imin = index.get_loc(minval, method=\"nearest\")\n",
      "c:\\Users\\ATeklesadik\\Miniconda3\\envs\\geo_env\\lib\\site-packages\\xarray\\core\\missing.py:560: FutureWarning: Passing method to DatetimeIndex.get_loc is deprecated and will raise in a future version. Use index.get_indexer([item], method=...) instead.\n",
      "  imax = index.get_loc(maxval, method=\"nearest\")\n",
      "c:\\Users\\ATeklesadik\\Miniconda3\\envs\\geo_env\\lib\\site-packages\\xarray\\core\\missing.py:559: FutureWarning: Passing method to DatetimeIndex.get_loc is deprecated and will raise in a future version. Use index.get_indexer([item], method=...) instead.\n",
      "  imin = index.get_loc(minval, method=\"nearest\")\n",
      "c:\\Users\\ATeklesadik\\Miniconda3\\envs\\geo_env\\lib\\site-packages\\xarray\\core\\missing.py:560: FutureWarning: Passing method to DatetimeIndex.get_loc is deprecated and will raise in a future version. Use index.get_indexer([item], method=...) instead.\n",
      "  imax = index.get_loc(maxval, method=\"nearest\")\n",
      "c:\\Users\\ATeklesadik\\Miniconda3\\envs\\geo_env\\lib\\site-packages\\xarray\\core\\missing.py:559: FutureWarning: Passing method to DatetimeIndex.get_loc is deprecated and will raise in a future version. Use index.get_indexer([item], method=...) instead.\n",
      "  imin = index.get_loc(minval, method=\"nearest\")\n",
      "c:\\Users\\ATeklesadik\\Miniconda3\\envs\\geo_env\\lib\\site-packages\\xarray\\core\\missing.py:560: FutureWarning: Passing method to DatetimeIndex.get_loc is deprecated and will raise in a future version. Use index.get_indexer([item], method=...) instead.\n",
      "  imax = index.get_loc(maxval, method=\"nearest\")\n",
      "c:\\Users\\ATeklesadik\\Miniconda3\\envs\\geo_env\\lib\\site-packages\\xarray\\core\\missing.py:559: FutureWarning: Passing method to DatetimeIndex.get_loc is deprecated and will raise in a future version. Use index.get_indexer([item], method=...) instead.\n",
      "  imin = index.get_loc(minval, method=\"nearest\")\n",
      "c:\\Users\\ATeklesadik\\Miniconda3\\envs\\geo_env\\lib\\site-packages\\xarray\\core\\missing.py:560: FutureWarning: Passing method to DatetimeIndex.get_loc is deprecated and will raise in a future version. Use index.get_indexer([item], method=...) instead.\n",
      "  imax = index.get_loc(maxval, method=\"nearest\")\n",
      "c:\\Users\\ATeklesadik\\Miniconda3\\envs\\geo_env\\lib\\site-packages\\xarray\\core\\missing.py:559: FutureWarning: Passing method to DatetimeIndex.get_loc is deprecated and will raise in a future version. Use index.get_indexer([item], method=...) instead.\n",
      "  imin = index.get_loc(minval, method=\"nearest\")\n",
      "c:\\Users\\ATeklesadik\\Miniconda3\\envs\\geo_env\\lib\\site-packages\\xarray\\core\\missing.py:560: FutureWarning: Passing method to DatetimeIndex.get_loc is deprecated and will raise in a future version. Use index.get_indexer([item], method=...) instead.\n",
      "  imax = index.get_loc(maxval, method=\"nearest\")\n",
      "c:\\Users\\ATeklesadik\\Miniconda3\\envs\\geo_env\\lib\\site-packages\\xarray\\core\\missing.py:559: FutureWarning: Passing method to DatetimeIndex.get_loc is deprecated and will raise in a future version. Use index.get_indexer([item], method=...) instead.\n",
      "  imin = index.get_loc(minval, method=\"nearest\")\n",
      "c:\\Users\\ATeklesadik\\Miniconda3\\envs\\geo_env\\lib\\site-packages\\xarray\\core\\missing.py:560: FutureWarning: Passing method to DatetimeIndex.get_loc is deprecated and will raise in a future version. Use index.get_indexer([item], method=...) instead.\n",
      "  imax = index.get_loc(maxval, method=\"nearest\")\n",
      "c:\\Users\\ATeklesadik\\Miniconda3\\envs\\geo_env\\lib\\site-packages\\xarray\\core\\missing.py:559: FutureWarning: Passing method to DatetimeIndex.get_loc is deprecated and will raise in a future version. Use index.get_indexer([item], method=...) instead.\n",
      "  imin = index.get_loc(minval, method=\"nearest\")\n",
      "c:\\Users\\ATeklesadik\\Miniconda3\\envs\\geo_env\\lib\\site-packages\\xarray\\core\\missing.py:560: FutureWarning: Passing method to DatetimeIndex.get_loc is deprecated and will raise in a future version. Use index.get_indexer([item], method=...) instead.\n",
      "  imax = index.get_loc(maxval, method=\"nearest\")\n",
      "c:\\Users\\ATeklesadik\\Miniconda3\\envs\\geo_env\\lib\\site-packages\\xarray\\core\\missing.py:559: FutureWarning: Passing method to DatetimeIndex.get_loc is deprecated and will raise in a future version. Use index.get_indexer([item], method=...) instead.\n",
      "  imin = index.get_loc(minval, method=\"nearest\")\n",
      "c:\\Users\\ATeklesadik\\Miniconda3\\envs\\geo_env\\lib\\site-packages\\xarray\\core\\missing.py:560: FutureWarning: Passing method to DatetimeIndex.get_loc is deprecated and will raise in a future version. Use index.get_indexer([item], method=...) instead.\n",
      "  imax = index.get_loc(maxval, method=\"nearest\")\n",
      "c:\\Users\\ATeklesadik\\Miniconda3\\envs\\geo_env\\lib\\site-packages\\xarray\\core\\missing.py:559: FutureWarning: Passing method to DatetimeIndex.get_loc is deprecated and will raise in a future version. Use index.get_indexer([item], method=...) instead.\n",
      "  imin = index.get_loc(minval, method=\"nearest\")\n",
      "c:\\Users\\ATeklesadik\\Miniconda3\\envs\\geo_env\\lib\\site-packages\\xarray\\core\\missing.py:560: FutureWarning: Passing method to DatetimeIndex.get_loc is deprecated and will raise in a future version. Use index.get_indexer([item], method=...) instead.\n",
      "  imax = index.get_loc(maxval, method=\"nearest\")\n",
      "c:\\Users\\ATeklesadik\\Miniconda3\\envs\\geo_env\\lib\\site-packages\\xarray\\core\\missing.py:559: FutureWarning: Passing method to DatetimeIndex.get_loc is deprecated and will raise in a future version. Use index.get_indexer([item], method=...) instead.\n",
      "  imin = index.get_loc(minval, method=\"nearest\")\n",
      "c:\\Users\\ATeklesadik\\Miniconda3\\envs\\geo_env\\lib\\site-packages\\xarray\\core\\missing.py:560: FutureWarning: Passing method to DatetimeIndex.get_loc is deprecated and will raise in a future version. Use index.get_indexer([item], method=...) instead.\n",
      "  imax = index.get_loc(maxval, method=\"nearest\")\n",
      "c:\\Users\\ATeklesadik\\Miniconda3\\envs\\geo_env\\lib\\site-packages\\xarray\\core\\missing.py:559: FutureWarning: Passing method to DatetimeIndex.get_loc is deprecated and will raise in a future version. Use index.get_indexer([item], method=...) instead.\n",
      "  imin = index.get_loc(minval, method=\"nearest\")\n",
      "c:\\Users\\ATeklesadik\\Miniconda3\\envs\\geo_env\\lib\\site-packages\\xarray\\core\\missing.py:560: FutureWarning: Passing method to DatetimeIndex.get_loc is deprecated and will raise in a future version. Use index.get_indexer([item], method=...) instead.\n",
      "  imax = index.get_loc(maxval, method=\"nearest\")\n",
      "c:\\Users\\ATeklesadik\\Miniconda3\\envs\\geo_env\\lib\\site-packages\\xarray\\core\\missing.py:559: FutureWarning: Passing method to DatetimeIndex.get_loc is deprecated and will raise in a future version. Use index.get_indexer([item], method=...) instead.\n",
      "  imin = index.get_loc(minval, method=\"nearest\")\n",
      "c:\\Users\\ATeklesadik\\Miniconda3\\envs\\geo_env\\lib\\site-packages\\xarray\\core\\missing.py:560: FutureWarning: Passing method to DatetimeIndex.get_loc is deprecated and will raise in a future version. Use index.get_indexer([item], method=...) instead.\n",
      "  imax = index.get_loc(maxval, method=\"nearest\")\n",
      "c:\\Users\\ATeklesadik\\Miniconda3\\envs\\geo_env\\lib\\site-packages\\xarray\\core\\missing.py:559: FutureWarning: Passing method to DatetimeIndex.get_loc is deprecated and will raise in a future version. Use index.get_indexer([item], method=...) instead.\n",
      "  imin = index.get_loc(minval, method=\"nearest\")\n",
      "c:\\Users\\ATeklesadik\\Miniconda3\\envs\\geo_env\\lib\\site-packages\\xarray\\core\\missing.py:560: FutureWarning: Passing method to DatetimeIndex.get_loc is deprecated and will raise in a future version. Use index.get_indexer([item], method=...) instead.\n",
      "  imax = index.get_loc(maxval, method=\"nearest\")\n",
      "c:\\Users\\ATeklesadik\\Miniconda3\\envs\\geo_env\\lib\\site-packages\\xarray\\core\\missing.py:559: FutureWarning: Passing method to DatetimeIndex.get_loc is deprecated and will raise in a future version. Use index.get_indexer([item], method=...) instead.\n",
      "  imin = index.get_loc(minval, method=\"nearest\")\n",
      "c:\\Users\\ATeklesadik\\Miniconda3\\envs\\geo_env\\lib\\site-packages\\xarray\\core\\missing.py:560: FutureWarning: Passing method to DatetimeIndex.get_loc is deprecated and will raise in a future version. Use index.get_indexer([item], method=...) instead.\n",
      "  imax = index.get_loc(maxval, method=\"nearest\")\n",
      "c:\\Users\\ATeklesadik\\Miniconda3\\envs\\geo_env\\lib\\site-packages\\xarray\\core\\missing.py:559: FutureWarning: Passing method to DatetimeIndex.get_loc is deprecated and will raise in a future version. Use index.get_indexer([item], method=...) instead.\n",
      "  imin = index.get_loc(minval, method=\"nearest\")\n",
      "c:\\Users\\ATeklesadik\\Miniconda3\\envs\\geo_env\\lib\\site-packages\\xarray\\core\\missing.py:560: FutureWarning: Passing method to DatetimeIndex.get_loc is deprecated and will raise in a future version. Use index.get_indexer([item], method=...) instead.\n",
      "  imax = index.get_loc(maxval, method=\"nearest\")\n",
      "c:\\Users\\ATeklesadik\\Miniconda3\\envs\\geo_env\\lib\\site-packages\\xarray\\core\\missing.py:559: FutureWarning: Passing method to DatetimeIndex.get_loc is deprecated and will raise in a future version. Use index.get_indexer([item], method=...) instead.\n",
      "  imin = index.get_loc(minval, method=\"nearest\")\n",
      "c:\\Users\\ATeklesadik\\Miniconda3\\envs\\geo_env\\lib\\site-packages\\xarray\\core\\missing.py:560: FutureWarning: Passing method to DatetimeIndex.get_loc is deprecated and will raise in a future version. Use index.get_indexer([item], method=...) instead.\n",
      "  imax = index.get_loc(maxval, method=\"nearest\")\n",
      "c:\\Users\\ATeklesadik\\Miniconda3\\envs\\geo_env\\lib\\site-packages\\xarray\\core\\missing.py:559: FutureWarning: Passing method to DatetimeIndex.get_loc is deprecated and will raise in a future version. Use index.get_indexer([item], method=...) instead.\n",
      "  imin = index.get_loc(minval, method=\"nearest\")\n",
      "c:\\Users\\ATeklesadik\\Miniconda3\\envs\\geo_env\\lib\\site-packages\\xarray\\core\\missing.py:560: FutureWarning: Passing method to DatetimeIndex.get_loc is deprecated and will raise in a future version. Use index.get_indexer([item], method=...) instead.\n",
      "  imax = index.get_loc(maxval, method=\"nearest\")\n",
      "c:\\Users\\ATeklesadik\\Miniconda3\\envs\\geo_env\\lib\\site-packages\\xarray\\core\\missing.py:559: FutureWarning: Passing method to DatetimeIndex.get_loc is deprecated and will raise in a future version. Use index.get_indexer([item], method=...) instead.\n",
      "  imin = index.get_loc(minval, method=\"nearest\")\n",
      "c:\\Users\\ATeklesadik\\Miniconda3\\envs\\geo_env\\lib\\site-packages\\xarray\\core\\missing.py:560: FutureWarning: Passing method to DatetimeIndex.get_loc is deprecated and will raise in a future version. Use index.get_indexer([item], method=...) instead.\n",
      "  imax = index.get_loc(maxval, method=\"nearest\")\n",
      "c:\\Users\\ATeklesadik\\Miniconda3\\envs\\geo_env\\lib\\site-packages\\xarray\\core\\missing.py:559: FutureWarning: Passing method to DatetimeIndex.get_loc is deprecated and will raise in a future version. Use index.get_indexer([item], method=...) instead.\n",
      "  imin = index.get_loc(minval, method=\"nearest\")\n",
      "c:\\Users\\ATeklesadik\\Miniconda3\\envs\\geo_env\\lib\\site-packages\\xarray\\core\\missing.py:560: FutureWarning: Passing method to DatetimeIndex.get_loc is deprecated and will raise in a future version. Use index.get_indexer([item], method=...) instead.\n",
      "  imax = index.get_loc(maxval, method=\"nearest\")\n",
      "c:\\Users\\ATeklesadik\\Miniconda3\\envs\\geo_env\\lib\\site-packages\\xarray\\core\\missing.py:559: FutureWarning: Passing method to DatetimeIndex.get_loc is deprecated and will raise in a future version. Use index.get_indexer([item], method=...) instead.\n",
      "  imin = index.get_loc(minval, method=\"nearest\")\n",
      "c:\\Users\\ATeklesadik\\Miniconda3\\envs\\geo_env\\lib\\site-packages\\xarray\\core\\missing.py:560: FutureWarning: Passing method to DatetimeIndex.get_loc is deprecated and will raise in a future version. Use index.get_indexer([item], method=...) instead.\n",
      "  imax = index.get_loc(maxval, method=\"nearest\")\n",
      "c:\\Users\\ATeklesadik\\Miniconda3\\envs\\geo_env\\lib\\site-packages\\xarray\\core\\missing.py:559: FutureWarning: Passing method to DatetimeIndex.get_loc is deprecated and will raise in a future version. Use index.get_indexer([item], method=...) instead.\n",
      "  imin = index.get_loc(minval, method=\"nearest\")\n",
      "c:\\Users\\ATeklesadik\\Miniconda3\\envs\\geo_env\\lib\\site-packages\\xarray\\core\\missing.py:560: FutureWarning: Passing method to DatetimeIndex.get_loc is deprecated and will raise in a future version. Use index.get_indexer([item], method=...) instead.\n",
      "  imax = index.get_loc(maxval, method=\"nearest\")\n",
      "c:\\Users\\ATeklesadik\\Miniconda3\\envs\\geo_env\\lib\\site-packages\\xarray\\core\\missing.py:559: FutureWarning: Passing method to DatetimeIndex.get_loc is deprecated and will raise in a future version. Use index.get_indexer([item], method=...) instead.\n",
      "  imin = index.get_loc(minval, method=\"nearest\")\n",
      "c:\\Users\\ATeklesadik\\Miniconda3\\envs\\geo_env\\lib\\site-packages\\xarray\\core\\missing.py:560: FutureWarning: Passing method to DatetimeIndex.get_loc is deprecated and will raise in a future version. Use index.get_indexer([item], method=...) instead.\n",
      "  imax = index.get_loc(maxval, method=\"nearest\")\n",
      "c:\\Users\\ATeklesadik\\Miniconda3\\envs\\geo_env\\lib\\site-packages\\xarray\\core\\missing.py:559: FutureWarning: Passing method to DatetimeIndex.get_loc is deprecated and will raise in a future version. Use index.get_indexer([item], method=...) instead.\n",
      "  imin = index.get_loc(minval, method=\"nearest\")\n",
      "c:\\Users\\ATeklesadik\\Miniconda3\\envs\\geo_env\\lib\\site-packages\\xarray\\core\\missing.py:560: FutureWarning: Passing method to DatetimeIndex.get_loc is deprecated and will raise in a future version. Use index.get_indexer([item], method=...) instead.\n",
      "  imax = index.get_loc(maxval, method=\"nearest\")\n",
      "c:\\Users\\ATeklesadik\\Miniconda3\\envs\\geo_env\\lib\\site-packages\\xarray\\core\\missing.py:559: FutureWarning: Passing method to DatetimeIndex.get_loc is deprecated and will raise in a future version. Use index.get_indexer([item], method=...) instead.\n",
      "  imin = index.get_loc(minval, method=\"nearest\")\n",
      "c:\\Users\\ATeklesadik\\Miniconda3\\envs\\geo_env\\lib\\site-packages\\xarray\\core\\missing.py:560: FutureWarning: Passing method to DatetimeIndex.get_loc is deprecated and will raise in a future version. Use index.get_indexer([item], method=...) instead.\n",
      "  imax = index.get_loc(maxval, method=\"nearest\")\n",
      "c:\\Users\\ATeklesadik\\Miniconda3\\envs\\geo_env\\lib\\site-packages\\xarray\\core\\missing.py:559: FutureWarning: Passing method to DatetimeIndex.get_loc is deprecated and will raise in a future version. Use index.get_indexer([item], method=...) instead.\n",
      "  imin = index.get_loc(minval, method=\"nearest\")\n",
      "c:\\Users\\ATeklesadik\\Miniconda3\\envs\\geo_env\\lib\\site-packages\\xarray\\core\\missing.py:560: FutureWarning: Passing method to DatetimeIndex.get_loc is deprecated and will raise in a future version. Use index.get_indexer([item], method=...) instead.\n",
      "  imax = index.get_loc(maxval, method=\"nearest\")\n",
      "c:\\Users\\ATeklesadik\\Miniconda3\\envs\\geo_env\\lib\\site-packages\\xarray\\core\\missing.py:559: FutureWarning: Passing method to DatetimeIndex.get_loc is deprecated and will raise in a future version. Use index.get_indexer([item], method=...) instead.\n",
      "  imin = index.get_loc(minval, method=\"nearest\")\n",
      "c:\\Users\\ATeklesadik\\Miniconda3\\envs\\geo_env\\lib\\site-packages\\xarray\\core\\missing.py:560: FutureWarning: Passing method to DatetimeIndex.get_loc is deprecated and will raise in a future version. Use index.get_indexer([item], method=...) instead.\n",
      "  imax = index.get_loc(maxval, method=\"nearest\")\n",
      "c:\\Users\\ATeklesadik\\Miniconda3\\envs\\geo_env\\lib\\site-packages\\xarray\\core\\missing.py:559: FutureWarning: Passing method to DatetimeIndex.get_loc is deprecated and will raise in a future version. Use index.get_indexer([item], method=...) instead.\n",
      "  imin = index.get_loc(minval, method=\"nearest\")\n",
      "c:\\Users\\ATeklesadik\\Miniconda3\\envs\\geo_env\\lib\\site-packages\\xarray\\core\\missing.py:560: FutureWarning: Passing method to DatetimeIndex.get_loc is deprecated and will raise in a future version. Use index.get_indexer([item], method=...) instead.\n",
      "  imax = index.get_loc(maxval, method=\"nearest\")\n",
      "c:\\Users\\ATeklesadik\\Miniconda3\\envs\\geo_env\\lib\\site-packages\\xarray\\core\\missing.py:559: FutureWarning: Passing method to DatetimeIndex.get_loc is deprecated and will raise in a future version. Use index.get_indexer([item], method=...) instead.\n",
      "  imin = index.get_loc(minval, method=\"nearest\")\n",
      "c:\\Users\\ATeklesadik\\Miniconda3\\envs\\geo_env\\lib\\site-packages\\xarray\\core\\missing.py:560: FutureWarning: Passing method to DatetimeIndex.get_loc is deprecated and will raise in a future version. Use index.get_indexer([item], method=...) instead.\n",
      "  imax = index.get_loc(maxval, method=\"nearest\")\n",
      "c:\\Users\\ATeklesadik\\Miniconda3\\envs\\geo_env\\lib\\site-packages\\xarray\\core\\missing.py:559: FutureWarning: Passing method to DatetimeIndex.get_loc is deprecated and will raise in a future version. Use index.get_indexer([item], method=...) instead.\n",
      "  imin = index.get_loc(minval, method=\"nearest\")\n",
      "c:\\Users\\ATeklesadik\\Miniconda3\\envs\\geo_env\\lib\\site-packages\\xarray\\core\\missing.py:560: FutureWarning: Passing method to DatetimeIndex.get_loc is deprecated and will raise in a future version. Use index.get_indexer([item], method=...) instead.\n",
      "  imax = index.get_loc(maxval, method=\"nearest\")\n",
      "c:\\Users\\ATeklesadik\\Miniconda3\\envs\\geo_env\\lib\\site-packages\\xarray\\core\\missing.py:559: FutureWarning: Passing method to DatetimeIndex.get_loc is deprecated and will raise in a future version. Use index.get_indexer([item], method=...) instead.\n",
      "  imin = index.get_loc(minval, method=\"nearest\")\n",
      "c:\\Users\\ATeklesadik\\Miniconda3\\envs\\geo_env\\lib\\site-packages\\xarray\\core\\missing.py:560: FutureWarning: Passing method to DatetimeIndex.get_loc is deprecated and will raise in a future version. Use index.get_indexer([item], method=...) instead.\n",
      "  imax = index.get_loc(maxval, method=\"nearest\")\n",
      "c:\\Users\\ATeklesadik\\Miniconda3\\envs\\geo_env\\lib\\site-packages\\xarray\\core\\missing.py:559: FutureWarning: Passing method to DatetimeIndex.get_loc is deprecated and will raise in a future version. Use index.get_indexer([item], method=...) instead.\n",
      "  imin = index.get_loc(minval, method=\"nearest\")\n",
      "c:\\Users\\ATeklesadik\\Miniconda3\\envs\\geo_env\\lib\\site-packages\\xarray\\core\\missing.py:560: FutureWarning: Passing method to DatetimeIndex.get_loc is deprecated and will raise in a future version. Use index.get_indexer([item], method=...) instead.\n",
      "  imax = index.get_loc(maxval, method=\"nearest\")\n",
      "c:\\Users\\ATeklesadik\\Miniconda3\\envs\\geo_env\\lib\\site-packages\\xarray\\core\\missing.py:559: FutureWarning: Passing method to DatetimeIndex.get_loc is deprecated and will raise in a future version. Use index.get_indexer([item], method=...) instead.\n",
      "  imin = index.get_loc(minval, method=\"nearest\")\n",
      "c:\\Users\\ATeklesadik\\Miniconda3\\envs\\geo_env\\lib\\site-packages\\xarray\\core\\missing.py:560: FutureWarning: Passing method to DatetimeIndex.get_loc is deprecated and will raise in a future version. Use index.get_indexer([item], method=...) instead.\n",
      "  imax = index.get_loc(maxval, method=\"nearest\")\n",
      "c:\\Users\\ATeklesadik\\Miniconda3\\envs\\geo_env\\lib\\site-packages\\xarray\\core\\missing.py:559: FutureWarning: Passing method to DatetimeIndex.get_loc is deprecated and will raise in a future version. Use index.get_indexer([item], method=...) instead.\n",
      "  imin = index.get_loc(minval, method=\"nearest\")\n",
      "c:\\Users\\ATeklesadik\\Miniconda3\\envs\\geo_env\\lib\\site-packages\\xarray\\core\\missing.py:560: FutureWarning: Passing method to DatetimeIndex.get_loc is deprecated and will raise in a future version. Use index.get_indexer([item], method=...) instead.\n",
      "  imax = index.get_loc(maxval, method=\"nearest\")\n",
      "c:\\Users\\ATeklesadik\\Miniconda3\\envs\\geo_env\\lib\\site-packages\\xarray\\core\\missing.py:559: FutureWarning: Passing method to DatetimeIndex.get_loc is deprecated and will raise in a future version. Use index.get_indexer([item], method=...) instead.\n",
      "  imin = index.get_loc(minval, method=\"nearest\")\n",
      "c:\\Users\\ATeklesadik\\Miniconda3\\envs\\geo_env\\lib\\site-packages\\xarray\\core\\missing.py:560: FutureWarning: Passing method to DatetimeIndex.get_loc is deprecated and will raise in a future version. Use index.get_indexer([item], method=...) instead.\n",
      "  imax = index.get_loc(maxval, method=\"nearest\")\n",
      "c:\\Users\\ATeklesadik\\Miniconda3\\envs\\geo_env\\lib\\site-packages\\xarray\\core\\missing.py:559: FutureWarning: Passing method to DatetimeIndex.get_loc is deprecated and will raise in a future version. Use index.get_indexer([item], method=...) instead.\n",
      "  imin = index.get_loc(minval, method=\"nearest\")\n",
      "c:\\Users\\ATeklesadik\\Miniconda3\\envs\\geo_env\\lib\\site-packages\\xarray\\core\\missing.py:560: FutureWarning: Passing method to DatetimeIndex.get_loc is deprecated and will raise in a future version. Use index.get_indexer([item], method=...) instead.\n",
      "  imax = index.get_loc(maxval, method=\"nearest\")\n",
      "c:\\Users\\ATeklesadik\\Miniconda3\\envs\\geo_env\\lib\\site-packages\\xarray\\core\\missing.py:559: FutureWarning: Passing method to DatetimeIndex.get_loc is deprecated and will raise in a future version. Use index.get_indexer([item], method=...) instead.\n",
      "  imin = index.get_loc(minval, method=\"nearest\")\n",
      "c:\\Users\\ATeklesadik\\Miniconda3\\envs\\geo_env\\lib\\site-packages\\xarray\\core\\missing.py:560: FutureWarning: Passing method to DatetimeIndex.get_loc is deprecated and will raise in a future version. Use index.get_indexer([item], method=...) instead.\n",
      "  imax = index.get_loc(maxval, method=\"nearest\")\n",
      "c:\\Users\\ATeklesadik\\Miniconda3\\envs\\geo_env\\lib\\site-packages\\xarray\\core\\missing.py:559: FutureWarning: Passing method to DatetimeIndex.get_loc is deprecated and will raise in a future version. Use index.get_indexer([item], method=...) instead.\n",
      "  imin = index.get_loc(minval, method=\"nearest\")\n",
      "c:\\Users\\ATeklesadik\\Miniconda3\\envs\\geo_env\\lib\\site-packages\\xarray\\core\\missing.py:560: FutureWarning: Passing method to DatetimeIndex.get_loc is deprecated and will raise in a future version. Use index.get_indexer([item], method=...) instead.\n",
      "  imax = index.get_loc(maxval, method=\"nearest\")\n",
      "c:\\Users\\ATeklesadik\\Miniconda3\\envs\\geo_env\\lib\\site-packages\\xarray\\core\\missing.py:559: FutureWarning: Passing method to DatetimeIndex.get_loc is deprecated and will raise in a future version. Use index.get_indexer([item], method=...) instead.\n",
      "  imin = index.get_loc(minval, method=\"nearest\")\n",
      "c:\\Users\\ATeklesadik\\Miniconda3\\envs\\geo_env\\lib\\site-packages\\xarray\\core\\missing.py:560: FutureWarning: Passing method to DatetimeIndex.get_loc is deprecated and will raise in a future version. Use index.get_indexer([item], method=...) instead.\n",
      "  imax = index.get_loc(maxval, method=\"nearest\")\n",
      "c:\\Users\\ATeklesadik\\Miniconda3\\envs\\geo_env\\lib\\site-packages\\xarray\\core\\missing.py:559: FutureWarning: Passing method to DatetimeIndex.get_loc is deprecated and will raise in a future version. Use index.get_indexer([item], method=...) instead.\n",
      "  imin = index.get_loc(minval, method=\"nearest\")\n",
      "c:\\Users\\ATeklesadik\\Miniconda3\\envs\\geo_env\\lib\\site-packages\\xarray\\core\\missing.py:560: FutureWarning: Passing method to DatetimeIndex.get_loc is deprecated and will raise in a future version. Use index.get_indexer([item], method=...) instead.\n",
      "  imax = index.get_loc(maxval, method=\"nearest\")\n",
      "c:\\Users\\ATeklesadik\\Miniconda3\\envs\\geo_env\\lib\\site-packages\\xarray\\core\\missing.py:559: FutureWarning: Passing method to DatetimeIndex.get_loc is deprecated and will raise in a future version. Use index.get_indexer([item], method=...) instead.\n",
      "  imin = index.get_loc(minval, method=\"nearest\")\n",
      "c:\\Users\\ATeklesadik\\Miniconda3\\envs\\geo_env\\lib\\site-packages\\xarray\\core\\missing.py:560: FutureWarning: Passing method to DatetimeIndex.get_loc is deprecated and will raise in a future version. Use index.get_indexer([item], method=...) instead.\n",
      "  imax = index.get_loc(maxval, method=\"nearest\")\n",
      "c:\\Users\\ATeklesadik\\Miniconda3\\envs\\geo_env\\lib\\site-packages\\xarray\\core\\missing.py:559: FutureWarning: Passing method to DatetimeIndex.get_loc is deprecated and will raise in a future version. Use index.get_indexer([item], method=...) instead.\n",
      "  imin = index.get_loc(minval, method=\"nearest\")\n",
      "c:\\Users\\ATeklesadik\\Miniconda3\\envs\\geo_env\\lib\\site-packages\\xarray\\core\\missing.py:560: FutureWarning: Passing method to DatetimeIndex.get_loc is deprecated and will raise in a future version. Use index.get_indexer([item], method=...) instead.\n",
      "  imax = index.get_loc(maxval, method=\"nearest\")\n",
      "c:\\Users\\ATeklesadik\\Miniconda3\\envs\\geo_env\\lib\\site-packages\\xarray\\core\\missing.py:559: FutureWarning: Passing method to DatetimeIndex.get_loc is deprecated and will raise in a future version. Use index.get_indexer([item], method=...) instead.\n",
      "  imin = index.get_loc(minval, method=\"nearest\")\n",
      "c:\\Users\\ATeklesadik\\Miniconda3\\envs\\geo_env\\lib\\site-packages\\xarray\\core\\missing.py:560: FutureWarning: Passing method to DatetimeIndex.get_loc is deprecated and will raise in a future version. Use index.get_indexer([item], method=...) instead.\n",
      "  imax = index.get_loc(maxval, method=\"nearest\")\n",
      "c:\\Users\\ATeklesadik\\Miniconda3\\envs\\geo_env\\lib\\site-packages\\xarray\\core\\missing.py:559: FutureWarning: Passing method to DatetimeIndex.get_loc is deprecated and will raise in a future version. Use index.get_indexer([item], method=...) instead.\n",
      "  imin = index.get_loc(minval, method=\"nearest\")\n",
      "c:\\Users\\ATeklesadik\\Miniconda3\\envs\\geo_env\\lib\\site-packages\\xarray\\core\\missing.py:560: FutureWarning: Passing method to DatetimeIndex.get_loc is deprecated and will raise in a future version. Use index.get_indexer([item], method=...) instead.\n",
      "  imax = index.get_loc(maxval, method=\"nearest\")\n"
     ]
    },
    {
     "name": "stdout",
     "output_type": "stream",
     "text": [
      "https://nomads.ncep.noaa.gov/pub/data/nccf/com/naefs/prod/gefs.20220826/00/prcp_bc_gb2/geprcp.t00z.pgrb2a.0p50.bc_24hf024\n",
      "wget -O forecast\\Input\\rainfall\\geprcp.t18z.pgrb2a.0p50.bc_24hf024.grib2 https://nomads.ncep.noaa.gov/pub/data/nccf/com/naefs/prod/gefs.20220825/18/prcp_bc_gb2/geprcp.t18z.pgrb2a.0p50.bc_24hf024\n",
      "wget -O forecast\\Input\\rainfall\\geprcp.t18z.pgrb2a.0p50.bc_24hf030.grib2 https://nomads.ncep.noaa.gov/pub/data/nccf/com/naefs/prod/gefs.20220825/18/prcp_bc_gb2/geprcp.t18z.pgrb2a.0p50.bc_24hf030\n",
      "wget -O forecast\\Input\\rainfall\\geprcp.t18z.pgrb2a.0p50.bc_24hf036.grib2 https://nomads.ncep.noaa.gov/pub/data/nccf/com/naefs/prod/gefs.20220825/18/prcp_bc_gb2/geprcp.t18z.pgrb2a.0p50.bc_24hf036\n",
      "wget -O forecast\\Input\\rainfall\\geprcp.t18z.pgrb2a.0p50.bc_24hf042.grib2 https://nomads.ncep.noaa.gov/pub/data/nccf/com/naefs/prod/gefs.20220825/18/prcp_bc_gb2/geprcp.t18z.pgrb2a.0p50.bc_24hf042\n",
      "wget -O forecast\\Input\\rainfall\\geprcp.t18z.pgrb2a.0p50.bc_24hf048.grib2 https://nomads.ncep.noaa.gov/pub/data/nccf/com/naefs/prod/gefs.20220825/18/prcp_bc_gb2/geprcp.t18z.pgrb2a.0p50.bc_24hf048\n",
      "wget -O forecast\\Input\\rainfall\\geprcp.t18z.pgrb2a.0p50.bc_24hf054.grib2 https://nomads.ncep.noaa.gov/pub/data/nccf/com/naefs/prod/gefs.20220825/18/prcp_bc_gb2/geprcp.t18z.pgrb2a.0p50.bc_24hf054\n",
      "wget -O forecast\\Input\\rainfall\\geprcp.t18z.pgrb2a.0p50.bc_24hf060.grib2 https://nomads.ncep.noaa.gov/pub/data/nccf/com/naefs/prod/gefs.20220825/18/prcp_bc_gb2/geprcp.t18z.pgrb2a.0p50.bc_24hf060\n",
      "wget -O forecast\\Input\\rainfall\\geprcp.t18z.pgrb2a.0p50.bc_24hf066.grib2 https://nomads.ncep.noaa.gov/pub/data/nccf/com/naefs/prod/gefs.20220825/18/prcp_bc_gb2/geprcp.t18z.pgrb2a.0p50.bc_24hf066\n",
      "wget -O forecast\\Input\\rainfall\\geprcp.t18z.pgrb2a.0p50.bc_24hf072.grib2 https://nomads.ncep.noaa.gov/pub/data/nccf/com/naefs/prod/gefs.20220825/18/prcp_bc_gb2/geprcp.t18z.pgrb2a.0p50.bc_24hf072\n",
      "wget -O forecast\\Input\\rainfall\\geprcp.t18z.pgrb2a.0p50.bc_06hf006.grib2 https://nomads.ncep.noaa.gov/pub/data/nccf/com/naefs/prod/gefs.20220825/18/prcp_bc_gb2/geprcp.t18z.pgrb2a.0p50.bc_06hf006\n",
      "wget -O forecast\\Input\\rainfall\\geprcp.t18z.pgrb2a.0p50.bc_06hf012.grib2 https://nomads.ncep.noaa.gov/pub/data/nccf/com/naefs/prod/gefs.20220825/18/prcp_bc_gb2/geprcp.t18z.pgrb2a.0p50.bc_06hf012\n",
      "wget -O forecast\\Input\\rainfall\\geprcp.t18z.pgrb2a.0p50.bc_06hf018.grib2 https://nomads.ncep.noaa.gov/pub/data/nccf/com/naefs/prod/gefs.20220825/18/prcp_bc_gb2/geprcp.t18z.pgrb2a.0p50.bc_06hf018\n",
      "wget -O forecast\\Input\\rainfall\\geprcp.t18z.pgrb2a.0p50.bc_06hf024.grib2 https://nomads.ncep.noaa.gov/pub/data/nccf/com/naefs/prod/gefs.20220825/18/prcp_bc_gb2/geprcp.t18z.pgrb2a.0p50.bc_06hf024\n",
      "wget -O forecast\\Input\\rainfall\\geprcp.t18z.pgrb2a.0p50.bc_06hf030.grib2 https://nomads.ncep.noaa.gov/pub/data/nccf/com/naefs/prod/gefs.20220825/18/prcp_bc_gb2/geprcp.t18z.pgrb2a.0p50.bc_06hf030\n",
      "wget -O forecast\\Input\\rainfall\\geprcp.t18z.pgrb2a.0p50.bc_06hf036.grib2 https://nomads.ncep.noaa.gov/pub/data/nccf/com/naefs/prod/gefs.20220825/18/prcp_bc_gb2/geprcp.t18z.pgrb2a.0p50.bc_06hf036\n",
      "wget -O forecast\\Input\\rainfall\\geprcp.t18z.pgrb2a.0p50.bc_06hf042.grib2 https://nomads.ncep.noaa.gov/pub/data/nccf/com/naefs/prod/gefs.20220825/18/prcp_bc_gb2/geprcp.t18z.pgrb2a.0p50.bc_06hf042\n",
      "wget -O forecast\\Input\\rainfall\\geprcp.t18z.pgrb2a.0p50.bc_06hf048.grib2 https://nomads.ncep.noaa.gov/pub/data/nccf/com/naefs/prod/gefs.20220825/18/prcp_bc_gb2/geprcp.t18z.pgrb2a.0p50.bc_06hf048\n",
      "wget -O forecast\\Input\\rainfall\\geprcp.t18z.pgrb2a.0p50.bc_06hf054.grib2 https://nomads.ncep.noaa.gov/pub/data/nccf/com/naefs/prod/gefs.20220825/18/prcp_bc_gb2/geprcp.t18z.pgrb2a.0p50.bc_06hf054\n",
      "wget -O forecast\\Input\\rainfall\\geprcp.t18z.pgrb2a.0p50.bc_06hf060.grib2 https://nomads.ncep.noaa.gov/pub/data/nccf/com/naefs/prod/gefs.20220825/18/prcp_bc_gb2/geprcp.t18z.pgrb2a.0p50.bc_06hf060\n",
      "wget -O forecast\\Input\\rainfall\\geprcp.t18z.pgrb2a.0p50.bc_06hf066.grib2 https://nomads.ncep.noaa.gov/pub/data/nccf/com/naefs/prod/gefs.20220825/18/prcp_bc_gb2/geprcp.t18z.pgrb2a.0p50.bc_06hf066\n",
      "wget -O forecast\\Input\\rainfall\\geprcp.t18z.pgrb2a.0p50.bc_06hf072.grib2 https://nomads.ncep.noaa.gov/pub/data/nccf/com/naefs/prod/gefs.20220825/18/prcp_bc_gb2/geprcp.t18z.pgrb2a.0p50.bc_06hf072\n"
     ]
    },
    {
     "name": "stderr",
     "output_type": "stream",
     "text": [
      "2022-08-26 10:23:44,844 : WARNING : CPLE_AppDefined in Recode from UTF-8 to CP_ACP failed with the error: \"Invalid argument\".\n",
      "2022-08-26 10:24:46,869 : WARNING : CPLE_AppDefined in Recode from UTF-8 to CP_ACP failed with the error: \"Invalid argument\".\n",
      "2022-08-26 10:25:31,571 : INFO : Processing data 10W\n",
      "2022-08-26 10:25:31,593 : INFO : High res member: creating intensity plot\n",
      "c:\\Users\\ATeklesadik\\Miniconda3\\envs\\geo_env\\lib\\site-packages\\pyproj\\crs\\crs.py:68: FutureWarning: '+init=<authority>:<code>' syntax is deprecated. '<authority>:<code>' is the preferred initialization method. When making the change, be mindful of axis order changes: https://pyproj4.github.io/pyproj/stable/gotchas.html#axis-order-changes-in-proj-6\n",
      "  return _prepare_from_string(\" \".join(pjargs))\n",
      "c:\\Users\\ATeklesadik\\OneDrive - Rode Kruis\\Documents\\documents\\IBF_TYPHOON_DATA_PIPELINE\\IBF-Typhoon-model\\src\\typhoonmodel\\utility_fun\\forecast_process.py:462: UserWarning: CRS mismatch between the CRS of left geometries and the CRS of right geometries.\n",
      "Use `to_crs()` to reproject one of the input geometries to match the CRS of the other.\n",
      "\n",
      "Left CRS: +init=epsg:4326 +no_defs +type=crs\n",
      "Right CRS: EPSG:4326\n",
      "\n",
      "  coastline = gpd.clip(coast, PHL).to_crs('EPSG:3124')\n",
      "2022-08-26 10:25:34,775 : INFO : Running on ensemble # 1 for typhoon 10W\n"
     ]
    },
    {
     "name": "stdout",
     "output_type": "stream",
     "text": [
      "2022-08-26 10:25:34,853 - climada.hazard.centroids.centr - INFO - Convert centroids to GeoSeries of Point shapes.\n",
      "2022-08-26 10:25:34,941 - climada.hazard.centroids.centr - DEBUG - Computing distance to coast for 47241 centroids.\n"
     ]
    },
    {
     "name": "stderr",
     "output_type": "stream",
     "text": [
      "c:\\Users\\ATeklesadik\\Miniconda3\\envs\\geo_env\\lib\\site-packages\\geopandas\\geoseries.py:207: FutureWarning: The default dtype for empty Series will be 'object' instead of 'float64' in a future version. Specify a dtype explicitly to silence this warning.\n",
      "  s = pd.Series(data, index=index, name=name, **kwargs)\n",
      "c:\\Users\\ATeklesadik\\Miniconda3\\envs\\geo_env\\lib\\site-packages\\geopandas\\geoseries.py:207: FutureWarning: The default dtype for empty Series will be 'object' instead of 'float64' in a future version. Specify a dtype explicitly to silence this warning.\n",
      "  s = pd.Series(data, index=index, name=name, **kwargs)\n",
      "c:\\Users\\ATeklesadik\\Miniconda3\\envs\\geo_env\\lib\\site-packages\\pyproj\\crs\\crs.py:68: FutureWarning: '+init=<authority>:<code>' syntax is deprecated. '<authority>:<code>' is the preferred initialization method. When making the change, be mindful of axis order changes: https://pyproj4.github.io/pyproj/stable/gotchas.html#axis-order-changes-in-proj-6\n",
      "  return _prepare_from_string(\" \".join(pjargs))\n"
     ]
    },
    {
     "name": "stdout",
     "output_type": "stream",
     "text": [
      "2022-08-26 10:25:35,637 - climada.util.coordinates - INFO - dist_to_coast: UTM 32650 (1/3)\n"
     ]
    },
    {
     "name": "stderr",
     "output_type": "stream",
     "text": [
      "c:\\Users\\ATeklesadik\\Miniconda3\\envs\\geo_env\\lib\\site-packages\\pyproj\\crs\\crs.py:68: FutureWarning: '+init=<authority>:<code>' syntax is deprecated. '<authority>:<code>' is the preferred initialization method. When making the change, be mindful of axis order changes: https://pyproj4.github.io/pyproj/stable/gotchas.html#axis-order-changes-in-proj-6\n",
      "  return _prepare_from_string(\" \".join(pjargs))\n",
      "c:\\Users\\ATeklesadik\\Miniconda3\\envs\\geo_env\\lib\\site-packages\\pyproj\\crs\\crs.py:68: FutureWarning: '+init=<authority>:<code>' syntax is deprecated. '<authority>:<code>' is the preferred initialization method. When making the change, be mindful of axis order changes: https://pyproj4.github.io/pyproj/stable/gotchas.html#axis-order-changes-in-proj-6\n",
      "  return _prepare_from_string(\" \".join(pjargs))\n",
      "c:\\Users\\ATeklesadik\\Miniconda3\\envs\\geo_env\\lib\\site-packages\\pyproj\\crs\\crs.py:68: FutureWarning: '+init=<authority>:<code>' syntax is deprecated. '<authority>:<code>' is the preferred initialization method. When making the change, be mindful of axis order changes: https://pyproj4.github.io/pyproj/stable/gotchas.html#axis-order-changes-in-proj-6\n",
      "  return _prepare_from_string(\" \".join(pjargs))\n",
      "c:\\Users\\ATeklesadik\\Miniconda3\\envs\\geo_env\\lib\\site-packages\\pyproj\\crs\\crs.py:68: FutureWarning: '+init=<authority>:<code>' syntax is deprecated. '<authority>:<code>' is the preferred initialization method. When making the change, be mindful of axis order changes: https://pyproj4.github.io/pyproj/stable/gotchas.html#axis-order-changes-in-proj-6\n",
      "  return _prepare_from_string(\" \".join(pjargs))\n",
      "c:\\Users\\ATeklesadik\\Miniconda3\\envs\\geo_env\\lib\\site-packages\\pyproj\\crs\\crs.py:68: FutureWarning: '+init=<authority>:<code>' syntax is deprecated. '<authority>:<code>' is the preferred initialization method. When making the change, be mindful of axis order changes: https://pyproj4.github.io/pyproj/stable/gotchas.html#axis-order-changes-in-proj-6\n",
      "  return _prepare_from_string(\" \".join(pjargs))\n"
     ]
    },
    {
     "name": "stdout",
     "output_type": "stream",
     "text": [
      "2022-08-26 10:25:38,377 - climada.util.coordinates - INFO - dist_to_coast: UTM 32651 (2/3)\n"
     ]
    },
    {
     "name": "stderr",
     "output_type": "stream",
     "text": [
      "c:\\Users\\ATeklesadik\\Miniconda3\\envs\\geo_env\\lib\\site-packages\\pyproj\\crs\\crs.py:68: FutureWarning: '+init=<authority>:<code>' syntax is deprecated. '<authority>:<code>' is the preferred initialization method. When making the change, be mindful of axis order changes: https://pyproj4.github.io/pyproj/stable/gotchas.html#axis-order-changes-in-proj-6\n",
      "  return _prepare_from_string(\" \".join(pjargs))\n",
      "c:\\Users\\ATeklesadik\\Miniconda3\\envs\\geo_env\\lib\\site-packages\\pyproj\\crs\\crs.py:68: FutureWarning: '+init=<authority>:<code>' syntax is deprecated. '<authority>:<code>' is the preferred initialization method. When making the change, be mindful of axis order changes: https://pyproj4.github.io/pyproj/stable/gotchas.html#axis-order-changes-in-proj-6\n",
      "  return _prepare_from_string(\" \".join(pjargs))\n",
      "c:\\Users\\ATeklesadik\\Miniconda3\\envs\\geo_env\\lib\\site-packages\\pyproj\\crs\\crs.py:68: FutureWarning: '+init=<authority>:<code>' syntax is deprecated. '<authority>:<code>' is the preferred initialization method. When making the change, be mindful of axis order changes: https://pyproj4.github.io/pyproj/stable/gotchas.html#axis-order-changes-in-proj-6\n",
      "  return _prepare_from_string(\" \".join(pjargs))\n"
     ]
    },
    {
     "name": "stdout",
     "output_type": "stream",
     "text": [
      "2022-08-26 10:25:45,590 - climada.util.coordinates - INFO - dist_to_coast: UTM 32652 (3/3)\n"
     ]
    },
    {
     "name": "stderr",
     "output_type": "stream",
     "text": [
      "c:\\Users\\ATeklesadik\\Miniconda3\\envs\\geo_env\\lib\\site-packages\\pyproj\\crs\\crs.py:68: FutureWarning: '+init=<authority>:<code>' syntax is deprecated. '<authority>:<code>' is the preferred initialization method. When making the change, be mindful of axis order changes: https://pyproj4.github.io/pyproj/stable/gotchas.html#axis-order-changes-in-proj-6\n",
      "  return _prepare_from_string(\" \".join(pjargs))\n",
      "c:\\Users\\ATeklesadik\\Miniconda3\\envs\\geo_env\\lib\\site-packages\\pyproj\\crs\\crs.py:68: FutureWarning: '+init=<authority>:<code>' syntax is deprecated. '<authority>:<code>' is the preferred initialization method. When making the change, be mindful of axis order changes: https://pyproj4.github.io/pyproj/stable/gotchas.html#axis-order-changes-in-proj-6\n",
      "  return _prepare_from_string(\" \".join(pjargs))\n",
      "c:\\Users\\ATeklesadik\\Miniconda3\\envs\\geo_env\\lib\\site-packages\\pyproj\\crs\\crs.py:68: FutureWarning: '+init=<authority>:<code>' syntax is deprecated. '<authority>:<code>' is the preferred initialization method. When making the change, be mindful of axis order changes: https://pyproj4.github.io/pyproj/stable/gotchas.html#axis-order-changes-in-proj-6\n",
      "  return _prepare_from_string(\" \".join(pjargs))\n"
     ]
    },
    {
     "name": "stdout",
     "output_type": "stream",
     "text": [
      "2022-08-26 10:25:47,102 - climada.hazard.trop_cyclone - INFO - Mapping 1 tracks to 30770 coastal centroids.\n",
      "2022-08-26 10:25:49,150 - climada.hazard.trop_cyclone - INFO - Progress: 100%\n",
      "2022-08-26 10:25:49,151 - climada.hazard.trop_cyclone - DEBUG - Compute frequency.\n"
     ]
    },
    {
     "name": "stderr",
     "output_type": "stream",
     "text": [
      "c:\\Users\\ATeklesadik\\Miniconda3\\envs\\geo_env\\lib\\site-packages\\geopandas\\geoseries.py:207: FutureWarning: The default dtype for empty Series will be 'object' instead of 'float64' in a future version. Specify a dtype explicitly to silence this warning.\n",
      "  s = pd.Series(data, index=index, name=name, **kwargs)\n",
      "2022-08-26 10:25:59,042 : INFO : Running on ensemble # 2 for typhoon 10W\n"
     ]
    },
    {
     "name": "stdout",
     "output_type": "stream",
     "text": [
      "2022-08-26 10:25:59,072 - climada.hazard.trop_cyclone - INFO - Mapping 1 tracks to 28960 coastal centroids.\n"
     ]
    },
    {
     "name": "stderr",
     "output_type": "stream",
     "text": [
      "c:\\Users\\ATeklesadik\\Miniconda3\\envs\\geo_env\\lib\\site-packages\\geopandas\\geoseries.py:207: FutureWarning: The default dtype for empty Series will be 'object' instead of 'float64' in a future version. Specify a dtype explicitly to silence this warning.\n",
      "  s = pd.Series(data, index=index, name=name, **kwargs)\n"
     ]
    },
    {
     "name": "stdout",
     "output_type": "stream",
     "text": [
      "2022-08-26 10:26:00,920 - climada.hazard.trop_cyclone - INFO - Progress: 100%\n",
      "2022-08-26 10:26:00,920 - climada.hazard.trop_cyclone - DEBUG - Compute frequency.\n"
     ]
    },
    {
     "name": "stderr",
     "output_type": "stream",
     "text": [
      "c:\\Users\\ATeklesadik\\Miniconda3\\envs\\geo_env\\lib\\site-packages\\geopandas\\geoseries.py:207: FutureWarning: The default dtype for empty Series will be 'object' instead of 'float64' in a future version. Specify a dtype explicitly to silence this warning.\n",
      "  s = pd.Series(data, index=index, name=name, **kwargs)\n",
      "2022-08-26 10:26:10,869 : INFO : Running on ensemble # 3 for typhoon 10W\n"
     ]
    },
    {
     "name": "stdout",
     "output_type": "stream",
     "text": [
      "2022-08-26 10:26:10,901 - climada.hazard.trop_cyclone - INFO - Mapping 1 tracks to 30770 coastal centroids.\n"
     ]
    },
    {
     "name": "stderr",
     "output_type": "stream",
     "text": [
      "c:\\Users\\ATeklesadik\\Miniconda3\\envs\\geo_env\\lib\\site-packages\\geopandas\\geoseries.py:207: FutureWarning: The default dtype for empty Series will be 'object' instead of 'float64' in a future version. Specify a dtype explicitly to silence this warning.\n",
      "  s = pd.Series(data, index=index, name=name, **kwargs)\n"
     ]
    },
    {
     "name": "stdout",
     "output_type": "stream",
     "text": [
      "2022-08-26 10:26:12,881 - climada.hazard.trop_cyclone - INFO - Progress: 100%\n",
      "2022-08-26 10:26:12,881 - climada.hazard.trop_cyclone - DEBUG - Compute frequency.\n"
     ]
    },
    {
     "name": "stderr",
     "output_type": "stream",
     "text": [
      "c:\\Users\\ATeklesadik\\Miniconda3\\envs\\geo_env\\lib\\site-packages\\geopandas\\geoseries.py:207: FutureWarning: The default dtype for empty Series will be 'object' instead of 'float64' in a future version. Specify a dtype explicitly to silence this warning.\n",
      "  s = pd.Series(data, index=index, name=name, **kwargs)\n",
      "2022-08-26 10:26:23,537 : INFO : Running on ensemble # 4 for typhoon 10W\n"
     ]
    },
    {
     "name": "stdout",
     "output_type": "stream",
     "text": [
      "2022-08-26 10:26:23,569 - climada.hazard.trop_cyclone - INFO - Mapping 1 tracks to 29684 coastal centroids.\n"
     ]
    },
    {
     "name": "stderr",
     "output_type": "stream",
     "text": [
      "c:\\Users\\ATeklesadik\\Miniconda3\\envs\\geo_env\\lib\\site-packages\\geopandas\\geoseries.py:207: FutureWarning: The default dtype for empty Series will be 'object' instead of 'float64' in a future version. Specify a dtype explicitly to silence this warning.\n",
      "  s = pd.Series(data, index=index, name=name, **kwargs)\n"
     ]
    },
    {
     "name": "stdout",
     "output_type": "stream",
     "text": [
      "2022-08-26 10:26:25,434 - climada.hazard.trop_cyclone - INFO - Progress: 100%\n",
      "2022-08-26 10:26:25,435 - climada.hazard.trop_cyclone - DEBUG - Compute frequency.\n"
     ]
    },
    {
     "name": "stderr",
     "output_type": "stream",
     "text": [
      "c:\\Users\\ATeklesadik\\Miniconda3\\envs\\geo_env\\lib\\site-packages\\geopandas\\geoseries.py:207: FutureWarning: The default dtype for empty Series will be 'object' instead of 'float64' in a future version. Specify a dtype explicitly to silence this warning.\n",
      "  s = pd.Series(data, index=index, name=name, **kwargs)\n",
      "2022-08-26 10:26:35,399 : INFO : Running on ensemble # 5 for typhoon 10W\n"
     ]
    },
    {
     "name": "stdout",
     "output_type": "stream",
     "text": [
      "2022-08-26 10:26:35,430 - climada.hazard.trop_cyclone - INFO - Mapping 1 tracks to 31132 coastal centroids.\n"
     ]
    },
    {
     "name": "stderr",
     "output_type": "stream",
     "text": [
      "c:\\Users\\ATeklesadik\\Miniconda3\\envs\\geo_env\\lib\\site-packages\\geopandas\\geoseries.py:207: FutureWarning: The default dtype for empty Series will be 'object' instead of 'float64' in a future version. Specify a dtype explicitly to silence this warning.\n",
      "  s = pd.Series(data, index=index, name=name, **kwargs)\n"
     ]
    },
    {
     "name": "stdout",
     "output_type": "stream",
     "text": [
      "2022-08-26 10:26:37,371 - climada.hazard.trop_cyclone - INFO - Progress: 100%\n",
      "2022-08-26 10:26:37,372 - climada.hazard.trop_cyclone - DEBUG - Compute frequency.\n"
     ]
    },
    {
     "name": "stderr",
     "output_type": "stream",
     "text": [
      "c:\\Users\\ATeklesadik\\Miniconda3\\envs\\geo_env\\lib\\site-packages\\geopandas\\geoseries.py:207: FutureWarning: The default dtype for empty Series will be 'object' instead of 'float64' in a future version. Specify a dtype explicitly to silence this warning.\n",
      "  s = pd.Series(data, index=index, name=name, **kwargs)\n",
      "2022-08-26 10:26:47,482 : INFO : Running on ensemble # 6 for typhoon 10W\n"
     ]
    },
    {
     "name": "stdout",
     "output_type": "stream",
     "text": [
      "2022-08-26 10:26:47,526 - climada.hazard.trop_cyclone - INFO - Mapping 1 tracks to 29684 coastal centroids.\n"
     ]
    },
    {
     "name": "stderr",
     "output_type": "stream",
     "text": [
      "c:\\Users\\ATeklesadik\\Miniconda3\\envs\\geo_env\\lib\\site-packages\\geopandas\\geoseries.py:207: FutureWarning: The default dtype for empty Series will be 'object' instead of 'float64' in a future version. Specify a dtype explicitly to silence this warning.\n",
      "  s = pd.Series(data, index=index, name=name, **kwargs)\n"
     ]
    },
    {
     "name": "stdout",
     "output_type": "stream",
     "text": [
      "2022-08-26 10:26:49,409 - climada.hazard.trop_cyclone - INFO - Progress: 100%\n",
      "2022-08-26 10:26:49,410 - climada.hazard.trop_cyclone - DEBUG - Compute frequency.\n"
     ]
    },
    {
     "name": "stderr",
     "output_type": "stream",
     "text": [
      "c:\\Users\\ATeklesadik\\Miniconda3\\envs\\geo_env\\lib\\site-packages\\geopandas\\geoseries.py:207: FutureWarning: The default dtype for empty Series will be 'object' instead of 'float64' in a future version. Specify a dtype explicitly to silence this warning.\n",
      "  s = pd.Series(data, index=index, name=name, **kwargs)\n",
      "2022-08-26 10:26:59,467 : INFO : Running on ensemble # 7 for typhoon 10W\n"
     ]
    },
    {
     "name": "stdout",
     "output_type": "stream",
     "text": [
      "2022-08-26 10:26:59,498 - climada.hazard.trop_cyclone - INFO - Mapping 1 tracks to 30770 coastal centroids.\n"
     ]
    },
    {
     "name": "stderr",
     "output_type": "stream",
     "text": [
      "c:\\Users\\ATeklesadik\\Miniconda3\\envs\\geo_env\\lib\\site-packages\\geopandas\\geoseries.py:207: FutureWarning: The default dtype for empty Series will be 'object' instead of 'float64' in a future version. Specify a dtype explicitly to silence this warning.\n",
      "  s = pd.Series(data, index=index, name=name, **kwargs)\n"
     ]
    },
    {
     "name": "stdout",
     "output_type": "stream",
     "text": [
      "2022-08-26 10:27:01,446 - climada.hazard.trop_cyclone - INFO - Progress: 100%\n",
      "2022-08-26 10:27:01,447 - climada.hazard.trop_cyclone - DEBUG - Compute frequency.\n"
     ]
    },
    {
     "name": "stderr",
     "output_type": "stream",
     "text": [
      "c:\\Users\\ATeklesadik\\Miniconda3\\envs\\geo_env\\lib\\site-packages\\geopandas\\geoseries.py:207: FutureWarning: The default dtype for empty Series will be 'object' instead of 'float64' in a future version. Specify a dtype explicitly to silence this warning.\n",
      "  s = pd.Series(data, index=index, name=name, **kwargs)\n",
      "2022-08-26 10:27:11,918 : INFO : Running on ensemble # 8 for typhoon 10W\n"
     ]
    },
    {
     "name": "stdout",
     "output_type": "stream",
     "text": [
      "2022-08-26 10:27:11,953 - climada.hazard.trop_cyclone - INFO - Mapping 1 tracks to 30046 coastal centroids.\n"
     ]
    },
    {
     "name": "stderr",
     "output_type": "stream",
     "text": [
      "c:\\Users\\ATeklesadik\\Miniconda3\\envs\\geo_env\\lib\\site-packages\\geopandas\\geoseries.py:207: FutureWarning: The default dtype for empty Series will be 'object' instead of 'float64' in a future version. Specify a dtype explicitly to silence this warning.\n",
      "  s = pd.Series(data, index=index, name=name, **kwargs)\n"
     ]
    },
    {
     "name": "stdout",
     "output_type": "stream",
     "text": [
      "2022-08-26 10:27:13,851 - climada.hazard.trop_cyclone - INFO - Progress: 100%\n",
      "2022-08-26 10:27:13,852 - climada.hazard.trop_cyclone - DEBUG - Compute frequency.\n"
     ]
    },
    {
     "name": "stderr",
     "output_type": "stream",
     "text": [
      "c:\\Users\\ATeklesadik\\Miniconda3\\envs\\geo_env\\lib\\site-packages\\geopandas\\geoseries.py:207: FutureWarning: The default dtype for empty Series will be 'object' instead of 'float64' in a future version. Specify a dtype explicitly to silence this warning.\n",
      "  s = pd.Series(data, index=index, name=name, **kwargs)\n",
      "2022-08-26 10:27:24,243 : INFO : Running on ensemble # 9 for typhoon 10W\n"
     ]
    },
    {
     "name": "stdout",
     "output_type": "stream",
     "text": [
      "2022-08-26 10:27:24,273 - climada.hazard.trop_cyclone - INFO - Mapping 1 tracks to 30046 coastal centroids.\n"
     ]
    },
    {
     "name": "stderr",
     "output_type": "stream",
     "text": [
      "c:\\Users\\ATeklesadik\\Miniconda3\\envs\\geo_env\\lib\\site-packages\\geopandas\\geoseries.py:207: FutureWarning: The default dtype for empty Series will be 'object' instead of 'float64' in a future version. Specify a dtype explicitly to silence this warning.\n",
      "  s = pd.Series(data, index=index, name=name, **kwargs)\n"
     ]
    },
    {
     "name": "stdout",
     "output_type": "stream",
     "text": [
      "2022-08-26 10:27:26,135 - climada.hazard.trop_cyclone - INFO - Progress: 100%\n",
      "2022-08-26 10:27:26,136 - climada.hazard.trop_cyclone - DEBUG - Compute frequency.\n"
     ]
    },
    {
     "name": "stderr",
     "output_type": "stream",
     "text": [
      "c:\\Users\\ATeklesadik\\Miniconda3\\envs\\geo_env\\lib\\site-packages\\geopandas\\geoseries.py:207: FutureWarning: The default dtype for empty Series will be 'object' instead of 'float64' in a future version. Specify a dtype explicitly to silence this warning.\n",
      "  s = pd.Series(data, index=index, name=name, **kwargs)\n",
      "2022-08-26 10:27:36,274 : INFO : Running on ensemble # 10 for typhoon 10W\n"
     ]
    },
    {
     "name": "stdout",
     "output_type": "stream",
     "text": [
      "2022-08-26 10:27:36,306 - climada.hazard.trop_cyclone - INFO - Mapping 1 tracks to 31132 coastal centroids.\n"
     ]
    },
    {
     "name": "stderr",
     "output_type": "stream",
     "text": [
      "c:\\Users\\ATeklesadik\\Miniconda3\\envs\\geo_env\\lib\\site-packages\\geopandas\\geoseries.py:207: FutureWarning: The default dtype for empty Series will be 'object' instead of 'float64' in a future version. Specify a dtype explicitly to silence this warning.\n",
      "  s = pd.Series(data, index=index, name=name, **kwargs)\n"
     ]
    },
    {
     "name": "stdout",
     "output_type": "stream",
     "text": [
      "2022-08-26 10:27:38,321 - climada.hazard.trop_cyclone - INFO - Progress: 100%\n",
      "2022-08-26 10:27:38,322 - climada.hazard.trop_cyclone - DEBUG - Compute frequency.\n"
     ]
    },
    {
     "name": "stderr",
     "output_type": "stream",
     "text": [
      "c:\\Users\\ATeklesadik\\Miniconda3\\envs\\geo_env\\lib\\site-packages\\geopandas\\geoseries.py:207: FutureWarning: The default dtype for empty Series will be 'object' instead of 'float64' in a future version. Specify a dtype explicitly to silence this warning.\n",
      "  s = pd.Series(data, index=index, name=name, **kwargs)\n",
      "2022-08-26 10:27:48,614 : INFO : Running on ensemble # 11 for typhoon 10W\n"
     ]
    },
    {
     "name": "stdout",
     "output_type": "stream",
     "text": [
      "2022-08-26 10:27:48,647 - climada.hazard.trop_cyclone - INFO - Mapping 1 tracks to 31132 coastal centroids.\n"
     ]
    },
    {
     "name": "stderr",
     "output_type": "stream",
     "text": [
      "c:\\Users\\ATeklesadik\\Miniconda3\\envs\\geo_env\\lib\\site-packages\\geopandas\\geoseries.py:207: FutureWarning: The default dtype for empty Series will be 'object' instead of 'float64' in a future version. Specify a dtype explicitly to silence this warning.\n",
      "  s = pd.Series(data, index=index, name=name, **kwargs)\n"
     ]
    },
    {
     "name": "stdout",
     "output_type": "stream",
     "text": [
      "2022-08-26 10:27:50,634 - climada.hazard.trop_cyclone - INFO - Progress: 100%\n",
      "2022-08-26 10:27:50,634 - climada.hazard.trop_cyclone - DEBUG - Compute frequency.\n"
     ]
    },
    {
     "name": "stderr",
     "output_type": "stream",
     "text": [
      "c:\\Users\\ATeklesadik\\Miniconda3\\envs\\geo_env\\lib\\site-packages\\geopandas\\geoseries.py:207: FutureWarning: The default dtype for empty Series will be 'object' instead of 'float64' in a future version. Specify a dtype explicitly to silence this warning.\n",
      "  s = pd.Series(data, index=index, name=name, **kwargs)\n",
      "2022-08-26 10:28:01,179 : INFO : Running on ensemble # 12 for typhoon 10W\n"
     ]
    },
    {
     "name": "stdout",
     "output_type": "stream",
     "text": [
      "2022-08-26 10:28:01,210 - climada.hazard.trop_cyclone - INFO - Mapping 1 tracks to 30770 coastal centroids.\n"
     ]
    },
    {
     "name": "stderr",
     "output_type": "stream",
     "text": [
      "c:\\Users\\ATeklesadik\\Miniconda3\\envs\\geo_env\\lib\\site-packages\\geopandas\\geoseries.py:207: FutureWarning: The default dtype for empty Series will be 'object' instead of 'float64' in a future version. Specify a dtype explicitly to silence this warning.\n",
      "  s = pd.Series(data, index=index, name=name, **kwargs)\n"
     ]
    },
    {
     "name": "stdout",
     "output_type": "stream",
     "text": [
      "2022-08-26 10:28:03,171 - climada.hazard.trop_cyclone - INFO - Progress: 100%\n",
      "2022-08-26 10:28:03,171 - climada.hazard.trop_cyclone - DEBUG - Compute frequency.\n"
     ]
    },
    {
     "name": "stderr",
     "output_type": "stream",
     "text": [
      "c:\\Users\\ATeklesadik\\Miniconda3\\envs\\geo_env\\lib\\site-packages\\geopandas\\geoseries.py:207: FutureWarning: The default dtype for empty Series will be 'object' instead of 'float64' in a future version. Specify a dtype explicitly to silence this warning.\n",
      "  s = pd.Series(data, index=index, name=name, **kwargs)\n",
      "2022-08-26 10:28:13,272 : INFO : Running on ensemble # 13 for typhoon 10W\n"
     ]
    },
    {
     "name": "stdout",
     "output_type": "stream",
     "text": [
      "2022-08-26 10:28:13,305 - climada.hazard.trop_cyclone - INFO - Mapping 1 tracks to 30046 coastal centroids.\n"
     ]
    },
    {
     "name": "stderr",
     "output_type": "stream",
     "text": [
      "c:\\Users\\ATeklesadik\\Miniconda3\\envs\\geo_env\\lib\\site-packages\\geopandas\\geoseries.py:207: FutureWarning: The default dtype for empty Series will be 'object' instead of 'float64' in a future version. Specify a dtype explicitly to silence this warning.\n",
      "  s = pd.Series(data, index=index, name=name, **kwargs)\n"
     ]
    },
    {
     "name": "stdout",
     "output_type": "stream",
     "text": [
      "2022-08-26 10:28:15,195 - climada.hazard.trop_cyclone - INFO - Progress: 100%\n",
      "2022-08-26 10:28:15,195 - climada.hazard.trop_cyclone - DEBUG - Compute frequency.\n"
     ]
    },
    {
     "name": "stderr",
     "output_type": "stream",
     "text": [
      "c:\\Users\\ATeklesadik\\Miniconda3\\envs\\geo_env\\lib\\site-packages\\geopandas\\geoseries.py:207: FutureWarning: The default dtype for empty Series will be 'object' instead of 'float64' in a future version. Specify a dtype explicitly to silence this warning.\n",
      "  s = pd.Series(data, index=index, name=name, **kwargs)\n",
      "2022-08-26 10:28:25,414 : INFO : Running on ensemble # 14 for typhoon 10W\n"
     ]
    },
    {
     "name": "stdout",
     "output_type": "stream",
     "text": [
      "2022-08-26 10:28:25,445 - climada.hazard.trop_cyclone - INFO - Mapping 1 tracks to 30770 coastal centroids.\n"
     ]
    },
    {
     "name": "stderr",
     "output_type": "stream",
     "text": [
      "c:\\Users\\ATeklesadik\\Miniconda3\\envs\\geo_env\\lib\\site-packages\\geopandas\\geoseries.py:207: FutureWarning: The default dtype for empty Series will be 'object' instead of 'float64' in a future version. Specify a dtype explicitly to silence this warning.\n",
      "  s = pd.Series(data, index=index, name=name, **kwargs)\n"
     ]
    },
    {
     "name": "stdout",
     "output_type": "stream",
     "text": [
      "2022-08-26 10:28:27,397 - climada.hazard.trop_cyclone - INFO - Progress: 100%\n",
      "2022-08-26 10:28:27,397 - climada.hazard.trop_cyclone - DEBUG - Compute frequency.\n"
     ]
    },
    {
     "name": "stderr",
     "output_type": "stream",
     "text": [
      "c:\\Users\\ATeklesadik\\Miniconda3\\envs\\geo_env\\lib\\site-packages\\geopandas\\geoseries.py:207: FutureWarning: The default dtype for empty Series will be 'object' instead of 'float64' in a future version. Specify a dtype explicitly to silence this warning.\n",
      "  s = pd.Series(data, index=index, name=name, **kwargs)\n",
      "2022-08-26 10:28:37,571 : INFO : Running on ensemble # 15 for typhoon 10W\n"
     ]
    },
    {
     "name": "stdout",
     "output_type": "stream",
     "text": [
      "2022-08-26 10:28:37,605 - climada.hazard.trop_cyclone - INFO - Mapping 1 tracks to 30770 coastal centroids.\n"
     ]
    },
    {
     "name": "stderr",
     "output_type": "stream",
     "text": [
      "c:\\Users\\ATeklesadik\\Miniconda3\\envs\\geo_env\\lib\\site-packages\\geopandas\\geoseries.py:207: FutureWarning: The default dtype for empty Series will be 'object' instead of 'float64' in a future version. Specify a dtype explicitly to silence this warning.\n",
      "  s = pd.Series(data, index=index, name=name, **kwargs)\n"
     ]
    },
    {
     "name": "stdout",
     "output_type": "stream",
     "text": [
      "2022-08-26 10:28:39,532 - climada.hazard.trop_cyclone - INFO - Progress: 100%\n",
      "2022-08-26 10:28:39,534 - climada.hazard.trop_cyclone - DEBUG - Compute frequency.\n"
     ]
    },
    {
     "name": "stderr",
     "output_type": "stream",
     "text": [
      "c:\\Users\\ATeklesadik\\Miniconda3\\envs\\geo_env\\lib\\site-packages\\geopandas\\geoseries.py:207: FutureWarning: The default dtype for empty Series will be 'object' instead of 'float64' in a future version. Specify a dtype explicitly to silence this warning.\n",
      "  s = pd.Series(data, index=index, name=name, **kwargs)\n",
      "2022-08-26 10:28:49,947 : INFO : Running on ensemble # 16 for typhoon 10W\n"
     ]
    },
    {
     "name": "stdout",
     "output_type": "stream",
     "text": [
      "2022-08-26 10:28:49,979 - climada.hazard.trop_cyclone - INFO - Mapping 1 tracks to 29684 coastal centroids.\n"
     ]
    },
    {
     "name": "stderr",
     "output_type": "stream",
     "text": [
      "c:\\Users\\ATeklesadik\\Miniconda3\\envs\\geo_env\\lib\\site-packages\\geopandas\\geoseries.py:207: FutureWarning: The default dtype for empty Series will be 'object' instead of 'float64' in a future version. Specify a dtype explicitly to silence this warning.\n",
      "  s = pd.Series(data, index=index, name=name, **kwargs)\n"
     ]
    },
    {
     "name": "stdout",
     "output_type": "stream",
     "text": [
      "2022-08-26 10:28:51,830 - climada.hazard.trop_cyclone - INFO - Progress: 100%\n",
      "2022-08-26 10:28:51,831 - climada.hazard.trop_cyclone - DEBUG - Compute frequency.\n"
     ]
    },
    {
     "name": "stderr",
     "output_type": "stream",
     "text": [
      "c:\\Users\\ATeklesadik\\Miniconda3\\envs\\geo_env\\lib\\site-packages\\geopandas\\geoseries.py:207: FutureWarning: The default dtype for empty Series will be 'object' instead of 'float64' in a future version. Specify a dtype explicitly to silence this warning.\n",
      "  s = pd.Series(data, index=index, name=name, **kwargs)\n",
      "2022-08-26 10:29:03,160 : INFO : Running on ensemble # 17 for typhoon 10W\n"
     ]
    },
    {
     "name": "stdout",
     "output_type": "stream",
     "text": [
      "2022-08-26 10:29:03,199 - climada.hazard.trop_cyclone - INFO - Mapping 1 tracks to 30046 coastal centroids.\n"
     ]
    },
    {
     "name": "stderr",
     "output_type": "stream",
     "text": [
      "c:\\Users\\ATeklesadik\\Miniconda3\\envs\\geo_env\\lib\\site-packages\\geopandas\\geoseries.py:207: FutureWarning: The default dtype for empty Series will be 'object' instead of 'float64' in a future version. Specify a dtype explicitly to silence this warning.\n",
      "  s = pd.Series(data, index=index, name=name, **kwargs)\n"
     ]
    },
    {
     "name": "stdout",
     "output_type": "stream",
     "text": [
      "2022-08-26 10:29:05,130 - climada.hazard.trop_cyclone - INFO - Progress: 100%\n",
      "2022-08-26 10:29:05,131 - climada.hazard.trop_cyclone - DEBUG - Compute frequency.\n"
     ]
    },
    {
     "name": "stderr",
     "output_type": "stream",
     "text": [
      "c:\\Users\\ATeklesadik\\Miniconda3\\envs\\geo_env\\lib\\site-packages\\geopandas\\geoseries.py:207: FutureWarning: The default dtype for empty Series will be 'object' instead of 'float64' in a future version. Specify a dtype explicitly to silence this warning.\n",
      "  s = pd.Series(data, index=index, name=name, **kwargs)\n",
      "2022-08-26 10:29:16,189 : INFO : Running on ensemble # 18 for typhoon 10W\n"
     ]
    },
    {
     "name": "stdout",
     "output_type": "stream",
     "text": [
      "2022-08-26 10:29:16,222 - climada.hazard.trop_cyclone - INFO - Mapping 1 tracks to 30046 coastal centroids.\n"
     ]
    },
    {
     "name": "stderr",
     "output_type": "stream",
     "text": [
      "c:\\Users\\ATeklesadik\\Miniconda3\\envs\\geo_env\\lib\\site-packages\\geopandas\\geoseries.py:207: FutureWarning: The default dtype for empty Series will be 'object' instead of 'float64' in a future version. Specify a dtype explicitly to silence this warning.\n",
      "  s = pd.Series(data, index=index, name=name, **kwargs)\n"
     ]
    },
    {
     "name": "stdout",
     "output_type": "stream",
     "text": [
      "2022-08-26 10:29:18,324 - climada.hazard.trop_cyclone - INFO - Progress: 100%\n",
      "2022-08-26 10:29:18,325 - climada.hazard.trop_cyclone - DEBUG - Compute frequency.\n"
     ]
    },
    {
     "name": "stderr",
     "output_type": "stream",
     "text": [
      "c:\\Users\\ATeklesadik\\Miniconda3\\envs\\geo_env\\lib\\site-packages\\geopandas\\geoseries.py:207: FutureWarning: The default dtype for empty Series will be 'object' instead of 'float64' in a future version. Specify a dtype explicitly to silence this warning.\n",
      "  s = pd.Series(data, index=index, name=name, **kwargs)\n",
      "2022-08-26 10:29:29,120 : INFO : Running on ensemble # 19 for typhoon 10W\n"
     ]
    },
    {
     "name": "stdout",
     "output_type": "stream",
     "text": [
      "2022-08-26 10:29:29,156 - climada.hazard.trop_cyclone - INFO - Mapping 1 tracks to 29684 coastal centroids.\n"
     ]
    },
    {
     "name": "stderr",
     "output_type": "stream",
     "text": [
      "c:\\Users\\ATeklesadik\\Miniconda3\\envs\\geo_env\\lib\\site-packages\\geopandas\\geoseries.py:207: FutureWarning: The default dtype for empty Series will be 'object' instead of 'float64' in a future version. Specify a dtype explicitly to silence this warning.\n",
      "  s = pd.Series(data, index=index, name=name, **kwargs)\n"
     ]
    },
    {
     "name": "stdout",
     "output_type": "stream",
     "text": [
      "2022-08-26 10:29:31,121 - climada.hazard.trop_cyclone - INFO - Progress: 100%\n",
      "2022-08-26 10:29:31,123 - climada.hazard.trop_cyclone - DEBUG - Compute frequency.\n"
     ]
    },
    {
     "name": "stderr",
     "output_type": "stream",
     "text": [
      "c:\\Users\\ATeklesadik\\Miniconda3\\envs\\geo_env\\lib\\site-packages\\geopandas\\geoseries.py:207: FutureWarning: The default dtype for empty Series will be 'object' instead of 'float64' in a future version. Specify a dtype explicitly to silence this warning.\n",
      "  s = pd.Series(data, index=index, name=name, **kwargs)\n",
      "2022-08-26 10:29:46,251 : INFO : Running on ensemble # 20 for typhoon 10W\n"
     ]
    },
    {
     "name": "stdout",
     "output_type": "stream",
     "text": [
      "2022-08-26 10:29:46,293 - climada.hazard.trop_cyclone - INFO - Mapping 1 tracks to 30046 coastal centroids.\n"
     ]
    },
    {
     "name": "stderr",
     "output_type": "stream",
     "text": [
      "c:\\Users\\ATeklesadik\\Miniconda3\\envs\\geo_env\\lib\\site-packages\\geopandas\\geoseries.py:207: FutureWarning: The default dtype for empty Series will be 'object' instead of 'float64' in a future version. Specify a dtype explicitly to silence this warning.\n",
      "  s = pd.Series(data, index=index, name=name, **kwargs)\n"
     ]
    },
    {
     "name": "stdout",
     "output_type": "stream",
     "text": [
      "2022-08-26 10:29:48,347 - climada.hazard.trop_cyclone - INFO - Progress: 100%\n",
      "2022-08-26 10:29:48,348 - climada.hazard.trop_cyclone - DEBUG - Compute frequency.\n"
     ]
    },
    {
     "name": "stderr",
     "output_type": "stream",
     "text": [
      "c:\\Users\\ATeklesadik\\Miniconda3\\envs\\geo_env\\lib\\site-packages\\geopandas\\geoseries.py:207: FutureWarning: The default dtype for empty Series will be 'object' instead of 'float64' in a future version. Specify a dtype explicitly to silence this warning.\n",
      "  s = pd.Series(data, index=index, name=name, **kwargs)\n",
      "2022-08-26 10:29:58,830 : INFO : Running on ensemble # 21 for typhoon 10W\n"
     ]
    },
    {
     "name": "stdout",
     "output_type": "stream",
     "text": [
      "2022-08-26 10:29:58,864 - climada.hazard.trop_cyclone - INFO - Mapping 1 tracks to 30046 coastal centroids.\n"
     ]
    },
    {
     "name": "stderr",
     "output_type": "stream",
     "text": [
      "c:\\Users\\ATeklesadik\\Miniconda3\\envs\\geo_env\\lib\\site-packages\\geopandas\\geoseries.py:207: FutureWarning: The default dtype for empty Series will be 'object' instead of 'float64' in a future version. Specify a dtype explicitly to silence this warning.\n",
      "  s = pd.Series(data, index=index, name=name, **kwargs)\n",
      "c:\\Users\\ATeklesadik\\Miniconda3\\envs\\geo_env\\lib\\site-packages\\geopandas\\geoseries.py:207: FutureWarning: The default dtype for empty Series will be 'object' instead of 'float64' in a future version. Specify a dtype explicitly to silence this warning.\n",
      "  s = pd.Series(data, index=index, name=name, **kwargs)\n"
     ]
    },
    {
     "name": "stdout",
     "output_type": "stream",
     "text": [
      "2022-08-26 10:30:01,260 - climada.hazard.trop_cyclone - INFO - Progress: 100%\n",
      "2022-08-26 10:30:01,261 - climada.hazard.trop_cyclone - DEBUG - Compute frequency.\n"
     ]
    },
    {
     "name": "stderr",
     "output_type": "stream",
     "text": [
      "2022-08-26 10:30:13,478 : INFO : Running on ensemble # 22 for typhoon 10W\n"
     ]
    },
    {
     "name": "stdout",
     "output_type": "stream",
     "text": [
      "2022-08-26 10:30:13,521 - climada.hazard.trop_cyclone - INFO - Mapping 1 tracks to 30046 coastal centroids.\n"
     ]
    },
    {
     "name": "stderr",
     "output_type": "stream",
     "text": [
      "c:\\Users\\ATeklesadik\\Miniconda3\\envs\\geo_env\\lib\\site-packages\\geopandas\\geoseries.py:207: FutureWarning: The default dtype for empty Series will be 'object' instead of 'float64' in a future version. Specify a dtype explicitly to silence this warning.\n",
      "  s = pd.Series(data, index=index, name=name, **kwargs)\n"
     ]
    },
    {
     "name": "stdout",
     "output_type": "stream",
     "text": [
      "2022-08-26 10:30:15,717 - climada.hazard.trop_cyclone - INFO - Progress: 100%\n"
     ]
    },
    {
     "name": "stderr",
     "output_type": "stream",
     "text": [
      "c:\\Users\\ATeklesadik\\Miniconda3\\envs\\geo_env\\lib\\site-packages\\geopandas\\geoseries.py:207: FutureWarning: The default dtype for empty Series will be 'object' instead of 'float64' in a future version. Specify a dtype explicitly to silence this warning.\n",
      "  s = pd.Series(data, index=index, name=name, **kwargs)\n"
     ]
    },
    {
     "name": "stdout",
     "output_type": "stream",
     "text": [
      "2022-08-26 10:30:15,718 - climada.hazard.trop_cyclone - DEBUG - Compute frequency.\n"
     ]
    },
    {
     "name": "stderr",
     "output_type": "stream",
     "text": [
      "2022-08-26 10:30:27,668 : INFO : Running on ensemble # 23 for typhoon 10W\n"
     ]
    },
    {
     "name": "stdout",
     "output_type": "stream",
     "text": [
      "2022-08-26 10:30:27,701 - climada.hazard.trop_cyclone - INFO - Mapping 1 tracks to 29684 coastal centroids.\n"
     ]
    },
    {
     "name": "stderr",
     "output_type": "stream",
     "text": [
      "c:\\Users\\ATeklesadik\\Miniconda3\\envs\\geo_env\\lib\\site-packages\\geopandas\\geoseries.py:207: FutureWarning: The default dtype for empty Series will be 'object' instead of 'float64' in a future version. Specify a dtype explicitly to silence this warning.\n",
      "  s = pd.Series(data, index=index, name=name, **kwargs)\n"
     ]
    },
    {
     "name": "stdout",
     "output_type": "stream",
     "text": [
      "2022-08-26 10:30:29,604 - climada.hazard.trop_cyclone - INFO - Progress: 100%\n",
      "2022-08-26 10:30:29,605 - climada.hazard.trop_cyclone - DEBUG - Compute frequency.\n"
     ]
    },
    {
     "name": "stderr",
     "output_type": "stream",
     "text": [
      "c:\\Users\\ATeklesadik\\Miniconda3\\envs\\geo_env\\lib\\site-packages\\geopandas\\geoseries.py:207: FutureWarning: The default dtype for empty Series will be 'object' instead of 'float64' in a future version. Specify a dtype explicitly to silence this warning.\n",
      "  s = pd.Series(data, index=index, name=name, **kwargs)\n",
      "2022-08-26 10:30:40,234 : INFO : Running on ensemble # 24 for typhoon 10W\n"
     ]
    },
    {
     "name": "stdout",
     "output_type": "stream",
     "text": [
      "2022-08-26 10:30:40,270 - climada.hazard.trop_cyclone - INFO - Mapping 1 tracks to 30770 coastal centroids.\n"
     ]
    },
    {
     "name": "stderr",
     "output_type": "stream",
     "text": [
      "c:\\Users\\ATeklesadik\\Miniconda3\\envs\\geo_env\\lib\\site-packages\\geopandas\\geoseries.py:207: FutureWarning: The default dtype for empty Series will be 'object' instead of 'float64' in a future version. Specify a dtype explicitly to silence this warning.\n",
      "  s = pd.Series(data, index=index, name=name, **kwargs)\n"
     ]
    },
    {
     "name": "stdout",
     "output_type": "stream",
     "text": [
      "2022-08-26 10:30:42,421 - climada.hazard.trop_cyclone - INFO - Progress: 100%\n",
      "2022-08-26 10:30:42,422 - climada.hazard.trop_cyclone - DEBUG - Compute frequency.\n"
     ]
    },
    {
     "name": "stderr",
     "output_type": "stream",
     "text": [
      "c:\\Users\\ATeklesadik\\Miniconda3\\envs\\geo_env\\lib\\site-packages\\geopandas\\geoseries.py:207: FutureWarning: The default dtype for empty Series will be 'object' instead of 'float64' in a future version. Specify a dtype explicitly to silence this warning.\n",
      "  s = pd.Series(data, index=index, name=name, **kwargs)\n",
      "2022-08-26 10:30:53,349 : INFO : Running on ensemble # 25 for typhoon 10W\n"
     ]
    },
    {
     "name": "stdout",
     "output_type": "stream",
     "text": [
      "2022-08-26 10:30:53,383 - climada.hazard.trop_cyclone - INFO - Mapping 1 tracks to 31132 coastal centroids.\n"
     ]
    },
    {
     "name": "stderr",
     "output_type": "stream",
     "text": [
      "c:\\Users\\ATeklesadik\\Miniconda3\\envs\\geo_env\\lib\\site-packages\\geopandas\\geoseries.py:207: FutureWarning: The default dtype for empty Series will be 'object' instead of 'float64' in a future version. Specify a dtype explicitly to silence this warning.\n",
      "  s = pd.Series(data, index=index, name=name, **kwargs)\n"
     ]
    },
    {
     "name": "stdout",
     "output_type": "stream",
     "text": [
      "2022-08-26 10:30:55,342 - climada.hazard.trop_cyclone - INFO - Progress: 100%\n",
      "2022-08-26 10:30:55,343 - climada.hazard.trop_cyclone - DEBUG - Compute frequency.\n"
     ]
    },
    {
     "name": "stderr",
     "output_type": "stream",
     "text": [
      "c:\\Users\\ATeklesadik\\Miniconda3\\envs\\geo_env\\lib\\site-packages\\geopandas\\geoseries.py:207: FutureWarning: The default dtype for empty Series will be 'object' instead of 'float64' in a future version. Specify a dtype explicitly to silence this warning.\n",
      "  s = pd.Series(data, index=index, name=name, **kwargs)\n",
      "2022-08-26 10:31:05,951 : INFO : Running on ensemble # 26 for typhoon 10W\n"
     ]
    },
    {
     "name": "stdout",
     "output_type": "stream",
     "text": [
      "2022-08-26 10:31:05,990 - climada.hazard.trop_cyclone - INFO - Mapping 1 tracks to 30770 coastal centroids.\n"
     ]
    },
    {
     "name": "stderr",
     "output_type": "stream",
     "text": [
      "c:\\Users\\ATeklesadik\\Miniconda3\\envs\\geo_env\\lib\\site-packages\\geopandas\\geoseries.py:207: FutureWarning: The default dtype for empty Series will be 'object' instead of 'float64' in a future version. Specify a dtype explicitly to silence this warning.\n",
      "  s = pd.Series(data, index=index, name=name, **kwargs)\n"
     ]
    },
    {
     "name": "stdout",
     "output_type": "stream",
     "text": [
      "2022-08-26 10:31:08,007 - climada.hazard.trop_cyclone - INFO - Progress: 100%\n",
      "2022-08-26 10:31:08,008 - climada.hazard.trop_cyclone - DEBUG - Compute frequency.\n"
     ]
    },
    {
     "name": "stderr",
     "output_type": "stream",
     "text": [
      "c:\\Users\\ATeklesadik\\Miniconda3\\envs\\geo_env\\lib\\site-packages\\geopandas\\geoseries.py:207: FutureWarning: The default dtype for empty Series will be 'object' instead of 'float64' in a future version. Specify a dtype explicitly to silence this warning.\n",
      "  s = pd.Series(data, index=index, name=name, **kwargs)\n",
      "2022-08-26 10:31:18,711 : INFO : Running on ensemble # 27 for typhoon 10W\n"
     ]
    },
    {
     "name": "stdout",
     "output_type": "stream",
     "text": [
      "2022-08-26 10:31:18,744 - climada.hazard.trop_cyclone - INFO - Mapping 1 tracks to 31132 coastal centroids.\n"
     ]
    },
    {
     "name": "stderr",
     "output_type": "stream",
     "text": [
      "c:\\Users\\ATeklesadik\\Miniconda3\\envs\\geo_env\\lib\\site-packages\\geopandas\\geoseries.py:207: FutureWarning: The default dtype for empty Series will be 'object' instead of 'float64' in a future version. Specify a dtype explicitly to silence this warning.\n",
      "  s = pd.Series(data, index=index, name=name, **kwargs)\n"
     ]
    },
    {
     "name": "stdout",
     "output_type": "stream",
     "text": [
      "2022-08-26 10:31:20,701 - climada.hazard.trop_cyclone - INFO - Progress: 100%\n",
      "2022-08-26 10:31:20,701 - climada.hazard.trop_cyclone - DEBUG - Compute frequency.\n"
     ]
    },
    {
     "name": "stderr",
     "output_type": "stream",
     "text": [
      "c:\\Users\\ATeklesadik\\Miniconda3\\envs\\geo_env\\lib\\site-packages\\geopandas\\geoseries.py:207: FutureWarning: The default dtype for empty Series will be 'object' instead of 'float64' in a future version. Specify a dtype explicitly to silence this warning.\n",
      "  s = pd.Series(data, index=index, name=name, **kwargs)\n",
      "2022-08-26 10:31:31,158 : INFO : Running on ensemble # 28 for typhoon 10W\n"
     ]
    },
    {
     "name": "stdout",
     "output_type": "stream",
     "text": [
      "2022-08-26 10:31:31,188 - climada.hazard.trop_cyclone - INFO - Mapping 1 tracks to 31132 coastal centroids.\n"
     ]
    },
    {
     "name": "stderr",
     "output_type": "stream",
     "text": [
      "c:\\Users\\ATeklesadik\\Miniconda3\\envs\\geo_env\\lib\\site-packages\\geopandas\\geoseries.py:207: FutureWarning: The default dtype for empty Series will be 'object' instead of 'float64' in a future version. Specify a dtype explicitly to silence this warning.\n",
      "  s = pd.Series(data, index=index, name=name, **kwargs)\n"
     ]
    },
    {
     "name": "stdout",
     "output_type": "stream",
     "text": [
      "2022-08-26 10:31:33,177 - climada.hazard.trop_cyclone - INFO - Progress: 100%\n",
      "2022-08-26 10:31:33,179 - climada.hazard.trop_cyclone - DEBUG - Compute frequency.\n"
     ]
    },
    {
     "name": "stderr",
     "output_type": "stream",
     "text": [
      "c:\\Users\\ATeklesadik\\Miniconda3\\envs\\geo_env\\lib\\site-packages\\geopandas\\geoseries.py:207: FutureWarning: The default dtype for empty Series will be 'object' instead of 'float64' in a future version. Specify a dtype explicitly to silence this warning.\n",
      "  s = pd.Series(data, index=index, name=name, **kwargs)\n",
      "2022-08-26 10:31:43,796 : INFO : Running on ensemble # 29 for typhoon 10W\n"
     ]
    },
    {
     "name": "stdout",
     "output_type": "stream",
     "text": [
      "2022-08-26 10:31:43,828 - climada.hazard.trop_cyclone - INFO - Mapping 1 tracks to 30046 coastal centroids.\n"
     ]
    },
    {
     "name": "stderr",
     "output_type": "stream",
     "text": [
      "c:\\Users\\ATeklesadik\\Miniconda3\\envs\\geo_env\\lib\\site-packages\\geopandas\\geoseries.py:207: FutureWarning: The default dtype for empty Series will be 'object' instead of 'float64' in a future version. Specify a dtype explicitly to silence this warning.\n",
      "  s = pd.Series(data, index=index, name=name, **kwargs)\n"
     ]
    },
    {
     "name": "stdout",
     "output_type": "stream",
     "text": [
      "2022-08-26 10:31:45,701 - climada.hazard.trop_cyclone - INFO - Progress: 100%\n",
      "2022-08-26 10:31:45,702 - climada.hazard.trop_cyclone - DEBUG - Compute frequency.\n"
     ]
    },
    {
     "name": "stderr",
     "output_type": "stream",
     "text": [
      "c:\\Users\\ATeklesadik\\Miniconda3\\envs\\geo_env\\lib\\site-packages\\geopandas\\geoseries.py:207: FutureWarning: The default dtype for empty Series will be 'object' instead of 'float64' in a future version. Specify a dtype explicitly to silence this warning.\n",
      "  s = pd.Series(data, index=index, name=name, **kwargs)\n",
      "2022-08-26 10:31:55,789 : INFO : Running on ensemble # 30 for typhoon 10W\n"
     ]
    },
    {
     "name": "stdout",
     "output_type": "stream",
     "text": [
      "2022-08-26 10:31:55,821 - climada.hazard.trop_cyclone - INFO - Mapping 1 tracks to 30770 coastal centroids.\n"
     ]
    },
    {
     "name": "stderr",
     "output_type": "stream",
     "text": [
      "c:\\Users\\ATeklesadik\\Miniconda3\\envs\\geo_env\\lib\\site-packages\\geopandas\\geoseries.py:207: FutureWarning: The default dtype for empty Series will be 'object' instead of 'float64' in a future version. Specify a dtype explicitly to silence this warning.\n",
      "  s = pd.Series(data, index=index, name=name, **kwargs)\n"
     ]
    },
    {
     "name": "stdout",
     "output_type": "stream",
     "text": [
      "2022-08-26 10:31:57,752 - climada.hazard.trop_cyclone - INFO - Progress: 100%\n",
      "2022-08-26 10:31:57,753 - climada.hazard.trop_cyclone - DEBUG - Compute frequency.\n"
     ]
    },
    {
     "name": "stderr",
     "output_type": "stream",
     "text": [
      "c:\\Users\\ATeklesadik\\Miniconda3\\envs\\geo_env\\lib\\site-packages\\geopandas\\geoseries.py:207: FutureWarning: The default dtype for empty Series will be 'object' instead of 'float64' in a future version. Specify a dtype explicitly to silence this warning.\n",
      "  s = pd.Series(data, index=index, name=name, **kwargs)\n",
      "2022-08-26 10:32:08,165 : INFO : Running on ensemble # 31 for typhoon 10W\n"
     ]
    },
    {
     "name": "stdout",
     "output_type": "stream",
     "text": [
      "2022-08-26 10:32:08,198 - climada.hazard.trop_cyclone - INFO - Mapping 1 tracks to 30770 coastal centroids.\n"
     ]
    },
    {
     "name": "stderr",
     "output_type": "stream",
     "text": [
      "c:\\Users\\ATeklesadik\\Miniconda3\\envs\\geo_env\\lib\\site-packages\\geopandas\\geoseries.py:207: FutureWarning: The default dtype for empty Series will be 'object' instead of 'float64' in a future version. Specify a dtype explicitly to silence this warning.\n",
      "  s = pd.Series(data, index=index, name=name, **kwargs)\n"
     ]
    },
    {
     "name": "stdout",
     "output_type": "stream",
     "text": [
      "2022-08-26 10:32:10,220 - climada.hazard.trop_cyclone - INFO - Progress: 100%\n"
     ]
    },
    {
     "name": "stderr",
     "output_type": "stream",
     "text": [
      "c:\\Users\\ATeklesadik\\Miniconda3\\envs\\geo_env\\lib\\site-packages\\geopandas\\geoseries.py:207: FutureWarning: The default dtype for empty Series will be 'object' instead of 'float64' in a future version. Specify a dtype explicitly to silence this warning.\n",
      "  s = pd.Series(data, index=index, name=name, **kwargs)\n"
     ]
    },
    {
     "name": "stdout",
     "output_type": "stream",
     "text": [
      "2022-08-26 10:32:10,221 - climada.hazard.trop_cyclone - DEBUG - Compute frequency.\n"
     ]
    },
    {
     "name": "stderr",
     "output_type": "stream",
     "text": [
      "2022-08-26 10:32:20,858 : INFO : Running on ensemble # 32 for typhoon 10W\n"
     ]
    },
    {
     "name": "stdout",
     "output_type": "stream",
     "text": [
      "2022-08-26 10:32:20,893 - climada.hazard.trop_cyclone - INFO - Mapping 1 tracks to 30046 coastal centroids.\n"
     ]
    },
    {
     "name": "stderr",
     "output_type": "stream",
     "text": [
      "c:\\Users\\ATeklesadik\\Miniconda3\\envs\\geo_env\\lib\\site-packages\\geopandas\\geoseries.py:207: FutureWarning: The default dtype for empty Series will be 'object' instead of 'float64' in a future version. Specify a dtype explicitly to silence this warning.\n",
      "  s = pd.Series(data, index=index, name=name, **kwargs)\n"
     ]
    },
    {
     "name": "stdout",
     "output_type": "stream",
     "text": [
      "2022-08-26 10:32:22,952 - climada.hazard.trop_cyclone - INFO - Progress: 100%\n",
      "2022-08-26 10:32:22,953 - climada.hazard.trop_cyclone - DEBUG - Compute frequency.\n"
     ]
    },
    {
     "name": "stderr",
     "output_type": "stream",
     "text": [
      "c:\\Users\\ATeklesadik\\Miniconda3\\envs\\geo_env\\lib\\site-packages\\geopandas\\geoseries.py:207: FutureWarning: The default dtype for empty Series will be 'object' instead of 'float64' in a future version. Specify a dtype explicitly to silence this warning.\n",
      "  s = pd.Series(data, index=index, name=name, **kwargs)\n",
      "2022-08-26 10:32:34,017 : INFO : Running on ensemble # 33 for typhoon 10W\n"
     ]
    },
    {
     "name": "stdout",
     "output_type": "stream",
     "text": [
      "2022-08-26 10:32:34,050 - climada.hazard.trop_cyclone - INFO - Mapping 1 tracks to 29684 coastal centroids.\n"
     ]
    },
    {
     "name": "stderr",
     "output_type": "stream",
     "text": [
      "c:\\Users\\ATeklesadik\\Miniconda3\\envs\\geo_env\\lib\\site-packages\\geopandas\\geoseries.py:207: FutureWarning: The default dtype for empty Series will be 'object' instead of 'float64' in a future version. Specify a dtype explicitly to silence this warning.\n",
      "  s = pd.Series(data, index=index, name=name, **kwargs)\n"
     ]
    },
    {
     "name": "stdout",
     "output_type": "stream",
     "text": [
      "2022-08-26 10:32:35,929 - climada.hazard.trop_cyclone - INFO - Progress: 100%\n",
      "2022-08-26 10:32:35,930 - climada.hazard.trop_cyclone - DEBUG - Compute frequency.\n"
     ]
    },
    {
     "name": "stderr",
     "output_type": "stream",
     "text": [
      "c:\\Users\\ATeklesadik\\Miniconda3\\envs\\geo_env\\lib\\site-packages\\geopandas\\geoseries.py:207: FutureWarning: The default dtype for empty Series will be 'object' instead of 'float64' in a future version. Specify a dtype explicitly to silence this warning.\n",
      "  s = pd.Series(data, index=index, name=name, **kwargs)\n",
      "2022-08-26 10:32:46,150 : INFO : Running on ensemble # 34 for typhoon 10W\n"
     ]
    },
    {
     "name": "stdout",
     "output_type": "stream",
     "text": [
      "2022-08-26 10:32:46,183 - climada.hazard.trop_cyclone - INFO - Mapping 1 tracks to 30770 coastal centroids.\n"
     ]
    },
    {
     "name": "stderr",
     "output_type": "stream",
     "text": [
      "c:\\Users\\ATeklesadik\\Miniconda3\\envs\\geo_env\\lib\\site-packages\\geopandas\\geoseries.py:207: FutureWarning: The default dtype for empty Series will be 'object' instead of 'float64' in a future version. Specify a dtype explicitly to silence this warning.\n",
      "  s = pd.Series(data, index=index, name=name, **kwargs)\n"
     ]
    },
    {
     "name": "stdout",
     "output_type": "stream",
     "text": [
      "2022-08-26 10:32:48,153 - climada.hazard.trop_cyclone - INFO - Progress: 100%\n",
      "2022-08-26 10:32:48,153 - climada.hazard.trop_cyclone - DEBUG - Compute frequency.\n"
     ]
    },
    {
     "name": "stderr",
     "output_type": "stream",
     "text": [
      "c:\\Users\\ATeklesadik\\Miniconda3\\envs\\geo_env\\lib\\site-packages\\geopandas\\geoseries.py:207: FutureWarning: The default dtype for empty Series will be 'object' instead of 'float64' in a future version. Specify a dtype explicitly to silence this warning.\n",
      "  s = pd.Series(data, index=index, name=name, **kwargs)\n",
      "2022-08-26 10:32:58,723 : INFO : Running on ensemble # 35 for typhoon 10W\n"
     ]
    },
    {
     "name": "stdout",
     "output_type": "stream",
     "text": [
      "2022-08-26 10:32:58,756 - climada.hazard.trop_cyclone - INFO - Mapping 1 tracks to 30046 coastal centroids.\n"
     ]
    },
    {
     "name": "stderr",
     "output_type": "stream",
     "text": [
      "c:\\Users\\ATeklesadik\\Miniconda3\\envs\\geo_env\\lib\\site-packages\\geopandas\\geoseries.py:207: FutureWarning: The default dtype for empty Series will be 'object' instead of 'float64' in a future version. Specify a dtype explicitly to silence this warning.\n",
      "  s = pd.Series(data, index=index, name=name, **kwargs)\n"
     ]
    },
    {
     "name": "stdout",
     "output_type": "stream",
     "text": [
      "2022-08-26 10:33:00,591 - climada.hazard.trop_cyclone - INFO - Progress: 100%\n",
      "2022-08-26 10:33:00,592 - climada.hazard.trop_cyclone - DEBUG - Compute frequency.\n"
     ]
    },
    {
     "name": "stderr",
     "output_type": "stream",
     "text": [
      "c:\\Users\\ATeklesadik\\Miniconda3\\envs\\geo_env\\lib\\site-packages\\geopandas\\geoseries.py:207: FutureWarning: The default dtype for empty Series will be 'object' instead of 'float64' in a future version. Specify a dtype explicitly to silence this warning.\n",
      "  s = pd.Series(data, index=index, name=name, **kwargs)\n",
      "2022-08-26 10:33:10,693 : INFO : Running on ensemble # 36 for typhoon 10W\n"
     ]
    },
    {
     "name": "stdout",
     "output_type": "stream",
     "text": [
      "2022-08-26 10:33:10,722 - climada.hazard.trop_cyclone - INFO - Mapping 1 tracks to 29684 coastal centroids.\n"
     ]
    },
    {
     "name": "stderr",
     "output_type": "stream",
     "text": [
      "c:\\Users\\ATeklesadik\\Miniconda3\\envs\\geo_env\\lib\\site-packages\\geopandas\\geoseries.py:207: FutureWarning: The default dtype for empty Series will be 'object' instead of 'float64' in a future version. Specify a dtype explicitly to silence this warning.\n",
      "  s = pd.Series(data, index=index, name=name, **kwargs)\n"
     ]
    },
    {
     "name": "stdout",
     "output_type": "stream",
     "text": [
      "2022-08-26 10:33:12,546 - climada.hazard.trop_cyclone - INFO - Progress: 100%\n",
      "2022-08-26 10:33:12,547 - climada.hazard.trop_cyclone - DEBUG - Compute frequency.\n"
     ]
    },
    {
     "name": "stderr",
     "output_type": "stream",
     "text": [
      "c:\\Users\\ATeklesadik\\Miniconda3\\envs\\geo_env\\lib\\site-packages\\geopandas\\geoseries.py:207: FutureWarning: The default dtype for empty Series will be 'object' instead of 'float64' in a future version. Specify a dtype explicitly to silence this warning.\n",
      "  s = pd.Series(data, index=index, name=name, **kwargs)\n",
      "2022-08-26 10:33:22,842 : INFO : Running on ensemble # 37 for typhoon 10W\n"
     ]
    },
    {
     "name": "stdout",
     "output_type": "stream",
     "text": [
      "2022-08-26 10:33:22,875 - climada.hazard.trop_cyclone - INFO - Mapping 1 tracks to 30770 coastal centroids.\n"
     ]
    },
    {
     "name": "stderr",
     "output_type": "stream",
     "text": [
      "c:\\Users\\ATeklesadik\\Miniconda3\\envs\\geo_env\\lib\\site-packages\\geopandas\\geoseries.py:207: FutureWarning: The default dtype for empty Series will be 'object' instead of 'float64' in a future version. Specify a dtype explicitly to silence this warning.\n",
      "  s = pd.Series(data, index=index, name=name, **kwargs)\n"
     ]
    },
    {
     "name": "stdout",
     "output_type": "stream",
     "text": [
      "2022-08-26 10:33:24,963 - climada.hazard.trop_cyclone - INFO - Progress: 100%\n",
      "2022-08-26 10:33:24,963 - climada.hazard.trop_cyclone - DEBUG - Compute frequency.\n"
     ]
    },
    {
     "name": "stderr",
     "output_type": "stream",
     "text": [
      "c:\\Users\\ATeklesadik\\Miniconda3\\envs\\geo_env\\lib\\site-packages\\geopandas\\geoseries.py:207: FutureWarning: The default dtype for empty Series will be 'object' instead of 'float64' in a future version. Specify a dtype explicitly to silence this warning.\n",
      "  s = pd.Series(data, index=index, name=name, **kwargs)\n",
      "2022-08-26 10:33:35,907 : INFO : Running on ensemble # 38 for typhoon 10W\n"
     ]
    },
    {
     "name": "stdout",
     "output_type": "stream",
     "text": [
      "2022-08-26 10:33:35,942 - climada.hazard.trop_cyclone - INFO - Mapping 1 tracks to 30046 coastal centroids.\n"
     ]
    },
    {
     "name": "stderr",
     "output_type": "stream",
     "text": [
      "c:\\Users\\ATeklesadik\\Miniconda3\\envs\\geo_env\\lib\\site-packages\\geopandas\\geoseries.py:207: FutureWarning: The default dtype for empty Series will be 'object' instead of 'float64' in a future version. Specify a dtype explicitly to silence this warning.\n",
      "  s = pd.Series(data, index=index, name=name, **kwargs)\n"
     ]
    },
    {
     "name": "stdout",
     "output_type": "stream",
     "text": [
      "2022-08-26 10:33:37,919 - climada.hazard.trop_cyclone - INFO - Progress: 100%\n",
      "2022-08-26 10:33:37,920 - climada.hazard.trop_cyclone - DEBUG - Compute frequency.\n"
     ]
    },
    {
     "name": "stderr",
     "output_type": "stream",
     "text": [
      "c:\\Users\\ATeklesadik\\Miniconda3\\envs\\geo_env\\lib\\site-packages\\geopandas\\geoseries.py:207: FutureWarning: The default dtype for empty Series will be 'object' instead of 'float64' in a future version. Specify a dtype explicitly to silence this warning.\n",
      "  s = pd.Series(data, index=index, name=name, **kwargs)\n",
      "2022-08-26 10:33:48,375 : INFO : Running on ensemble # 39 for typhoon 10W\n"
     ]
    },
    {
     "name": "stdout",
     "output_type": "stream",
     "text": [
      "2022-08-26 10:33:48,409 - climada.hazard.trop_cyclone - INFO - Mapping 1 tracks to 30046 coastal centroids.\n"
     ]
    },
    {
     "name": "stderr",
     "output_type": "stream",
     "text": [
      "c:\\Users\\ATeklesadik\\Miniconda3\\envs\\geo_env\\lib\\site-packages\\geopandas\\geoseries.py:207: FutureWarning: The default dtype for empty Series will be 'object' instead of 'float64' in a future version. Specify a dtype explicitly to silence this warning.\n",
      "  s = pd.Series(data, index=index, name=name, **kwargs)\n"
     ]
    },
    {
     "name": "stdout",
     "output_type": "stream",
     "text": [
      "2022-08-26 10:33:50,284 - climada.hazard.trop_cyclone - INFO - Progress: 100%\n",
      "2022-08-26 10:33:50,285 - climada.hazard.trop_cyclone - DEBUG - Compute frequency.\n"
     ]
    },
    {
     "name": "stderr",
     "output_type": "stream",
     "text": [
      "c:\\Users\\ATeklesadik\\Miniconda3\\envs\\geo_env\\lib\\site-packages\\geopandas\\geoseries.py:207: FutureWarning: The default dtype for empty Series will be 'object' instead of 'float64' in a future version. Specify a dtype explicitly to silence this warning.\n",
      "  s = pd.Series(data, index=index, name=name, **kwargs)\n",
      "2022-08-26 10:34:00,564 : INFO : Running on ensemble # 40 for typhoon 10W\n"
     ]
    },
    {
     "name": "stdout",
     "output_type": "stream",
     "text": [
      "2022-08-26 10:34:00,598 - climada.hazard.trop_cyclone - INFO - Mapping 1 tracks to 30770 coastal centroids.\n"
     ]
    },
    {
     "name": "stderr",
     "output_type": "stream",
     "text": [
      "c:\\Users\\ATeklesadik\\Miniconda3\\envs\\geo_env\\lib\\site-packages\\geopandas\\geoseries.py:207: FutureWarning: The default dtype for empty Series will be 'object' instead of 'float64' in a future version. Specify a dtype explicitly to silence this warning.\n",
      "  s = pd.Series(data, index=index, name=name, **kwargs)\n"
     ]
    },
    {
     "name": "stdout",
     "output_type": "stream",
     "text": [
      "2022-08-26 10:34:02,616 - climada.hazard.trop_cyclone - INFO - Progress: 100%\n",
      "2022-08-26 10:34:02,617 - climada.hazard.trop_cyclone - DEBUG - Compute frequency.\n"
     ]
    },
    {
     "name": "stderr",
     "output_type": "stream",
     "text": [
      "c:\\Users\\ATeklesadik\\Miniconda3\\envs\\geo_env\\lib\\site-packages\\geopandas\\geoseries.py:207: FutureWarning: The default dtype for empty Series will be 'object' instead of 'float64' in a future version. Specify a dtype explicitly to silence this warning.\n",
      "  s = pd.Series(data, index=index, name=name, **kwargs)\n",
      "2022-08-26 10:34:13,124 : INFO : Running on ensemble # 41 for typhoon 10W\n"
     ]
    },
    {
     "name": "stdout",
     "output_type": "stream",
     "text": [
      "2022-08-26 10:34:13,165 - climada.hazard.trop_cyclone - INFO - Mapping 1 tracks to 30046 coastal centroids.\n"
     ]
    },
    {
     "name": "stderr",
     "output_type": "stream",
     "text": [
      "c:\\Users\\ATeklesadik\\Miniconda3\\envs\\geo_env\\lib\\site-packages\\geopandas\\geoseries.py:207: FutureWarning: The default dtype for empty Series will be 'object' instead of 'float64' in a future version. Specify a dtype explicitly to silence this warning.\n",
      "  s = pd.Series(data, index=index, name=name, **kwargs)\n"
     ]
    },
    {
     "name": "stdout",
     "output_type": "stream",
     "text": [
      "2022-08-26 10:34:15,227 - climada.hazard.trop_cyclone - INFO - Progress: 100%\n"
     ]
    },
    {
     "name": "stderr",
     "output_type": "stream",
     "text": [
      "c:\\Users\\ATeklesadik\\Miniconda3\\envs\\geo_env\\lib\\site-packages\\geopandas\\geoseries.py:207: FutureWarning: The default dtype for empty Series will be 'object' instead of 'float64' in a future version. Specify a dtype explicitly to silence this warning.\n",
      "  s = pd.Series(data, index=index, name=name, **kwargs)\n"
     ]
    },
    {
     "name": "stdout",
     "output_type": "stream",
     "text": [
      "2022-08-26 10:34:15,228 - climada.hazard.trop_cyclone - DEBUG - Compute frequency.\n"
     ]
    },
    {
     "name": "stderr",
     "output_type": "stream",
     "text": [
      "2022-08-26 10:34:26,324 : INFO : Running on ensemble # 42 for typhoon 10W\n"
     ]
    },
    {
     "name": "stdout",
     "output_type": "stream",
     "text": [
      "2022-08-26 10:34:26,355 - climada.hazard.trop_cyclone - INFO - Mapping 1 tracks to 30770 coastal centroids.\n"
     ]
    },
    {
     "name": "stderr",
     "output_type": "stream",
     "text": [
      "c:\\Users\\ATeklesadik\\Miniconda3\\envs\\geo_env\\lib\\site-packages\\geopandas\\geoseries.py:207: FutureWarning: The default dtype for empty Series will be 'object' instead of 'float64' in a future version. Specify a dtype explicitly to silence this warning.\n",
      "  s = pd.Series(data, index=index, name=name, **kwargs)\n"
     ]
    },
    {
     "name": "stdout",
     "output_type": "stream",
     "text": [
      "2022-08-26 10:34:28,321 - climada.hazard.trop_cyclone - INFO - Progress: 100%\n",
      "2022-08-26 10:34:28,321 - climada.hazard.trop_cyclone - DEBUG - Compute frequency.\n"
     ]
    },
    {
     "name": "stderr",
     "output_type": "stream",
     "text": [
      "c:\\Users\\ATeklesadik\\Miniconda3\\envs\\geo_env\\lib\\site-packages\\geopandas\\geoseries.py:207: FutureWarning: The default dtype for empty Series will be 'object' instead of 'float64' in a future version. Specify a dtype explicitly to silence this warning.\n",
      "  s = pd.Series(data, index=index, name=name, **kwargs)\n",
      "2022-08-26 10:34:38,812 : INFO : Running on ensemble # 43 for typhoon 10W\n"
     ]
    },
    {
     "name": "stdout",
     "output_type": "stream",
     "text": [
      "2022-08-26 10:34:38,846 - climada.hazard.trop_cyclone - INFO - Mapping 1 tracks to 30046 coastal centroids.\n"
     ]
    },
    {
     "name": "stderr",
     "output_type": "stream",
     "text": [
      "c:\\Users\\ATeklesadik\\Miniconda3\\envs\\geo_env\\lib\\site-packages\\geopandas\\geoseries.py:207: FutureWarning: The default dtype for empty Series will be 'object' instead of 'float64' in a future version. Specify a dtype explicitly to silence this warning.\n",
      "  s = pd.Series(data, index=index, name=name, **kwargs)\n"
     ]
    },
    {
     "name": "stdout",
     "output_type": "stream",
     "text": [
      "2022-08-26 10:34:40,743 - climada.hazard.trop_cyclone - INFO - Progress: 100%\n",
      "2022-08-26 10:34:40,743 - climada.hazard.trop_cyclone - DEBUG - Compute frequency.\n"
     ]
    },
    {
     "name": "stderr",
     "output_type": "stream",
     "text": [
      "c:\\Users\\ATeklesadik\\Miniconda3\\envs\\geo_env\\lib\\site-packages\\geopandas\\geoseries.py:207: FutureWarning: The default dtype for empty Series will be 'object' instead of 'float64' in a future version. Specify a dtype explicitly to silence this warning.\n",
      "  s = pd.Series(data, index=index, name=name, **kwargs)\n",
      "2022-08-26 10:34:51,163 : INFO : Running on ensemble # 44 for typhoon 10W\n"
     ]
    },
    {
     "name": "stdout",
     "output_type": "stream",
     "text": [
      "2022-08-26 10:34:51,194 - climada.hazard.trop_cyclone - INFO - Mapping 1 tracks to 30046 coastal centroids.\n"
     ]
    },
    {
     "name": "stderr",
     "output_type": "stream",
     "text": [
      "c:\\Users\\ATeklesadik\\Miniconda3\\envs\\geo_env\\lib\\site-packages\\geopandas\\geoseries.py:207: FutureWarning: The default dtype for empty Series will be 'object' instead of 'float64' in a future version. Specify a dtype explicitly to silence this warning.\n",
      "  s = pd.Series(data, index=index, name=name, **kwargs)\n"
     ]
    },
    {
     "name": "stdout",
     "output_type": "stream",
     "text": [
      "2022-08-26 10:34:53,192 - climada.hazard.trop_cyclone - INFO - Progress: 100%\n",
      "2022-08-26 10:34:53,193 - climada.hazard.trop_cyclone - DEBUG - Compute frequency.\n"
     ]
    },
    {
     "name": "stderr",
     "output_type": "stream",
     "text": [
      "c:\\Users\\ATeklesadik\\Miniconda3\\envs\\geo_env\\lib\\site-packages\\geopandas\\geoseries.py:207: FutureWarning: The default dtype for empty Series will be 'object' instead of 'float64' in a future version. Specify a dtype explicitly to silence this warning.\n",
      "  s = pd.Series(data, index=index, name=name, **kwargs)\n",
      "2022-08-26 10:35:04,105 : INFO : Running on ensemble # 45 for typhoon 10W\n"
     ]
    },
    {
     "name": "stdout",
     "output_type": "stream",
     "text": [
      "2022-08-26 10:35:04,142 - climada.hazard.trop_cyclone - INFO - Mapping 1 tracks to 29684 coastal centroids.\n"
     ]
    },
    {
     "name": "stderr",
     "output_type": "stream",
     "text": [
      "c:\\Users\\ATeklesadik\\Miniconda3\\envs\\geo_env\\lib\\site-packages\\geopandas\\geoseries.py:207: FutureWarning: The default dtype for empty Series will be 'object' instead of 'float64' in a future version. Specify a dtype explicitly to silence this warning.\n",
      "  s = pd.Series(data, index=index, name=name, **kwargs)\n"
     ]
    },
    {
     "name": "stdout",
     "output_type": "stream",
     "text": [
      "2022-08-26 10:35:06,220 - climada.hazard.trop_cyclone - INFO - Progress: 100%\n"
     ]
    },
    {
     "name": "stderr",
     "output_type": "stream",
     "text": [
      "c:\\Users\\ATeklesadik\\Miniconda3\\envs\\geo_env\\lib\\site-packages\\geopandas\\geoseries.py:207: FutureWarning: The default dtype for empty Series will be 'object' instead of 'float64' in a future version. Specify a dtype explicitly to silence this warning.\n",
      "  s = pd.Series(data, index=index, name=name, **kwargs)\n"
     ]
    },
    {
     "name": "stdout",
     "output_type": "stream",
     "text": [
      "2022-08-26 10:35:06,222 - climada.hazard.trop_cyclone - DEBUG - Compute frequency.\n"
     ]
    },
    {
     "name": "stderr",
     "output_type": "stream",
     "text": [
      "2022-08-26 10:35:17,307 : INFO : Running on ensemble # 46 for typhoon 10W\n"
     ]
    },
    {
     "name": "stdout",
     "output_type": "stream",
     "text": [
      "2022-08-26 10:35:17,343 - climada.hazard.trop_cyclone - INFO - Mapping 1 tracks to 29684 coastal centroids.\n"
     ]
    },
    {
     "name": "stderr",
     "output_type": "stream",
     "text": [
      "c:\\Users\\ATeklesadik\\Miniconda3\\envs\\geo_env\\lib\\site-packages\\geopandas\\geoseries.py:207: FutureWarning: The default dtype for empty Series will be 'object' instead of 'float64' in a future version. Specify a dtype explicitly to silence this warning.\n",
      "  s = pd.Series(data, index=index, name=name, **kwargs)\n"
     ]
    },
    {
     "name": "stdout",
     "output_type": "stream",
     "text": [
      "2022-08-26 10:35:19,348 - climada.hazard.trop_cyclone - INFO - Progress: 100%\n",
      "2022-08-26 10:35:19,349 - climada.hazard.trop_cyclone - DEBUG - Compute frequency.\n"
     ]
    },
    {
     "name": "stderr",
     "output_type": "stream",
     "text": [
      "c:\\Users\\ATeklesadik\\Miniconda3\\envs\\geo_env\\lib\\site-packages\\geopandas\\geoseries.py:207: FutureWarning: The default dtype for empty Series will be 'object' instead of 'float64' in a future version. Specify a dtype explicitly to silence this warning.\n",
      "  s = pd.Series(data, index=index, name=name, **kwargs)\n",
      "2022-08-26 10:35:30,232 : INFO : Running on ensemble # 47 for typhoon 10W\n"
     ]
    },
    {
     "name": "stdout",
     "output_type": "stream",
     "text": [
      "2022-08-26 10:35:30,264 - climada.hazard.trop_cyclone - INFO - Mapping 1 tracks to 30046 coastal centroids.\n"
     ]
    },
    {
     "name": "stderr",
     "output_type": "stream",
     "text": [
      "c:\\Users\\ATeklesadik\\Miniconda3\\envs\\geo_env\\lib\\site-packages\\geopandas\\geoseries.py:207: FutureWarning: The default dtype for empty Series will be 'object' instead of 'float64' in a future version. Specify a dtype explicitly to silence this warning.\n",
      "  s = pd.Series(data, index=index, name=name, **kwargs)\n"
     ]
    },
    {
     "name": "stdout",
     "output_type": "stream",
     "text": [
      "2022-08-26 10:35:32,204 - climada.hazard.trop_cyclone - INFO - Progress: 100%\n",
      "2022-08-26 10:35:32,205 - climada.hazard.trop_cyclone - DEBUG - Compute frequency.\n"
     ]
    },
    {
     "name": "stderr",
     "output_type": "stream",
     "text": [
      "c:\\Users\\ATeklesadik\\Miniconda3\\envs\\geo_env\\lib\\site-packages\\geopandas\\geoseries.py:207: FutureWarning: The default dtype for empty Series will be 'object' instead of 'float64' in a future version. Specify a dtype explicitly to silence this warning.\n",
      "  s = pd.Series(data, index=index, name=name, **kwargs)\n",
      "2022-08-26 10:35:44,455 : INFO : Running on ensemble # 48 for typhoon 10W\n"
     ]
    },
    {
     "name": "stdout",
     "output_type": "stream",
     "text": [
      "2022-08-26 10:35:44,486 - climada.hazard.trop_cyclone - INFO - Mapping 1 tracks to 30046 coastal centroids.\n"
     ]
    },
    {
     "name": "stderr",
     "output_type": "stream",
     "text": [
      "c:\\Users\\ATeklesadik\\Miniconda3\\envs\\geo_env\\lib\\site-packages\\geopandas\\geoseries.py:207: FutureWarning: The default dtype for empty Series will be 'object' instead of 'float64' in a future version. Specify a dtype explicitly to silence this warning.\n",
      "  s = pd.Series(data, index=index, name=name, **kwargs)\n"
     ]
    },
    {
     "name": "stdout",
     "output_type": "stream",
     "text": [
      "2022-08-26 10:35:46,582 - climada.hazard.trop_cyclone - INFO - Progress: 100%\n",
      "2022-08-26 10:35:46,583 - climada.hazard.trop_cyclone - DEBUG - Compute frequency.\n"
     ]
    },
    {
     "name": "stderr",
     "output_type": "stream",
     "text": [
      "c:\\Users\\ATeklesadik\\Miniconda3\\envs\\geo_env\\lib\\site-packages\\geopandas\\geoseries.py:207: FutureWarning: The default dtype for empty Series will be 'object' instead of 'float64' in a future version. Specify a dtype explicitly to silence this warning.\n",
      "  s = pd.Series(data, index=index, name=name, **kwargs)\n",
      "2022-08-26 10:35:57,288 : INFO : Running on ensemble # 49 for typhoon 10W\n"
     ]
    },
    {
     "name": "stdout",
     "output_type": "stream",
     "text": [
      "2022-08-26 10:35:57,325 - climada.hazard.trop_cyclone - INFO - Mapping 1 tracks to 30770 coastal centroids.\n"
     ]
    },
    {
     "name": "stderr",
     "output_type": "stream",
     "text": [
      "c:\\Users\\ATeklesadik\\Miniconda3\\envs\\geo_env\\lib\\site-packages\\geopandas\\geoseries.py:207: FutureWarning: The default dtype for empty Series will be 'object' instead of 'float64' in a future version. Specify a dtype explicitly to silence this warning.\n",
      "  s = pd.Series(data, index=index, name=name, **kwargs)\n"
     ]
    },
    {
     "name": "stdout",
     "output_type": "stream",
     "text": [
      "2022-08-26 10:35:59,345 - climada.hazard.trop_cyclone - INFO - Progress: 100%\n",
      "2022-08-26 10:35:59,346 - climada.hazard.trop_cyclone - DEBUG - Compute frequency.\n"
     ]
    },
    {
     "name": "stderr",
     "output_type": "stream",
     "text": [
      "c:\\Users\\ATeklesadik\\Miniconda3\\envs\\geo_env\\lib\\site-packages\\geopandas\\geoseries.py:207: FutureWarning: The default dtype for empty Series will be 'object' instead of 'float64' in a future version. Specify a dtype explicitly to silence this warning.\n",
      "  s = pd.Series(data, index=index, name=name, **kwargs)\n",
      "2022-08-26 10:36:10,503 : INFO : Running on ensemble # 50 for typhoon 10W\n"
     ]
    },
    {
     "name": "stdout",
     "output_type": "stream",
     "text": [
      "2022-08-26 10:36:10,537 - climada.hazard.trop_cyclone - INFO - Mapping 1 tracks to 29684 coastal centroids.\n"
     ]
    },
    {
     "name": "stderr",
     "output_type": "stream",
     "text": [
      "c:\\Users\\ATeklesadik\\Miniconda3\\envs\\geo_env\\lib\\site-packages\\geopandas\\geoseries.py:207: FutureWarning: The default dtype for empty Series will be 'object' instead of 'float64' in a future version. Specify a dtype explicitly to silence this warning.\n",
      "  s = pd.Series(data, index=index, name=name, **kwargs)\n"
     ]
    },
    {
     "name": "stdout",
     "output_type": "stream",
     "text": [
      "2022-08-26 10:36:12,472 - climada.hazard.trop_cyclone - INFO - Progress: 100%\n",
      "2022-08-26 10:36:12,472 - climada.hazard.trop_cyclone - DEBUG - Compute frequency.\n"
     ]
    },
    {
     "name": "stderr",
     "output_type": "stream",
     "text": [
      "c:\\Users\\ATeklesadik\\Miniconda3\\envs\\geo_env\\lib\\site-packages\\geopandas\\geoseries.py:207: FutureWarning: The default dtype for empty Series will be 'object' instead of 'float64' in a future version. Specify a dtype explicitly to silence this warning.\n",
      "  s = pd.Series(data, index=index, name=name, **kwargs)\n",
      "2022-08-26 10:36:23,565 : INFO : Running on ensemble # 51 for typhoon 10W\n"
     ]
    },
    {
     "name": "stdout",
     "output_type": "stream",
     "text": [
      "2022-08-26 10:36:23,600 - climada.hazard.trop_cyclone - INFO - Mapping 1 tracks to 30046 coastal centroids.\n"
     ]
    },
    {
     "name": "stderr",
     "output_type": "stream",
     "text": [
      "c:\\Users\\ATeklesadik\\Miniconda3\\envs\\geo_env\\lib\\site-packages\\geopandas\\geoseries.py:207: FutureWarning: The default dtype for empty Series will be 'object' instead of 'float64' in a future version. Specify a dtype explicitly to silence this warning.\n",
      "  s = pd.Series(data, index=index, name=name, **kwargs)\n"
     ]
    },
    {
     "name": "stdout",
     "output_type": "stream",
     "text": [
      "2022-08-26 10:36:25,536 - climada.hazard.trop_cyclone - INFO - Progress: 100%\n",
      "2022-08-26 10:36:25,537 - climada.hazard.trop_cyclone - DEBUG - Compute frequency.\n"
     ]
    },
    {
     "name": "stderr",
     "output_type": "stream",
     "text": [
      "c:\\Users\\ATeklesadik\\Miniconda3\\envs\\geo_env\\lib\\site-packages\\geopandas\\geoseries.py:207: FutureWarning: The default dtype for empty Series will be 'object' instead of 'float64' in a future version. Specify a dtype explicitly to silence this warning.\n",
      "  s = pd.Series(data, index=index, name=name, **kwargs)\n",
      "2022-08-26 10:36:36,772 : INFO : Running on ensemble # 52 for typhoon 10W\n"
     ]
    },
    {
     "name": "stdout",
     "output_type": "stream",
     "text": [
      "2022-08-26 10:36:36,804 - climada.hazard.trop_cyclone - INFO - Mapping 1 tracks to 31132 coastal centroids.\n"
     ]
    },
    {
     "name": "stderr",
     "output_type": "stream",
     "text": [
      "c:\\Users\\ATeklesadik\\Miniconda3\\envs\\geo_env\\lib\\site-packages\\geopandas\\geoseries.py:207: FutureWarning: The default dtype for empty Series will be 'object' instead of 'float64' in a future version. Specify a dtype explicitly to silence this warning.\n",
      "  s = pd.Series(data, index=index, name=name, **kwargs)\n"
     ]
    },
    {
     "name": "stdout",
     "output_type": "stream",
     "text": [
      "2022-08-26 10:36:38,736 - climada.hazard.trop_cyclone - INFO - Progress: 100%\n",
      "2022-08-26 10:36:38,737 - climada.hazard.trop_cyclone - DEBUG - Compute frequency.\n"
     ]
    },
    {
     "name": "stderr",
     "output_type": "stream",
     "text": [
      "c:\\Users\\ATeklesadik\\Miniconda3\\envs\\geo_env\\lib\\site-packages\\geopandas\\geoseries.py:207: FutureWarning: The default dtype for empty Series will be 'object' instead of 'float64' in a future version. Specify a dtype explicitly to silence this warning.\n",
      "  s = pd.Series(data, index=index, name=name, **kwargs)\n"
     ]
    },
    {
     "name": "stdout",
     "output_type": "stream",
     "text": [
      "[0]\tvalidation_0-rmse:4.58980\tvalidation_0-mean_absolute_error:1.00570\tvalidation_1-rmse:3.90210\tvalidation_1-mean_absolute_error:0.93044\n",
      "[1]\tvalidation_0-rmse:4.51132\tvalidation_0-mean_absolute_error:0.98495\tvalidation_1-rmse:3.83729\tvalidation_1-mean_absolute_error:0.90978\n",
      "[2]\tvalidation_0-rmse:4.43312\tvalidation_0-mean_absolute_error:0.96485\tvalidation_1-rmse:3.77033\tvalidation_1-mean_absolute_error:0.89011\n",
      "[3]\tvalidation_0-rmse:4.35617\tvalidation_0-mean_absolute_error:0.94526\tvalidation_1-rmse:3.70793\tvalidation_1-mean_absolute_error:0.87125\n",
      "[4]\tvalidation_0-rmse:4.28541\tvalidation_0-mean_absolute_error:0.92628\tvalidation_1-rmse:3.64811\tvalidation_1-mean_absolute_error:0.85243\n",
      "[5]\tvalidation_0-rmse:4.21799\tvalidation_0-mean_absolute_error:0.90812\tvalidation_1-rmse:3.58980\tvalidation_1-mean_absolute_error:0.83481\n",
      "[6]\tvalidation_0-rmse:4.14888\tvalidation_0-mean_absolute_error:0.89041\tvalidation_1-rmse:3.53346\tvalidation_1-mean_absolute_error:0.81737\n",
      "[7]\tvalidation_0-rmse:4.08050\tvalidation_0-mean_absolute_error:0.87298\tvalidation_1-rmse:3.47578\tvalidation_1-mean_absolute_error:0.80046\n",
      "[8]\tvalidation_0-rmse:4.01522\tvalidation_0-mean_absolute_error:0.85635\tvalidation_1-rmse:3.41641\tvalidation_1-mean_absolute_error:0.78328\n",
      "[9]\tvalidation_0-rmse:3.95108\tvalidation_0-mean_absolute_error:0.84020\tvalidation_1-rmse:3.36453\tvalidation_1-mean_absolute_error:0.76783\n",
      "[10]\tvalidation_0-rmse:3.88574\tvalidation_0-mean_absolute_error:0.82402\tvalidation_1-rmse:3.31218\tvalidation_1-mean_absolute_error:0.75236\n",
      "[11]\tvalidation_0-rmse:3.82443\tvalidation_0-mean_absolute_error:0.80877\tvalidation_1-rmse:3.25863\tvalidation_1-mean_absolute_error:0.73693\n",
      "[12]\tvalidation_0-rmse:3.76539\tvalidation_0-mean_absolute_error:0.79393\tvalidation_1-rmse:3.21103\tvalidation_1-mean_absolute_error:0.72286\n",
      "[13]\tvalidation_0-rmse:3.70758\tvalidation_0-mean_absolute_error:0.77919\tvalidation_1-rmse:3.16325\tvalidation_1-mean_absolute_error:0.70883\n",
      "[14]\tvalidation_0-rmse:3.64915\tvalidation_0-mean_absolute_error:0.76475\tvalidation_1-rmse:3.11908\tvalidation_1-mean_absolute_error:0.69588\n",
      "[15]\tvalidation_0-rmse:3.59278\tvalidation_0-mean_absolute_error:0.75074\tvalidation_1-rmse:3.07849\tvalidation_1-mean_absolute_error:0.68297\n",
      "[16]\tvalidation_0-rmse:3.53665\tvalidation_0-mean_absolute_error:0.73726\tvalidation_1-rmse:3.03944\tvalidation_1-mean_absolute_error:0.67147\n",
      "[17]\tvalidation_0-rmse:3.48208\tvalidation_0-mean_absolute_error:0.72397\tvalidation_1-rmse:2.99574\tvalidation_1-mean_absolute_error:0.65998\n",
      "[18]\tvalidation_0-rmse:3.42929\tvalidation_0-mean_absolute_error:0.71102\tvalidation_1-rmse:2.95008\tvalidation_1-mean_absolute_error:0.64786\n",
      "[19]\tvalidation_0-rmse:3.37716\tvalidation_0-mean_absolute_error:0.69849\tvalidation_1-rmse:2.90412\tvalidation_1-mean_absolute_error:0.63619\n",
      "[20]\tvalidation_0-rmse:3.32710\tvalidation_0-mean_absolute_error:0.68648\tvalidation_1-rmse:2.85856\tvalidation_1-mean_absolute_error:0.62494\n",
      "[21]\tvalidation_0-rmse:3.27964\tvalidation_0-mean_absolute_error:0.67474\tvalidation_1-rmse:2.82705\tvalidation_1-mean_absolute_error:0.61503\n",
      "[22]\tvalidation_0-rmse:3.23358\tvalidation_0-mean_absolute_error:0.66328\tvalidation_1-rmse:2.79078\tvalidation_1-mean_absolute_error:0.60531\n",
      "[23]\tvalidation_0-rmse:3.18766\tvalidation_0-mean_absolute_error:0.65216\tvalidation_1-rmse:2.74992\tvalidation_1-mean_absolute_error:0.59494\n",
      "[24]\tvalidation_0-rmse:3.14058\tvalidation_0-mean_absolute_error:0.64112\tvalidation_1-rmse:2.71272\tvalidation_1-mean_absolute_error:0.58529\n",
      "[25]\tvalidation_0-rmse:3.09346\tvalidation_0-mean_absolute_error:0.63044\tvalidation_1-rmse:2.67259\tvalidation_1-mean_absolute_error:0.57557\n",
      "[26]\tvalidation_0-rmse:3.05475\tvalidation_0-mean_absolute_error:0.62051\tvalidation_1-rmse:2.63826\tvalidation_1-mean_absolute_error:0.56648\n",
      "[27]\tvalidation_0-rmse:3.01269\tvalidation_0-mean_absolute_error:0.61067\tvalidation_1-rmse:2.60215\tvalidation_1-mean_absolute_error:0.55722\n",
      "[28]\tvalidation_0-rmse:2.97123\tvalidation_0-mean_absolute_error:0.60105\tvalidation_1-rmse:2.56674\tvalidation_1-mean_absolute_error:0.54799\n",
      "[29]\tvalidation_0-rmse:2.93019\tvalidation_0-mean_absolute_error:0.59123\tvalidation_1-rmse:2.54226\tvalidation_1-mean_absolute_error:0.53945\n",
      "[30]\tvalidation_0-rmse:2.88999\tvalidation_0-mean_absolute_error:0.58184\tvalidation_1-rmse:2.50884\tvalidation_1-mean_absolute_error:0.53103\n",
      "[31]\tvalidation_0-rmse:2.84970\tvalidation_0-mean_absolute_error:0.57252\tvalidation_1-rmse:2.47093\tvalidation_1-mean_absolute_error:0.52258\n",
      "[32]\tvalidation_0-rmse:2.81382\tvalidation_0-mean_absolute_error:0.56385\tvalidation_1-rmse:2.43814\tvalidation_1-mean_absolute_error:0.51424\n",
      "[33]\tvalidation_0-rmse:2.77489\tvalidation_0-mean_absolute_error:0.55504\tvalidation_1-rmse:2.41696\tvalidation_1-mean_absolute_error:0.50753\n",
      "[34]\tvalidation_0-rmse:2.73991\tvalidation_0-mean_absolute_error:0.54672\tvalidation_1-rmse:2.38664\tvalidation_1-mean_absolute_error:0.49937\n",
      "[35]\tvalidation_0-rmse:2.70573\tvalidation_0-mean_absolute_error:0.53869\tvalidation_1-rmse:2.35706\tvalidation_1-mean_absolute_error:0.49205\n",
      "[36]\tvalidation_0-rmse:2.67059\tvalidation_0-mean_absolute_error:0.53041\tvalidation_1-rmse:2.32775\tvalidation_1-mean_absolute_error:0.48486\n",
      "[37]\tvalidation_0-rmse:2.63805\tvalidation_0-mean_absolute_error:0.52276\tvalidation_1-rmse:2.29555\tvalidation_1-mean_absolute_error:0.47755\n",
      "[38]\tvalidation_0-rmse:2.60527\tvalidation_0-mean_absolute_error:0.51508\tvalidation_1-rmse:2.27238\tvalidation_1-mean_absolute_error:0.47147\n",
      "[39]\tvalidation_0-rmse:2.57371\tvalidation_0-mean_absolute_error:0.50781\tvalidation_1-rmse:2.24414\tvalidation_1-mean_absolute_error:0.46462\n",
      "[40]\tvalidation_0-rmse:2.54025\tvalidation_0-mean_absolute_error:0.50044\tvalidation_1-rmse:2.21856\tvalidation_1-mean_absolute_error:0.45858\n",
      "[41]\tvalidation_0-rmse:2.50688\tvalidation_0-mean_absolute_error:0.49301\tvalidation_1-rmse:2.19399\tvalidation_1-mean_absolute_error:0.45277\n",
      "[42]\tvalidation_0-rmse:2.47577\tvalidation_0-mean_absolute_error:0.48593\tvalidation_1-rmse:2.16956\tvalidation_1-mean_absolute_error:0.44690\n",
      "[43]\tvalidation_0-rmse:2.44852\tvalidation_0-mean_absolute_error:0.47930\tvalidation_1-rmse:2.14552\tvalidation_1-mean_absolute_error:0.44107\n",
      "[44]\tvalidation_0-rmse:2.42114\tvalidation_0-mean_absolute_error:0.47279\tvalidation_1-rmse:2.12464\tvalidation_1-mean_absolute_error:0.43547\n",
      "[45]\tvalidation_0-rmse:2.39229\tvalidation_0-mean_absolute_error:0.46594\tvalidation_1-rmse:2.09607\tvalidation_1-mean_absolute_error:0.42905\n",
      "[46]\tvalidation_0-rmse:2.36302\tvalidation_0-mean_absolute_error:0.45950\tvalidation_1-rmse:2.07289\tvalidation_1-mean_absolute_error:0.42319\n",
      "[47]\tvalidation_0-rmse:2.33314\tvalidation_0-mean_absolute_error:0.45300\tvalidation_1-rmse:2.04846\tvalidation_1-mean_absolute_error:0.41789\n",
      "[48]\tvalidation_0-rmse:2.30799\tvalidation_0-mean_absolute_error:0.44719\tvalidation_1-rmse:2.02204\tvalidation_1-mean_absolute_error:0.41256\n",
      "[49]\tvalidation_0-rmse:2.28157\tvalidation_0-mean_absolute_error:0.44117\tvalidation_1-rmse:1.99520\tvalidation_1-mean_absolute_error:0.40693\n",
      "[50]\tvalidation_0-rmse:2.25604\tvalidation_0-mean_absolute_error:0.43549\tvalidation_1-rmse:1.98050\tvalidation_1-mean_absolute_error:0.40248\n",
      "[51]\tvalidation_0-rmse:2.23189\tvalidation_0-mean_absolute_error:0.42986\tvalidation_1-rmse:1.96338\tvalidation_1-mean_absolute_error:0.39785\n",
      "[52]\tvalidation_0-rmse:2.20828\tvalidation_0-mean_absolute_error:0.42441\tvalidation_1-rmse:1.95173\tvalidation_1-mean_absolute_error:0.39376\n",
      "[53]\tvalidation_0-rmse:2.18315\tvalidation_0-mean_absolute_error:0.41889\tvalidation_1-rmse:1.93346\tvalidation_1-mean_absolute_error:0.38953\n",
      "[54]\tvalidation_0-rmse:2.16091\tvalidation_0-mean_absolute_error:0.41377\tvalidation_1-rmse:1.91461\tvalidation_1-mean_absolute_error:0.38513\n",
      "[55]\tvalidation_0-rmse:2.13827\tvalidation_0-mean_absolute_error:0.40872\tvalidation_1-rmse:1.90264\tvalidation_1-mean_absolute_error:0.38136\n",
      "[56]\tvalidation_0-rmse:2.11887\tvalidation_0-mean_absolute_error:0.40400\tvalidation_1-rmse:1.88649\tvalidation_1-mean_absolute_error:0.37737\n",
      "[57]\tvalidation_0-rmse:2.09585\tvalidation_0-mean_absolute_error:0.39897\tvalidation_1-rmse:1.86848\tvalidation_1-mean_absolute_error:0.37317\n",
      "[58]\tvalidation_0-rmse:2.07391\tvalidation_0-mean_absolute_error:0.39408\tvalidation_1-rmse:1.85441\tvalidation_1-mean_absolute_error:0.36901\n",
      "[59]\tvalidation_0-rmse:2.05303\tvalidation_0-mean_absolute_error:0.38945\tvalidation_1-rmse:1.83671\tvalidation_1-mean_absolute_error:0.36502\n",
      "[60]\tvalidation_0-rmse:2.03145\tvalidation_0-mean_absolute_error:0.38469\tvalidation_1-rmse:1.82181\tvalidation_1-mean_absolute_error:0.36131\n",
      "[61]\tvalidation_0-rmse:2.00996\tvalidation_0-mean_absolute_error:0.38014\tvalidation_1-rmse:1.80675\tvalidation_1-mean_absolute_error:0.35735\n",
      "[62]\tvalidation_0-rmse:1.99122\tvalidation_0-mean_absolute_error:0.37595\tvalidation_1-rmse:1.78858\tvalidation_1-mean_absolute_error:0.35382\n",
      "[63]\tvalidation_0-rmse:1.97062\tvalidation_0-mean_absolute_error:0.37159\tvalidation_1-rmse:1.77881\tvalidation_1-mean_absolute_error:0.35065\n",
      "[64]\tvalidation_0-rmse:1.95368\tvalidation_0-mean_absolute_error:0.36760\tvalidation_1-rmse:1.77163\tvalidation_1-mean_absolute_error:0.34790\n",
      "[65]\tvalidation_0-rmse:1.93443\tvalidation_0-mean_absolute_error:0.36342\tvalidation_1-rmse:1.75446\tvalidation_1-mean_absolute_error:0.34390\n",
      "[66]\tvalidation_0-rmse:1.91666\tvalidation_0-mean_absolute_error:0.35940\tvalidation_1-rmse:1.74023\tvalidation_1-mean_absolute_error:0.34008\n",
      "[67]\tvalidation_0-rmse:1.89885\tvalidation_0-mean_absolute_error:0.35543\tvalidation_1-rmse:1.72368\tvalidation_1-mean_absolute_error:0.33671\n",
      "[68]\tvalidation_0-rmse:1.88309\tvalidation_0-mean_absolute_error:0.35169\tvalidation_1-rmse:1.71017\tvalidation_1-mean_absolute_error:0.33359\n",
      "[69]\tvalidation_0-rmse:1.86691\tvalidation_0-mean_absolute_error:0.34800\tvalidation_1-rmse:1.69358\tvalidation_1-mean_absolute_error:0.33025\n",
      "[70]\tvalidation_0-rmse:1.85046\tvalidation_0-mean_absolute_error:0.34432\tvalidation_1-rmse:1.68084\tvalidation_1-mean_absolute_error:0.32707\n",
      "[71]\tvalidation_0-rmse:1.83467\tvalidation_0-mean_absolute_error:0.34085\tvalidation_1-rmse:1.67289\tvalidation_1-mean_absolute_error:0.32466\n",
      "[72]\tvalidation_0-rmse:1.81658\tvalidation_0-mean_absolute_error:0.33696\tvalidation_1-rmse:1.66149\tvalidation_1-mean_absolute_error:0.32176\n",
      "[73]\tvalidation_0-rmse:1.80161\tvalidation_0-mean_absolute_error:0.33365\tvalidation_1-rmse:1.64691\tvalidation_1-mean_absolute_error:0.31827\n",
      "[74]\tvalidation_0-rmse:1.78444\tvalidation_0-mean_absolute_error:0.33007\tvalidation_1-rmse:1.63140\tvalidation_1-mean_absolute_error:0.31507\n",
      "[75]\tvalidation_0-rmse:1.76676\tvalidation_0-mean_absolute_error:0.32643\tvalidation_1-rmse:1.61363\tvalidation_1-mean_absolute_error:0.31160\n",
      "[76]\tvalidation_0-rmse:1.75343\tvalidation_0-mean_absolute_error:0.32333\tvalidation_1-rmse:1.60700\tvalidation_1-mean_absolute_error:0.30928\n",
      "[77]\tvalidation_0-rmse:1.73785\tvalidation_0-mean_absolute_error:0.32004\tvalidation_1-rmse:1.58898\tvalidation_1-mean_absolute_error:0.30612\n",
      "[78]\tvalidation_0-rmse:1.72395\tvalidation_0-mean_absolute_error:0.31717\tvalidation_1-rmse:1.57801\tvalidation_1-mean_absolute_error:0.30367\n",
      "[79]\tvalidation_0-rmse:1.71122\tvalidation_0-mean_absolute_error:0.31430\tvalidation_1-rmse:1.56369\tvalidation_1-mean_absolute_error:0.30078\n",
      "[80]\tvalidation_0-rmse:1.69799\tvalidation_0-mean_absolute_error:0.31113\tvalidation_1-rmse:1.54992\tvalidation_1-mean_absolute_error:0.29765\n",
      "[81]\tvalidation_0-rmse:1.68541\tvalidation_0-mean_absolute_error:0.30835\tvalidation_1-rmse:1.53622\tvalidation_1-mean_absolute_error:0.29500\n",
      "[82]\tvalidation_0-rmse:1.67259\tvalidation_0-mean_absolute_error:0.30558\tvalidation_1-rmse:1.52234\tvalidation_1-mean_absolute_error:0.29242\n",
      "[83]\tvalidation_0-rmse:1.65999\tvalidation_0-mean_absolute_error:0.30264\tvalidation_1-rmse:1.51085\tvalidation_1-mean_absolute_error:0.28982\n",
      "[84]\tvalidation_0-rmse:1.64672\tvalidation_0-mean_absolute_error:0.29999\tvalidation_1-rmse:1.49852\tvalidation_1-mean_absolute_error:0.28774\n",
      "[85]\tvalidation_0-rmse:1.63584\tvalidation_0-mean_absolute_error:0.29758\tvalidation_1-rmse:1.48926\tvalidation_1-mean_absolute_error:0.28560\n",
      "[86]\tvalidation_0-rmse:1.62605\tvalidation_0-mean_absolute_error:0.29514\tvalidation_1-rmse:1.47972\tvalidation_1-mean_absolute_error:0.28373\n",
      "[87]\tvalidation_0-rmse:1.61358\tvalidation_0-mean_absolute_error:0.29249\tvalidation_1-rmse:1.47140\tvalidation_1-mean_absolute_error:0.28127\n",
      "[88]\tvalidation_0-rmse:1.60350\tvalidation_0-mean_absolute_error:0.29025\tvalidation_1-rmse:1.46266\tvalidation_1-mean_absolute_error:0.27926\n",
      "[89]\tvalidation_0-rmse:1.59134\tvalidation_0-mean_absolute_error:0.28774\tvalidation_1-rmse:1.45514\tvalidation_1-mean_absolute_error:0.27748\n",
      "[90]\tvalidation_0-rmse:1.58011\tvalidation_0-mean_absolute_error:0.28538\tvalidation_1-rmse:1.44478\tvalidation_1-mean_absolute_error:0.27541\n",
      "[91]\tvalidation_0-rmse:1.56983\tvalidation_0-mean_absolute_error:0.28318\tvalidation_1-rmse:1.43800\tvalidation_1-mean_absolute_error:0.27375\n",
      "[92]\tvalidation_0-rmse:1.55979\tvalidation_0-mean_absolute_error:0.28098\tvalidation_1-rmse:1.43021\tvalidation_1-mean_absolute_error:0.27198\n",
      "[93]\tvalidation_0-rmse:1.54711\tvalidation_0-mean_absolute_error:0.27845\tvalidation_1-rmse:1.42086\tvalidation_1-mean_absolute_error:0.27005\n",
      "[94]\tvalidation_0-rmse:1.53752\tvalidation_0-mean_absolute_error:0.27643\tvalidation_1-rmse:1.41199\tvalidation_1-mean_absolute_error:0.26843\n",
      "[95]\tvalidation_0-rmse:1.52745\tvalidation_0-mean_absolute_error:0.27435\tvalidation_1-rmse:1.40332\tvalidation_1-mean_absolute_error:0.26706\n",
      "[96]\tvalidation_0-rmse:1.51904\tvalidation_0-mean_absolute_error:0.27253\tvalidation_1-rmse:1.39610\tvalidation_1-mean_absolute_error:0.26544\n",
      "[97]\tvalidation_0-rmse:1.50922\tvalidation_0-mean_absolute_error:0.27052\tvalidation_1-rmse:1.39255\tvalidation_1-mean_absolute_error:0.26378\n",
      "[98]\tvalidation_0-rmse:1.49967\tvalidation_0-mean_absolute_error:0.26845\tvalidation_1-rmse:1.38509\tvalidation_1-mean_absolute_error:0.26202\n",
      "[99]\tvalidation_0-rmse:1.48827\tvalidation_0-mean_absolute_error:0.26624\tvalidation_1-rmse:1.37610\tvalidation_1-mean_absolute_error:0.26001\n"
     ]
    },
    {
     "name": "stderr",
     "output_type": "stream",
     "text": [
      "2022-08-26 10:36:53,869 : INFO : 535\n",
      "2022-08-26 10:36:53,906 : INFO : CHECK LAND FALL TIME\n",
      "2022-08-26 10:36:53,908 : INFO : CHECK LAND FALL TIME FINAL STEPLAT\n"
     ]
    },
    {
     "name": "stdout",
     "output_type": "stream",
     "text": [
      "2022-08-26 10:36:54,669 - climada.util.coordinates - INFO - dist_to_coast: UTM 32648 (1/4)\n"
     ]
    },
    {
     "name": "stderr",
     "output_type": "stream",
     "text": [
      "c:\\Users\\ATeklesadik\\Miniconda3\\envs\\geo_env\\lib\\site-packages\\pyproj\\crs\\crs.py:68: FutureWarning: '+init=<authority>:<code>' syntax is deprecated. '<authority>:<code>' is the preferred initialization method. When making the change, be mindful of axis order changes: https://pyproj4.github.io/pyproj/stable/gotchas.html#axis-order-changes-in-proj-6\n",
      "  return _prepare_from_string(\" \".join(pjargs))\n",
      "c:\\Users\\ATeklesadik\\Miniconda3\\envs\\geo_env\\lib\\site-packages\\pyproj\\crs\\crs.py:68: FutureWarning: '+init=<authority>:<code>' syntax is deprecated. '<authority>:<code>' is the preferred initialization method. When making the change, be mindful of axis order changes: https://pyproj4.github.io/pyproj/stable/gotchas.html#axis-order-changes-in-proj-6\n",
      "  return _prepare_from_string(\" \".join(pjargs))\n",
      "c:\\Users\\ATeklesadik\\Miniconda3\\envs\\geo_env\\lib\\site-packages\\pyproj\\crs\\crs.py:68: FutureWarning: '+init=<authority>:<code>' syntax is deprecated. '<authority>:<code>' is the preferred initialization method. When making the change, be mindful of axis order changes: https://pyproj4.github.io/pyproj/stable/gotchas.html#axis-order-changes-in-proj-6\n",
      "  return _prepare_from_string(\" \".join(pjargs))\n",
      "c:\\Users\\ATeklesadik\\Miniconda3\\envs\\geo_env\\lib\\site-packages\\pyproj\\crs\\crs.py:68: FutureWarning: '+init=<authority>:<code>' syntax is deprecated. '<authority>:<code>' is the preferred initialization method. When making the change, be mindful of axis order changes: https://pyproj4.github.io/pyproj/stable/gotchas.html#axis-order-changes-in-proj-6\n",
      "  return _prepare_from_string(\" \".join(pjargs))\n"
     ]
    },
    {
     "name": "stdout",
     "output_type": "stream",
     "text": [
      "2022-08-26 10:36:54,974 - climada.util.coordinates - INFO - dist_to_coast: UTM 32649 (2/4)\n",
      "2022-08-26 10:36:55,215 - climada.util.coordinates - INFO - dist_to_coast: UTM 32650 (3/4)\n"
     ]
    },
    {
     "name": "stderr",
     "output_type": "stream",
     "text": [
      "c:\\Users\\ATeklesadik\\Miniconda3\\envs\\geo_env\\lib\\site-packages\\pyproj\\crs\\crs.py:68: FutureWarning: '+init=<authority>:<code>' syntax is deprecated. '<authority>:<code>' is the preferred initialization method. When making the change, be mindful of axis order changes: https://pyproj4.github.io/pyproj/stable/gotchas.html#axis-order-changes-in-proj-6\n",
      "  return _prepare_from_string(\" \".join(pjargs))\n"
     ]
    },
    {
     "name": "stdout",
     "output_type": "stream",
     "text": [
      "2022-08-26 10:36:55,472 - climada.util.coordinates - INFO - dist_to_coast: UTM 32651 (4/4)\n"
     ]
    },
    {
     "name": "stderr",
     "output_type": "stream",
     "text": [
      "c:\\Users\\ATeklesadik\\Miniconda3\\envs\\geo_env\\lib\\site-packages\\pyproj\\crs\\crs.py:68: FutureWarning: '+init=<authority>:<code>' syntax is deprecated. '<authority>:<code>' is the preferred initialization method. When making the change, be mindful of axis order changes: https://pyproj4.github.io/pyproj/stable/gotchas.html#axis-order-changes-in-proj-6\n",
      "  return _prepare_from_string(\" \".join(pjargs))\n",
      "c:\\Users\\ATeklesadik\\Miniconda3\\envs\\geo_env\\lib\\site-packages\\pyproj\\crs\\crs.py:68: FutureWarning: '+init=<authority>:<code>' syntax is deprecated. '<authority>:<code>' is the preferred initialization method. When making the change, be mindful of axis order changes: https://pyproj4.github.io/pyproj/stable/gotchas.html#axis-order-changes-in-proj-6\n",
      "  return _prepare_from_string(\" \".join(pjargs))\n",
      "2022-08-26 10:36:55,714 : INFO : CHECK LAND FALL TIME FINAL STEP 2022-08-23 09:00:00\n",
      "2022-08-26 10:36:55,715 : INFO : CHECK LAND FALL TIME FINAL STEP 1 day, 3:00:00\n",
      "2022-08-26 10:36:55,720 : INFO : 537\n",
      "2022-08-26 10:36:55,722 : INFO : 1647\n",
      "2022-08-26 10:36:55,755 : INFO : 1647\n",
      "2022-08-26 10:36:55,979 : INFO : preparing data for prob_within_50km\n",
      "2022-08-26 10:36:56,087 : INFO : preparing data for houses_affected\n",
      "2022-08-26 10:36:56,180 : INFO : preparing data for alert_threshold\n",
      "2022-08-26 10:36:56,280 : INFO : preparing data for show_admin_area\n"
     ]
    },
    {
     "data": {
      "image/png": "[encoded data removed]",
      "text/plain": [
       "<Figure size 648x936 with 1 Axes>"
      ]
     },
     "metadata": {
      "needs_background": "light"
     },
     "output_type": "display_data"
    }
   ],
   "source": [
    "###############################################################\n",
    "####  check setting for mock data \n",
    "if mock:\n",
    "    if mock_trigger:\n",
    "        typhoon_names=mock_trigger_typhoon_event\n",
    "    else:\n",
    "        typhoon_names=mock_nontrigger_typhoon_event                \n",
    "    logger.info(f\"mock piepline for typhoon{typhoon_names}\")\n",
    "    db = DatabaseManager(countryCodeISO3,admin_level)\n",
    "    json_path = mock_data_path  + typhoon_names             \n",
    "    db.uploadTrackData(json_path)            \n",
    "    db.uploadTyphoonData(json_path)\n",
    "    db.sendNotificationTyphoon()\n",
    "\n",
    "else:\n",
    "    fc = Forecast(ecmwf_remote_directory,countryCodeISO3, admin_level)\n",
    "    \n",
    " \n"
   ]
  },
  {
   "cell_type": "code",
   "execution_count": 7,
   "metadata": {},
   "outputs": [
    {
     "name": "stderr",
     "output_type": "stream",
     "text": [
      "2022-08-26 10:45:18,783 : INFO : Uploaded track_data: C:/Users/ATeklesadik/OneDrive - Rode Kruis/Documents/documents/IBF_TYPHOON_DATA_PIPELINE/IBF-Typhoon-model/forecast/Output/10W_tracks.json\n",
      "2022-08-26 10:45:19,378 : INFO : Uploaded data for indicator: windspeed \n",
      "2022-08-26 10:45:19,915 : INFO : Uploaded data for indicator: rainfall \n",
      "2022-08-26 10:45:20,340 : INFO : Uploaded data for indicator: prob_within_50km \n",
      "2022-08-26 10:45:20,776 : INFO : Uploaded data for indicator: houses_affected \n",
      "2022-08-26 10:46:36,375 : INFO : Uploaded data for indicator: alert_threshold \n",
      "2022-08-26 10:46:36,988 : INFO : Uploaded data for indicator: show_admin_area \n"
     ]
    }
   ],
   "source": [
    "for typhoon_names in ['10W']:#fc.Activetyphoon:\n",
    "    # upload data\n",
    "    json_path = fc.Output_folder  + typhoon_names  \n",
    "    EAP_TRIGGERED_bool=fc.eap_status_bool[typhoon_names]\n",
    "    EAP_TRIGGERED=fc.eap_status[typhoon_names]                   \n",
    "    fc.db.uploadTrackData(json_path)            \n",
    "    fc.db.uploadTyphoonData(json_path) \n",
    "    #fc.db.sendNotificationTyphoon() "
   ]
  },
  {
   "cell_type": "code",
   "execution_count": 16,
   "metadata": {},
   "outputs": [],
   "source": [
    "\n",
    "for layer in ['HAZ_max_06h_rain',\t'HAZ_rainfall_max_24h']:\n",
    "    for ix, row in fc.rainfall_data.iterrows():\n",
    "        exposure_entry = {\"placeCode\": row[\"adm3_pcode\"], \"amount\": round(0.01*row[layer],7)}"
   ]
  },
  {
   "cell_type": "code",
   "execution_count": 17,
   "metadata": {},
   "outputs": [
    {
     "data": {
      "text/plain": [
       "{'placeCode': 'PH012806000', 'amount': 0.061}"
      ]
     },
     "execution_count": 17,
     "metadata": {},
     "output_type": "execute_result"
    }
   ],
   "source": [
    "exposure_entry"
   ]
  },
  {
   "cell_type": "code",
   "execution_count": null,
   "metadata": {},
   "outputs": [],
   "source": [
    "for typhoon_names in ['10W']:#fc.Activetyphoon:\n",
    "    # upload data\n",
    "    json_path = fc.Output_folder  + typhoon_names  \n",
    "    EAP_TRIGGERED_bool=fc.eap_status_bool[typhoon_names]\n",
    "    EAP_TRIGGERED=fc.eap_status[typhoon_names]                   \n",
    "    #fc.db.uploadTrackData(json_path)            \n",
    "    fc.db.uploadTyphoonData(json_path) \n",
    "    #fc.db.sendNotificationTyphoon() "
   ]
  },
  {
   "cell_type": "code",
   "execution_count": null,
   "metadata": {},
   "outputs": [],
   "source": [
    "Active_Typhoon_event_list=[]\n",
    "\n",
    "TropicalCycloneAdvisoryDomain_events=['g']\n",
    "    \n",
    "if  Active_Typhoon_event_list:\n",
    "    Active_Typhoon_events=Active_Typhoon_event_list\n",
    "else:\n",
    "    Active_Typhoon_events=TropicalCycloneAdvisoryDomain_events\n",
    "    \n",
    "Active_Typhoon_events   "
   ]
  },
  {
   "cell_type": "code",
   "execution_count": null,
   "metadata": {},
   "outputs": [],
   "source": [
    "fc.Activetyphoon"
   ]
  },
  {
   "cell_type": "code",
   "execution_count": null,
   "metadata": {},
   "outputs": [],
   "source": [
    "###############################################################\n",
    "####  check setting for mock data \n",
    "if mock:\n",
    "    if mock_trigger:\n",
    "        typhoon_names=mock_trigger_typhoon_event\n",
    "    else:\n",
    "        typhoon_names=mock_nontrigger_typhoon_event                \n",
    "    logger.info(f\"mock piepline for typhoon{typhoon_names}\")\n",
    "    db = DatabaseManager(countryCodeISO3,admin_level)\n",
    "    json_path = mock_data_path  + typhoon_names             \n",
    "    db.uploadTrackData(json_path)            \n",
    "    db.uploadTyphoonData(json_path)\n",
    "    db.sendNotificationTyphoon()\n",
    "\n",
    "else:\n",
    "    fc = Forecast(ecmwf_remote_directory,countryCodeISO3, admin_level)\n",
    "\n",
    "    if fc.Activetyphoon: #if it is not empty   \n",
    "        for typhoon_names in fc.Activetyphoon:\n",
    "            # upload data\n",
    "            json_path = fc.Output_folder  + typhoon_names  \n",
    "            EAP_TRIGGERED_bool=fc.eap_status_bool[typhoon_names]\n",
    "            EAP_TRIGGERED=fc.eap_status[typhoon_names]                   \n",
    "            fc.db.uploadTrackData(json_path)            \n",
    "            fc.db.uploadTyphoonData(json_path) \n",
    "            fc.db.sendNotificationTyphoon() \n",
    "            \n",
    "\n",
    "    #if there is no active typhoon \n",
    "    else: #\n",
    "        logger.info('no active Typhoon')\n",
    "        df_total_upload=fc.pcode #data frame with pcodes \n",
    "        typhoon_names='null'\n",
    "        df_total_upload['alert_threshold']=0\n",
    "        df_total_upload['houses_affected']=0\n",
    "        \n",
    "        for layer in [\"houses_affected\",\"alert_threshold\"]:\n",
    "            exposure_entry=[]\n",
    "            # prepare layer\n",
    "            logger.info(f\"preparing data for {layer}\")\n",
    "            exposure_data = {'countryCodeISO3': countryCodeISO3}\n",
    " \n",
    "            exposure_place_codes = []\n",
    "            #### change the data frame here to include impact\n",
    "            for ix, row in df_total_upload.iterrows():\n",
    "                exposure_entry = {\"placeCode\": row[\"adm3_pcode\"],\n",
    "                                    \"amount\": row[layer]}\n",
    "                exposure_place_codes.append(exposure_entry)\n",
    "                \n",
    "            exposure_data[\"exposurePlaceCodes\"] = exposure_place_codes\n",
    "            exposure_data[\"adminLevel\"] = admin_level\n",
    "            exposure_data[\"leadTime\"] = '72-hours'\n",
    "            exposure_data[\"dynamicIndicator\"] = layer\n",
    "            exposure_data[\"disasterType\"] = \"typhoon\"\n",
    "            exposure_data[\"eventName\"] = typhoon_names                     \n",
    "            json_file_path = fc.Output_folder  + typhoon_names+ f'_{layer}' + '.json'\n",
    "            with open(json_file_path, 'w') as fp:\n",
    "                json.dump(exposure_data, fp)\n",
    "            \n",
    "        #upload typhoon data      \n",
    "        json_path = fc.Output_folder  + typhoon_names\n",
    "        fc.db.uploadTyphoonData_no_event()  \n",
    "                    \n",
    "\n",
    "print('---------------------AUTOMATION SCRIPT FINISHED---------------------------------')\n",
    "print(str(datetime.now()))"
   ]
  },
  {
   "cell_type": "code",
   "execution_count": null,
   "metadata": {},
   "outputs": [],
   "source": [
    "def set_zeros(x):\n",
    "    x_max = 35\n",
    "    y_max = 100\n",
    "    v_max = x[0]\n",
    "    rainfall_max = x[1]\n",
    "    damage = x[2]\n",
    "    Growth_factor=x[3]\n",
    "    if pd.notnull(damage) and v_max > 20:\n",
    "        value = damage/Growth_factor\n",
    "    #elif v_max > x_max or rainfall_max > y_max:\n",
    "    #    value = damage/Growth_factor\n",
    "    elif v_max < 20:#np.sqrt((1 - (rainfall_max**2 / y_max*y_max)) * x_max**2):\n",
    "        value = 0\n",
    "    # elif ((v_max < x_max)  and  (rainfall_max_6h < y_max) ):\n",
    "    # elif (v_max < x_max ):\n",
    "    # value = 0\n",
    "    else:\n",
    "        value = np.nan\n",
    "    return value"
   ]
  },
  {
   "cell_type": "code",
   "execution_count": 21,
   "metadata": {},
   "outputs": [
    {
     "data": {
      "text/html": [
       "<div>\n",
       "<style scoped>\n",
       "    .dataframe tbody tr th:only-of-type {\n",
       "        vertical-align: middle;\n",
       "    }\n",
       "\n",
       "    .dataframe tbody tr th {\n",
       "        vertical-align: top;\n",
       "    }\n",
       "\n",
       "    .dataframe thead th {\n",
       "        text-align: right;\n",
       "    }\n",
       "</style>\n",
       "<table border=\"1\" class=\"dataframe\">\n",
       "  <thead>\n",
       "    <tr style=\"text-align: right;\">\n",
       "      <th></th>\n",
       "      <th>name</th>\n",
       "      <th>toy</th>\n",
       "      <th>born</th>\n",
       "    </tr>\n",
       "  </thead>\n",
       "  <tbody>\n",
       "    <tr>\n",
       "      <th>0</th>\n",
       "      <td>Alfred</td>\n",
       "      <td>NaN</td>\n",
       "      <td>NaT</td>\n",
       "    </tr>\n",
       "    <tr>\n",
       "      <th>1</th>\n",
       "      <td>Batman</td>\n",
       "      <td>Batmobile</td>\n",
       "      <td>1940-04-25</td>\n",
       "    </tr>\n",
       "    <tr>\n",
       "      <th>2</th>\n",
       "      <td>Catwoman</td>\n",
       "      <td>Bullwhip</td>\n",
       "      <td>NaT</td>\n",
       "    </tr>\n",
       "  </tbody>\n",
       "</table>\n",
       "</div>"
      ],
      "text/plain": [
       "       name        toy       born\n",
       "0    Alfred        NaN        NaT\n",
       "1    Batman  Batmobile 1940-04-25\n",
       "2  Catwoman   Bullwhip        NaT"
      ]
     },
     "execution_count": 21,
     "metadata": {},
     "output_type": "execute_result"
    }
   ],
   "source": [
    "df = pd.DataFrame({\"name\": ['Alfred', 'Batman', 'Catwoman'],\n",
    "                   \"toy\": [np.nan, 'Batmobile', 'Bullwhip'],\n",
    "                   \"born\": [pd.NaT, pd.Timestamp(\"1940-04-25\"),\n",
    "                            pd.NaT]})\n",
    " \n",
    "df"
   ]
  },
  {
   "cell_type": "code",
   "execution_count": 20,
   "metadata": {},
   "outputs": [
    {
     "data": {
      "text/html": [
       "<div>\n",
       "<style scoped>\n",
       "    .dataframe tbody tr th:only-of-type {\n",
       "        vertical-align: middle;\n",
       "    }\n",
       "\n",
       "    .dataframe tbody tr th {\n",
       "        vertical-align: top;\n",
       "    }\n",
       "\n",
       "    .dataframe thead th {\n",
       "        text-align: right;\n",
       "    }\n",
       "</style>\n",
       "<table border=\"1\" class=\"dataframe\">\n",
       "  <thead>\n",
       "    <tr style=\"text-align: right;\">\n",
       "      <th></th>\n",
       "      <th>name</th>\n",
       "      <th>toy</th>\n",
       "      <th>born</th>\n",
       "    </tr>\n",
       "  </thead>\n",
       "  <tbody>\n",
       "    <tr>\n",
       "      <th>1</th>\n",
       "      <td>Batman</td>\n",
       "      <td>Batmobile</td>\n",
       "      <td>1940-04-25</td>\n",
       "    </tr>\n",
       "  </tbody>\n",
       "</table>\n",
       "</div>"
      ],
      "text/plain": [
       "     name        toy       born\n",
       "1  Batman  Batmobile 1940-04-25"
      ]
     },
     "execution_count": 20,
     "metadata": {},
     "output_type": "execute_result"
    }
   ],
   "source": [
    "df = pd.DataFrame({\"name\": ['Alfred', 'Batman', 'Catwoman'],\n",
    "                   \"toy\": [np.nan, 'Batmobile', 'Bullwhip'],\n",
    "                   \"born\": [pd.NaT, pd.Timestamp(\"1940-04-25\"),\n",
    "                            pd.NaT]})\n",
    "df.dropna(inplace=True)\n",
    "df"
   ]
  },
  {
   "cell_type": "code",
   "execution_count": null,
   "metadata": {},
   "outputs": [],
   "source": [
    "combined_input_data = pd.read_csv(ML_model_input)\n",
    " "
   ]
  },
  {
   "cell_type": "code",
   "execution_count": null,
   "metadata": {},
   "outputs": [],
   "source": [
    "def model(df_total):\n",
    "    from sklearn.model_selection import (\n",
    "        GridSearchCV,\n",
    "        RandomizedSearchCV,\n",
    "        StratifiedKFold,\n",
    "        train_test_split,\n",
    "        KFold)\n",
    "    from sklearn.metrics import (\n",
    "        mean_absolute_error, \n",
    "        mean_squared_error,\n",
    "        recall_score,\n",
    "        f1_score,\n",
    "        precision_score,\n",
    "        confusion_matrix,\n",
    "        make_scorer)\n",
    "    from sklearn.inspection import permutation_importance\n",
    "    from sklearn.linear_model import LinearRegression\n",
    "    from sklearn.ensemble import RandomForestClassifier, RandomForestRegressor\n",
    "\n",
    "    from xgboost.sklearn import XGBRegressor\n",
    "    import xgboost as xgb\n",
    "\n",
    "    \n",
    "    combined_input_data = pd.read_csv(ML_model_input)\n",
    "    tphoon_events = (\n",
    "        combined_input_data[[\"typhoon\", \"DAM_perc_dmg\"]]\n",
    "        .groupby(\"typhoon\")\n",
    "        .size()\n",
    "        .to_dict()\n",
    "    )\n",
    "    \n",
    "    # number of house used here is form 2015 need correction factor based on annual growth rate of 1.4%\n",
    "    combined_input_data['year']=combined_input_data['typhoon'].apply(lambda x:x[-4:])\n",
    "\n",
    "    Housing_unit_correction={'year':['2006','2007','2008','2009','2010','2011','2012','2013','2014','2015','2016','2017','2018','2019','2020','2021','2022'],\n",
    "                            'facor':[0.88,0.89,0.91,0.92,0.93,0.95,0.96,0.97,0.99,1.00,1.01,1.03,1.04,1.06,1.07,1.09,1.10]}\n",
    "\n",
    "\n",
    "    Housing_unit_correction=pd.DataFrame.from_dict(Housing_unit_correction)\n",
    "    combined_input_data = pd.merge(combined_input_data, Housing_unit_correction,  how='left', left_on='year', right_on ='year')\n",
    "\n",
    "    combined_input_data[\"DAM_perc_dmg\"] = combined_input_data[[\"HAZ_v_max\", \"HAZ_rainfall_Total\", \"DAM_perc_dmg\",\"facor\"] ].apply(set_zeros, axis=\"columns\")\n",
    "    \n",
    "    combined_input_data[\"HAZ_v_max_sq\"]=combined_input_data[\"HAZ_v_max\"].pow(2)\n",
    "    df_total[\"HAZ_v_max_sq\"]=df_total[\"HAZ_v_max\"].pow(2)\n",
    "    selected_features_xgb_regr = [\n",
    "        \"HAZ_v_max\",\n",
    "        #\"HAZ_v_max_sq\",\n",
    "        #\"HAZ_rainfall_max_24h\", \n",
    "        'HAZ_rainfall_Total',           \n",
    "        \"HAZ_dis_track_min\",\n",
    "        \"TOP_mean_slope\",\n",
    "        \"TOP_mean_elevation_m\",\n",
    "        \"TOP_ruggedness_stdev\",\n",
    "        \"TOP_mean_ruggedness\",\n",
    "        \"TOP_slope_stdev\",\n",
    "        \"VUL_poverty_perc\",\n",
    "        \"GEN_with_coast\",\n",
    "        \"VUL_Housing_Units\",\n",
    "        \"VUL_StrongRoof_StrongWall\",\n",
    "        \"VUL_StrongRoof_LightWall\",\n",
    "        \"VUL_StrongRoof_SalvageWall\",\n",
    "        \"VUL_LightRoof_StrongWall\",\n",
    "        \"VUL_LightRoof_LightWall\",\n",
    "        \"VUL_SalvagedRoof_StrongWall\",\n",
    "        \"VUL_SalvagedRoof_LightWall\",\n",
    "        \"VUL_SalvagedRoof_SalvageWall\",\n",
    "        \"VUL_vulnerable_groups\",\n",
    "        \"VUL_pantawid_pamilya_beneficiary\",\n",
    "    ]\n",
    "\n",
    "    # split data into train and test sets\n",
    "\n",
    "    SEED2 = 314159265\n",
    "    SEED = 31\n",
    "\n",
    "    test_size = 0.1\n",
    "\n",
    "    # Full dataset for feature selection\n",
    "\n",
    "    combined_input_data_ = combined_input_data[\n",
    "        combined_input_data[\"DAM_perc_dmg\"].notnull()\n",
    "    ]\n",
    "\n",
    "    X = combined_input_data_[selected_features_xgb_regr]\n",
    "    y = combined_input_data_[\"DAM_perc_dmg\"]\n",
    "\n",
    "    X_train, X_test, y_train, y_test = train_test_split(\n",
    "        X, y, test_size=test_size, random_state=SEED\n",
    "    )\n",
    "    # from sklearn.metrics import mean_absolute_error\n",
    "    reg = xgb.XGBRegressor(\n",
    "        base_score=0.5,\n",
    "        booster=\"gbtree\",\n",
    "        subsample=0.8,\n",
    "        eta=0.05,\n",
    "        max_depth=8,\n",
    "        colsample_bylevel=1,\n",
    "        colsample_bynode=1,\n",
    "        colsample_bytree=1,\n",
    "        early_stopping_rounds=10,\n",
    "        eval_metric=mean_absolute_error,\n",
    "        gamma=1,\n",
    "        objective=\"reg:squarederror\",\n",
    "        gpu_id=-1,\n",
    "        grow_policy=\"depthwise\",\n",
    "        learning_rate=0.025,\n",
    "        min_child_weight=1,\n",
    "        n_estimators=100,\n",
    "        random_state=42,\n",
    "        tree_method=\"hist\",\n",
    "    )\n",
    "\n",
    "    eval_set = [(X_train, y_train), (X_test, y_test)]\n",
    "    from matplotlib import pyplot\n",
    "    from xgboost import plot_importance\n",
    "\n",
    "    reg.fit(X, y, eval_set=eval_set)\n",
    "    plot_importance(reg)\n",
    "    pyplot.show()\n",
    "    X_all = df_total[selected_features_xgb_regr]\n",
    "    y_pred = reg.predict(X_all)\n",
    "    y_pred1 = reg.predict(X)\n",
    "    df_total['Damage_predicted']=y_pred\n",
    "    combined_input_data_['Damage_predicted']=y_pred1\n",
    "    df_total.loc[df_total['HAZ_dis_track_min'] > 150, 'Damage_predicted'] = 0\n",
    "    \n",
    "    return df_total#.filter([\"Damage_predicted\", \"Mun_Code\", \"storm_id\", \"HAZ_dis_track_min\",\"HAZ_v_max\",\"is_ensamble\"])"
   ]
  },
  {
   "cell_type": "code",
   "execution_count": null,
   "metadata": {},
   "outputs": [],
   "source": [
    "pre_disaster_inds = pd.read_csv(PRE_DISASTER_INDICATORS)\n",
    "pre_disaster_inds[\"vulnerable_groups\"] = (\n",
    "    pre_disaster_inds[\"vulnerable_groups\"]\n",
    "    .div(0.01 * pre_disaster_inds[\"Total Pop\"], axis=0)\n",
    "    .values\n",
    ")\n",
    "pre_disaster_inds[\"pantawid_pamilya_beneficiary\"] = (\n",
    "    pre_disaster_inds[\"pantawid_total_pop\"]\n",
    "    .div(0.01 * pre_disaster_inds[\"Total Pop\"], axis=0)\n",
    "    .values\n",
    ")\n",
    "pre_disaster_inds.rename(\n",
    "    columns={\n",
    "        \"landslide_per\": \"GEN_landslide_per\",\n",
    "        \"stormsurge_per\": \"GEN_stormsurge_per\",\n",
    "        \"Bu_p_inSSA\": \"GEN_Bu_p_inSSA\",\n",
    "        \"Bu_p_LS\": \"GEN_Bu_p_LS\",\n",
    "        \"Red_per_LSbldg\": \"GEN_Red_per_LSbldg\",\n",
    "        \"Or_per_LSblg\": \"GEN_Or_per_LSblg\",\n",
    "        \"Yel_per_LSSAb\": \"GEN_Yel_per_LSSAb\",\n",
    "        \"RED_per_SSAbldg\": \"GEN_RED_per_SSAbldg\",\n",
    "        \"OR_per_SSAbldg\": \"GEN_OR_per_SSAbldg\",\n",
    "        \"Yellow_per_LSbl\": \"GEN_Yellow_per_LSbl\",\n",
    "        \"mean_slope\": \"TOP_mean_slope\",\n",
    "        \"mean_elevation_m\": \"TOP_mean_elevation_m\",\n",
    "        \"ruggedness_stdev\": \"TOP_ruggedness_stdev\",\n",
    "        \"mean_ruggedness\": \"TOP_mean_ruggedness\",\n",
    "        \"slope_stdev\": \"TOP_slope_stdev\",\n",
    "        \"poverty_perc\": \"VUL_poverty_perc\",\n",
    "        \"with_coast\": \"GEN_with_coast\",\n",
    "        \"coast_length\": \"GEN_coast_length\",\n",
    "        \"Housing Units\": \"VUL_Housing_Units\",\n",
    "        \"Strong Roof/Strong Wall\": \"VUL_StrongRoof_StrongWall\",\n",
    "        \"Strong Roof/Light Wall\": \"VUL_StrongRoof_LightWall\",\n",
    "        \"Strong Roof/Salvage Wall\": \"VUL_StrongRoof_SalvageWall\",\n",
    "        \"Light Roof/Strong Wall\": \"VUL_LightRoof_StrongWall\",\n",
    "        \"Light Roof/Light Wall\": \"VUL_LightRoof_LightWall\",\n",
    "        \"Light Roof/Salvage Wall\": \"VUL_LightRoof_SalvageWall\",\n",
    "        \"Salvaged Roof/Strong Wall\": \"VUL_SalvagedRoof_StrongWall\",\n",
    "        \"Salvaged Roof/Light Wall\": \"VUL_SalvagedRoof_LightWall\",\n",
    "        \"Salvaged Roof/Salvage Wall\": \"VUL_SalvagedRoof_SalvageWall\",\n",
    "        \"vulnerable_groups\": \"VUL_vulnerable_groups\",\n",
    "        \"pantawid_pamilya_beneficiary\": \"VUL_pantawid_pamilya_beneficiary\",\n",
    "    },\n",
    "    inplace=True,\n",
    ")\n",
    " "
   ]
  }
 ],
 "metadata": {
  "kernelspec": {
   "display_name": "Python 3.8.10 ('geo_env')",
   "language": "python",
   "name": "python3"
  },
  "language_info": {
   "codemirror_mode": {
    "name": "ipython",
    "version": 3
   },
   "file_extension": ".py",
   "mimetype": "text/x-python",
   "name": "python",
   "nbconvert_exporter": "python",
   "pygments_lexer": "ipython3",
   "version": "3.8.10"
  },
  "orig_nbformat": 4,
  "vscode": {
   "interpreter": {
    "hash": "c56dc72bed4e123c21144b1399355bbd07b8d587f6360d6b6ea22ee2ab335a35"
   }
  }
 },
 "nbformat": 4,
 "nbformat_minor": 2
}
